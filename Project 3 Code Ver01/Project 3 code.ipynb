{
 "cells": [
  {
   "cell_type": "markdown",
   "id": "476ed981-615f-4150-b06c-97ea875c0dc7",
   "metadata": {},
   "source": [
    "# Food Demand of Guatemala ——Team George Washington Carver"
   ]
  },
  {
   "cell_type": "code",
   "execution_count": 10,
   "id": "4b43cbc9-fef0-4258-8ac5-d8c4f8cc39de",
   "metadata": {},
   "outputs": [
    {
     "name": "stdout",
     "output_type": "stream",
     "text": [
      "Requirement already satisfied: Pint>=0.8.1 in /srv/conda/lib/python3.9/site-packages (from -r requirements.txt (line 2)) (0.17)\n",
      "Requirement already satisfied: numpy>=1.15.0 in /srv/conda/lib/python3.9/site-packages (from -r requirements.txt (line 6)) (1.22.4)\n",
      "Requirement already satisfied: pandas>=0.23.3 in /srv/conda/lib/python3.9/site-packages (from -r requirements.txt (line 11)) (2.2.1)\n",
      "Requirement already satisfied: requests>=2.20.0 in /srv/conda/lib/python3.9/site-packages (from -r requirements.txt (line 15)) (2.31.0)\n",
      "Requirement already satisfied: scipy>=1.1.0 in /srv/conda/lib/python3.9/site-packages (from -r requirements.txt (line 18)) (1.10.0)\n",
      "Requirement already satisfied: gspread in /srv/conda/lib/python3.9/site-packages (from -r requirements.txt (line 20)) (4.0.1)\n",
      "Requirement already satisfied: gspread_pandas in /srv/conda/lib/python3.9/site-packages (from -r requirements.txt (line 22)) (2.3.0)\n",
      "Requirement already satisfied: bottleneck>=1.3.6 in /srv/conda/lib/python3.9/site-packages (from -r requirements.txt (line 24)) (1.3.8)\n",
      "Requirement already satisfied: eep153_tools in /srv/conda/lib/python3.9/site-packages (from -r requirements.txt (line 26)) (0.12.3)\n",
      "Requirement already satisfied: fooddatacentral in /srv/conda/lib/python3.9/site-packages (from -r requirements.txt (line 28)) (1.0.10)\n",
      "Requirement already satisfied: packaging in /srv/conda/lib/python3.9/site-packages (from Pint>=0.8.1->-r requirements.txt (line 2)) (24.0)\n",
      "Requirement already satisfied: pytz>=2020.1 in /srv/conda/lib/python3.9/site-packages (from pandas>=0.23.3->-r requirements.txt (line 11)) (2024.1)\n",
      "Requirement already satisfied: python-dateutil>=2.8.2 in /srv/conda/lib/python3.9/site-packages (from pandas>=0.23.3->-r requirements.txt (line 11)) (2.9.0)\n",
      "Requirement already satisfied: tzdata>=2022.7 in /srv/conda/lib/python3.9/site-packages (from pandas>=0.23.3->-r requirements.txt (line 11)) (2024.1)\n",
      "Requirement already satisfied: certifi>=2017.4.17 in /srv/conda/lib/python3.9/site-packages (from requests>=2.20.0->-r requirements.txt (line 15)) (2022.12.7)\n",
      "Requirement already satisfied: urllib3<3,>=1.21.1 in /srv/conda/lib/python3.9/site-packages (from requests>=2.20.0->-r requirements.txt (line 15)) (1.26.15)\n",
      "Requirement already satisfied: charset-normalizer<4,>=2 in /srv/conda/lib/python3.9/site-packages (from requests>=2.20.0->-r requirements.txt (line 15)) (3.1.0)\n",
      "Requirement already satisfied: idna<4,>=2.5 in /srv/conda/lib/python3.9/site-packages (from requests>=2.20.0->-r requirements.txt (line 15)) (3.4)\n",
      "Requirement already satisfied: google-auth-oauthlib>=0.4.1 in /srv/conda/lib/python3.9/site-packages (from gspread->-r requirements.txt (line 20)) (0.4.5)\n",
      "Requirement already satisfied: google-auth>=1.12.0 in /srv/conda/lib/python3.9/site-packages (from gspread->-r requirements.txt (line 20)) (2.29.0)\n",
      "Requirement already satisfied: decorator in /srv/conda/lib/python3.9/site-packages (from gspread_pandas->-r requirements.txt (line 22)) (5.0.9)\n",
      "Requirement already satisfied: six in /srv/conda/lib/python3.9/site-packages (from gspread_pandas->-r requirements.txt (line 22)) (1.16.0)\n",
      "Requirement already satisfied: rsa<5,>=3.1.4 in /srv/conda/lib/python3.9/site-packages (from google-auth>=1.12.0->gspread->-r requirements.txt (line 20)) (4.9)\n",
      "Requirement already satisfied: cachetools<6.0,>=2.0.0 in /srv/conda/lib/python3.9/site-packages (from google-auth>=1.12.0->gspread->-r requirements.txt (line 20)) (5.3.3)\n",
      "Requirement already satisfied: pyasn1-modules>=0.2.1 in /srv/conda/lib/python3.9/site-packages (from google-auth>=1.12.0->gspread->-r requirements.txt (line 20)) (0.3.0)\n",
      "Requirement already satisfied: requests-oauthlib>=0.7.0 in /srv/conda/lib/python3.9/site-packages (from google-auth-oauthlib>=0.4.1->gspread->-r requirements.txt (line 20)) (1.4.0)\n",
      "Requirement already satisfied: pyasn1<0.6.0,>=0.4.6 in /srv/conda/lib/python3.9/site-packages (from pyasn1-modules>=0.2.1->google-auth>=1.12.0->gspread->-r requirements.txt (line 20)) (0.5.1)\n",
      "Requirement already satisfied: oauthlib>=3.0.0 in /srv/conda/lib/python3.9/site-packages (from requests-oauthlib>=0.7.0->google-auth-oauthlib>=0.4.1->gspread->-r requirements.txt (line 20)) (3.2.2)\n"
     ]
    }
   ],
   "source": [
    "!pip install -r requirements.txt"
   ]
  },
  {
   "cell_type": "code",
   "execution_count": 3,
   "id": "ded680f9-7921-4ce7-b291-315e109e6d5c",
   "metadata": {},
   "outputs": [
    {
     "name": "stdout",
     "output_type": "stream",
     "text": [
      "Requirement already satisfied: python-gnupg in /srv/conda/lib/python3.9/site-packages (0.5.2)\n",
      "Requirement already satisfied: eep153_tools in /srv/conda/lib/python3.9/site-packages (0.12.4)\n"
     ]
    }
   ],
   "source": [
    "!pip install python-gnupg \n",
    "!pip install eep153_tools --upgrade"
   ]
  },
  {
   "cell_type": "code",
   "execution_count": 55,
   "id": "7ab53761-d259-436f-8486-ba3bc567bc0f",
   "metadata": {},
   "outputs": [
    {
     "name": "stdout",
     "output_type": "stream",
     "text": [
      "Collecting cufflinks\n",
      "  Using cached cufflinks-0.17.3-py3-none-any.whl\n",
      "Requirement already satisfied: numpy>=1.9.2 in /srv/conda/lib/python3.9/site-packages (from cufflinks) (1.26.4)\n",
      "Collecting colorlover>=0.2.1\n",
      "  Using cached colorlover-0.3.0-py3-none-any.whl (8.9 kB)\n",
      "Requirement already satisfied: ipywidgets>=7.0.0 in /srv/conda/lib/python3.9/site-packages (from cufflinks) (8.0.7)\n",
      "Requirement already satisfied: setuptools>=34.4.1 in /srv/conda/lib/python3.9/site-packages (from cufflinks) (59.8.0)\n",
      "Requirement already satisfied: plotly>=4.1.1 in /srv/conda/lib/python3.9/site-packages (from cufflinks) (5.19.0)\n",
      "Requirement already satisfied: six>=1.9.0 in /srv/conda/lib/python3.9/site-packages (from cufflinks) (1.16.0)\n",
      "Requirement already satisfied: pandas>=0.19.2 in /srv/conda/lib/python3.9/site-packages (from cufflinks) (2.2.1)\n",
      "Requirement already satisfied: ipython>=5.3.0 in /srv/conda/lib/python3.9/site-packages (from cufflinks) (8.18.1)\n",
      "Requirement already satisfied: jedi>=0.16 in /srv/conda/lib/python3.9/site-packages (from ipython>=5.3.0->cufflinks) (0.19.1)\n",
      "Requirement already satisfied: stack-data in /srv/conda/lib/python3.9/site-packages (from ipython>=5.3.0->cufflinks) (0.6.2)\n",
      "Requirement already satisfied: pexpect>4.3 in /srv/conda/lib/python3.9/site-packages (from ipython>=5.3.0->cufflinks) (4.9.0)\n",
      "Requirement already satisfied: pygments>=2.4.0 in /srv/conda/lib/python3.9/site-packages (from ipython>=5.3.0->cufflinks) (2.17.2)\n",
      "Requirement already satisfied: decorator in /srv/conda/lib/python3.9/site-packages (from ipython>=5.3.0->cufflinks) (5.0.9)\n",
      "Requirement already satisfied: typing-extensions in /srv/conda/lib/python3.9/site-packages (from ipython>=5.3.0->cufflinks) (4.10.0)\n",
      "Requirement already satisfied: exceptiongroup in /srv/conda/lib/python3.9/site-packages (from ipython>=5.3.0->cufflinks) (1.2.0)\n",
      "Requirement already satisfied: prompt-toolkit<3.1.0,>=3.0.41 in /srv/conda/lib/python3.9/site-packages (from ipython>=5.3.0->cufflinks) (3.0.42)\n",
      "Requirement already satisfied: traitlets>=5 in /srv/conda/lib/python3.9/site-packages (from ipython>=5.3.0->cufflinks) (5.9.0)\n",
      "Requirement already satisfied: matplotlib-inline in /srv/conda/lib/python3.9/site-packages (from ipython>=5.3.0->cufflinks) (0.1.6)\n",
      "Requirement already satisfied: widgetsnbextension~=4.0.7 in /srv/conda/lib/python3.9/site-packages (from ipywidgets>=7.0.0->cufflinks) (4.0.10)\n",
      "Requirement already satisfied: ipykernel>=4.5.1 in /srv/conda/lib/python3.9/site-packages (from ipywidgets>=7.0.0->cufflinks) (6.19.4)\n",
      "Requirement already satisfied: jupyterlab-widgets~=3.0.7 in /srv/conda/lib/python3.9/site-packages (from ipywidgets>=7.0.0->cufflinks) (3.0.10)\n",
      "Requirement already satisfied: python-dateutil>=2.8.2 in /srv/conda/lib/python3.9/site-packages (from pandas>=0.19.2->cufflinks) (2.9.0)\n",
      "Requirement already satisfied: pytz>=2020.1 in /srv/conda/lib/python3.9/site-packages (from pandas>=0.19.2->cufflinks) (2024.1)\n",
      "Requirement already satisfied: tzdata>=2022.7 in /srv/conda/lib/python3.9/site-packages (from pandas>=0.19.2->cufflinks) (2024.1)\n",
      "Requirement already satisfied: packaging in /srv/conda/lib/python3.9/site-packages (from plotly>=4.1.1->cufflinks) (24.0)\n",
      "Requirement already satisfied: tenacity>=6.2.0 in /srv/conda/lib/python3.9/site-packages (from plotly>=4.1.1->cufflinks) (8.2.3)\n",
      "Requirement already satisfied: tornado>=6.1 in /srv/conda/lib/python3.9/site-packages (from ipykernel>=4.5.1->ipywidgets>=7.0.0->cufflinks) (6.4)\n",
      "Requirement already satisfied: comm>=0.1.1 in /srv/conda/lib/python3.9/site-packages (from ipykernel>=4.5.1->ipywidgets>=7.0.0->cufflinks) (0.2.2)\n",
      "Requirement already satisfied: debugpy>=1.0 in /srv/conda/lib/python3.9/site-packages (from ipykernel>=4.5.1->ipywidgets>=7.0.0->cufflinks) (1.8.1)\n",
      "Requirement already satisfied: nest-asyncio in /srv/conda/lib/python3.9/site-packages (from ipykernel>=4.5.1->ipywidgets>=7.0.0->cufflinks) (1.6.0)\n",
      "Requirement already satisfied: jupyter-client>=6.1.12 in /srv/conda/lib/python3.9/site-packages (from ipykernel>=4.5.1->ipywidgets>=7.0.0->cufflinks) (8.6.1)\n",
      "Requirement already satisfied: psutil in /srv/conda/lib/python3.9/site-packages (from ipykernel>=4.5.1->ipywidgets>=7.0.0->cufflinks) (5.9.8)\n",
      "Requirement already satisfied: pyzmq>=17 in /srv/conda/lib/python3.9/site-packages (from ipykernel>=4.5.1->ipywidgets>=7.0.0->cufflinks) (25.1.2)\n",
      "Requirement already satisfied: parso<0.9.0,>=0.8.3 in /srv/conda/lib/python3.9/site-packages (from jedi>=0.16->ipython>=5.3.0->cufflinks) (0.8.3)\n",
      "Requirement already satisfied: ptyprocess>=0.5 in /srv/conda/lib/python3.9/site-packages (from pexpect>4.3->ipython>=5.3.0->cufflinks) (0.7.0)\n",
      "Requirement already satisfied: wcwidth in /srv/conda/lib/python3.9/site-packages (from prompt-toolkit<3.1.0,>=3.0.41->ipython>=5.3.0->cufflinks) (0.2.13)\n",
      "Requirement already satisfied: executing>=1.2.0 in /srv/conda/lib/python3.9/site-packages (from stack-data->ipython>=5.3.0->cufflinks) (2.0.1)\n",
      "Requirement already satisfied: pure-eval in /srv/conda/lib/python3.9/site-packages (from stack-data->ipython>=5.3.0->cufflinks) (0.2.2)\n",
      "Requirement already satisfied: asttokens>=2.1.0 in /srv/conda/lib/python3.9/site-packages (from stack-data->ipython>=5.3.0->cufflinks) (2.4.1)\n",
      "Requirement already satisfied: jupyter-core!=5.0.*,>=4.12 in /srv/conda/lib/python3.9/site-packages (from jupyter-client>=6.1.12->ipykernel>=4.5.1->ipywidgets>=7.0.0->cufflinks) (5.7.2)\n",
      "Requirement already satisfied: importlib-metadata>=4.8.3 in /srv/conda/lib/python3.9/site-packages (from jupyter-client>=6.1.12->ipykernel>=4.5.1->ipywidgets>=7.0.0->cufflinks) (7.1.0)\n",
      "Requirement already satisfied: zipp>=0.5 in /srv/conda/lib/python3.9/site-packages (from importlib-metadata>=4.8.3->jupyter-client>=6.1.12->ipykernel>=4.5.1->ipywidgets>=7.0.0->cufflinks) (3.17.0)\n",
      "Requirement already satisfied: platformdirs>=2.5 in /srv/conda/lib/python3.9/site-packages (from jupyter-core!=5.0.*,>=4.12->jupyter-client>=6.1.12->ipykernel>=4.5.1->ipywidgets>=7.0.0->cufflinks) (3.11.0)\n",
      "Installing collected packages: colorlover, cufflinks\n",
      "Successfully installed colorlover-0.3.0 cufflinks-0.17.3\n"
     ]
    }
   ],
   "source": [
    "!pip install cufflinks"
   ]
  },
  {
   "cell_type": "code",
   "execution_count": 4,
   "id": "651ba01e-09b4-4326-8a2e-4b50723d0e30",
   "metadata": {},
   "outputs": [],
   "source": [
    "import pandas as pd\n",
    "import numpy as np\n",
    "from eep153_tools.sheets import read_sheets"
   ]
  },
  {
   "cell_type": "markdown",
   "id": "58700e85-18ab-4131-a9bd-9176ef71fe00",
   "metadata": {},
   "source": [
    "## Data"
   ]
  },
  {
   "cell_type": "markdown",
   "id": "38623d20-678e-4af3-a905-dcce4e487df2",
   "metadata": {},
   "source": [
    "We edit the dataset from Ed, Guatemala: https://docs.google.com/spreadsheets/d/1YupX14TogoubSrlHtG9OgfBdKUhsss29L63mcNDNCUo/\n",
    "We begin by defining a dictionary that contains the spreadsheet key."
   ]
  },
  {
   "cell_type": "code",
   "execution_count": 15,
   "id": "f197857a-b2e4-428d-a5a2-a29c14b15151",
   "metadata": {},
   "outputs": [],
   "source": [
    "Guatemala = '1YupX14TogoubSrlHtG9OgfBdKUhsss29L63mcNDNCUo'"
   ]
  },
  {
   "cell_type": "code",
   "execution_count": 16,
   "id": "2967475c-dd4c-4a7b-8e25-089ee83e29f0",
   "metadata": {},
   "outputs": [
    {
     "data": {
      "text/html": [
       "<div>\n",
       "<style scoped>\n",
       "    .dataframe tbody tr th:only-of-type {\n",
       "        vertical-align: middle;\n",
       "    }\n",
       "\n",
       "    .dataframe tbody tr th {\n",
       "        vertical-align: top;\n",
       "    }\n",
       "\n",
       "    .dataframe thead th {\n",
       "        text-align: right;\n",
       "    }\n",
       "</style>\n",
       "<table border=\"1\" class=\"dataframe\">\n",
       "  <thead>\n",
       "    <tr style=\"text-align: right;\">\n",
       "      <th>j</th>\n",
       "      <th>i</th>\n",
       "      <th>t</th>\n",
       "      <th>m</th>\n",
       "      <th>Cooking Oil</th>\n",
       "      <th>Water (bottle)</th>\n",
       "      <th>Avocado</th>\n",
       "      <th>Mineral Water</th>\n",
       "      <th>Garlic</th>\n",
       "      <th>Mushrooms</th>\n",
       "      <th>Celery</th>\n",
       "      <th>...</th>\n",
       "      <th>Tea</th>\n",
       "      <th>Tomatoes</th>\n",
       "      <th>Tortillas</th>\n",
       "      <th>Tostadas</th>\n",
       "      <th>Beef Entrails</th>\n",
       "      <th>Chicken Giblets</th>\n",
       "      <th>Yogurt</th>\n",
       "      <th>Yucca</th>\n",
       "      <th>Carrots</th>\n",
       "      <th>Leafcutter Ants and Other Insect</th>\n",
       "    </tr>\n",
       "  </thead>\n",
       "  <tbody>\n",
       "    <tr>\n",
       "      <th>0</th>\n",
       "      <td>1</td>\n",
       "      <td>2000</td>\n",
       "      <td>Metropolitana</td>\n",
       "      <td>7.5</td>\n",
       "      <td>20.0</td>\n",
       "      <td>5.0</td>\n",
       "      <td>6.00</td>\n",
       "      <td>1.00</td>\n",
       "      <td>NaN</td>\n",
       "      <td>2.0</td>\n",
       "      <td>...</td>\n",
       "      <td>7.0</td>\n",
       "      <td>9.0</td>\n",
       "      <td>60.0</td>\n",
       "      <td>NaN</td>\n",
       "      <td>NaN</td>\n",
       "      <td>21.0</td>\n",
       "      <td>NaN</td>\n",
       "      <td>NaN</td>\n",
       "      <td>3.6</td>\n",
       "      <td>NaN</td>\n",
       "    </tr>\n",
       "    <tr>\n",
       "      <th>1</th>\n",
       "      <td>10</td>\n",
       "      <td>2000</td>\n",
       "      <td>Metropolitana</td>\n",
       "      <td>15.0</td>\n",
       "      <td>15.0</td>\n",
       "      <td>30.0</td>\n",
       "      <td>NaN</td>\n",
       "      <td>2.00</td>\n",
       "      <td>20.0</td>\n",
       "      <td>2.0</td>\n",
       "      <td>...</td>\n",
       "      <td>8.5</td>\n",
       "      <td>14.0</td>\n",
       "      <td>30.0</td>\n",
       "      <td>NaN</td>\n",
       "      <td>30.0</td>\n",
       "      <td>12.5</td>\n",
       "      <td>NaN</td>\n",
       "      <td>NaN</td>\n",
       "      <td>7.5</td>\n",
       "      <td>NaN</td>\n",
       "    </tr>\n",
       "    <tr>\n",
       "      <th>2</th>\n",
       "      <td>100</td>\n",
       "      <td>2000</td>\n",
       "      <td>Metropolitana</td>\n",
       "      <td>13.0</td>\n",
       "      <td>10.5</td>\n",
       "      <td>NaN</td>\n",
       "      <td>16.00</td>\n",
       "      <td>0.25</td>\n",
       "      <td>NaN</td>\n",
       "      <td>2.0</td>\n",
       "      <td>...</td>\n",
       "      <td>NaN</td>\n",
       "      <td>2.5</td>\n",
       "      <td>4.0</td>\n",
       "      <td>NaN</td>\n",
       "      <td>16.0</td>\n",
       "      <td>NaN</td>\n",
       "      <td>NaN</td>\n",
       "      <td>NaN</td>\n",
       "      <td>3.0</td>\n",
       "      <td>NaN</td>\n",
       "    </tr>\n",
       "    <tr>\n",
       "      <th>3</th>\n",
       "      <td>1000</td>\n",
       "      <td>2000</td>\n",
       "      <td>Central</td>\n",
       "      <td>9.5</td>\n",
       "      <td>10.0</td>\n",
       "      <td>NaN</td>\n",
       "      <td>NaN</td>\n",
       "      <td>1.50</td>\n",
       "      <td>NaN</td>\n",
       "      <td>1.5</td>\n",
       "      <td>...</td>\n",
       "      <td>NaN</td>\n",
       "      <td>9.0</td>\n",
       "      <td>60.0</td>\n",
       "      <td>NaN</td>\n",
       "      <td>NaN</td>\n",
       "      <td>NaN</td>\n",
       "      <td>NaN</td>\n",
       "      <td>NaN</td>\n",
       "      <td>6.0</td>\n",
       "      <td>NaN</td>\n",
       "    </tr>\n",
       "    <tr>\n",
       "      <th>4</th>\n",
       "      <td>1001</td>\n",
       "      <td>2000</td>\n",
       "      <td>Central</td>\n",
       "      <td>10.0</td>\n",
       "      <td>20.0</td>\n",
       "      <td>5.0</td>\n",
       "      <td>7.75</td>\n",
       "      <td>1.00</td>\n",
       "      <td>NaN</td>\n",
       "      <td>2.0</td>\n",
       "      <td>...</td>\n",
       "      <td>22.0</td>\n",
       "      <td>6.0</td>\n",
       "      <td>37.5</td>\n",
       "      <td>NaN</td>\n",
       "      <td>12.0</td>\n",
       "      <td>NaN</td>\n",
       "      <td>NaN</td>\n",
       "      <td>1.0</td>\n",
       "      <td>3.5</td>\n",
       "      <td>NaN</td>\n",
       "    </tr>\n",
       "    <tr>\n",
       "      <th>...</th>\n",
       "      <td>...</td>\n",
       "      <td>...</td>\n",
       "      <td>...</td>\n",
       "      <td>...</td>\n",
       "      <td>...</td>\n",
       "      <td>...</td>\n",
       "      <td>...</td>\n",
       "      <td>...</td>\n",
       "      <td>...</td>\n",
       "      <td>...</td>\n",
       "      <td>...</td>\n",
       "      <td>...</td>\n",
       "      <td>...</td>\n",
       "      <td>...</td>\n",
       "      <td>...</td>\n",
       "      <td>...</td>\n",
       "      <td>...</td>\n",
       "      <td>...</td>\n",
       "      <td>...</td>\n",
       "      <td>...</td>\n",
       "      <td>...</td>\n",
       "    </tr>\n",
       "    <tr>\n",
       "      <th>7252</th>\n",
       "      <td>995</td>\n",
       "      <td>2000</td>\n",
       "      <td>Central</td>\n",
       "      <td>NaN</td>\n",
       "      <td>NaN</td>\n",
       "      <td>NaN</td>\n",
       "      <td>18.00</td>\n",
       "      <td>NaN</td>\n",
       "      <td>NaN</td>\n",
       "      <td>1.0</td>\n",
       "      <td>...</td>\n",
       "      <td>NaN</td>\n",
       "      <td>2.0</td>\n",
       "      <td>NaN</td>\n",
       "      <td>NaN</td>\n",
       "      <td>NaN</td>\n",
       "      <td>NaN</td>\n",
       "      <td>NaN</td>\n",
       "      <td>NaN</td>\n",
       "      <td>1.0</td>\n",
       "      <td>NaN</td>\n",
       "    </tr>\n",
       "    <tr>\n",
       "      <th>7253</th>\n",
       "      <td>996</td>\n",
       "      <td>2000</td>\n",
       "      <td>Central</td>\n",
       "      <td>13.0</td>\n",
       "      <td>12.0</td>\n",
       "      <td>NaN</td>\n",
       "      <td>12.00</td>\n",
       "      <td>6.00</td>\n",
       "      <td>NaN</td>\n",
       "      <td>2.0</td>\n",
       "      <td>...</td>\n",
       "      <td>NaN</td>\n",
       "      <td>12.0</td>\n",
       "      <td>NaN</td>\n",
       "      <td>NaN</td>\n",
       "      <td>NaN</td>\n",
       "      <td>NaN</td>\n",
       "      <td>NaN</td>\n",
       "      <td>NaN</td>\n",
       "      <td>NaN</td>\n",
       "      <td>NaN</td>\n",
       "    </tr>\n",
       "    <tr>\n",
       "      <th>7254</th>\n",
       "      <td>997</td>\n",
       "      <td>2000</td>\n",
       "      <td>Central</td>\n",
       "      <td>1.5</td>\n",
       "      <td>NaN</td>\n",
       "      <td>NaN</td>\n",
       "      <td>6.50</td>\n",
       "      <td>NaN</td>\n",
       "      <td>NaN</td>\n",
       "      <td>NaN</td>\n",
       "      <td>...</td>\n",
       "      <td>NaN</td>\n",
       "      <td>8.0</td>\n",
       "      <td>30.0</td>\n",
       "      <td>NaN</td>\n",
       "      <td>NaN</td>\n",
       "      <td>NaN</td>\n",
       "      <td>NaN</td>\n",
       "      <td>NaN</td>\n",
       "      <td>NaN</td>\n",
       "      <td>NaN</td>\n",
       "    </tr>\n",
       "    <tr>\n",
       "      <th>7255</th>\n",
       "      <td>998</td>\n",
       "      <td>2000</td>\n",
       "      <td>Central</td>\n",
       "      <td>16.0</td>\n",
       "      <td>37.5</td>\n",
       "      <td>4.0</td>\n",
       "      <td>10.00</td>\n",
       "      <td>0.75</td>\n",
       "      <td>NaN</td>\n",
       "      <td>NaN</td>\n",
       "      <td>...</td>\n",
       "      <td>NaN</td>\n",
       "      <td>9.0</td>\n",
       "      <td>10.0</td>\n",
       "      <td>NaN</td>\n",
       "      <td>NaN</td>\n",
       "      <td>NaN</td>\n",
       "      <td>NaN</td>\n",
       "      <td>2.0</td>\n",
       "      <td>6.0</td>\n",
       "      <td>NaN</td>\n",
       "    </tr>\n",
       "    <tr>\n",
       "      <th>7256</th>\n",
       "      <td>999</td>\n",
       "      <td>2000</td>\n",
       "      <td>Central</td>\n",
       "      <td>16.0</td>\n",
       "      <td>NaN</td>\n",
       "      <td>12.0</td>\n",
       "      <td>36.00</td>\n",
       "      <td>NaN</td>\n",
       "      <td>NaN</td>\n",
       "      <td>2.0</td>\n",
       "      <td>...</td>\n",
       "      <td>NaN</td>\n",
       "      <td>6.0</td>\n",
       "      <td>NaN</td>\n",
       "      <td>NaN</td>\n",
       "      <td>NaN</td>\n",
       "      <td>NaN</td>\n",
       "      <td>NaN</td>\n",
       "      <td>NaN</td>\n",
       "      <td>4.0</td>\n",
       "      <td>NaN</td>\n",
       "    </tr>\n",
       "  </tbody>\n",
       "</table>\n",
       "<p>7257 rows × 99 columns</p>\n",
       "</div>"
      ],
      "text/plain": [
       "j        i     t              m  Cooking Oil  Water (bottle)  Avocado  \\\n",
       "0        1  2000  Metropolitana          7.5            20.0      5.0   \n",
       "1       10  2000  Metropolitana         15.0            15.0     30.0   \n",
       "2      100  2000  Metropolitana         13.0            10.5      NaN   \n",
       "3     1000  2000        Central          9.5            10.0      NaN   \n",
       "4     1001  2000        Central         10.0            20.0      5.0   \n",
       "...    ...   ...            ...          ...             ...      ...   \n",
       "7252   995  2000        Central          NaN             NaN      NaN   \n",
       "7253   996  2000        Central         13.0            12.0      NaN   \n",
       "7254   997  2000        Central          1.5             NaN      NaN   \n",
       "7255   998  2000        Central         16.0            37.5      4.0   \n",
       "7256   999  2000        Central         16.0             NaN     12.0   \n",
       "\n",
       "j     Mineral Water  Garlic  Mushrooms  Celery  ...   Tea  Tomatoes  \\\n",
       "0              6.00    1.00        NaN     2.0  ...   7.0       9.0   \n",
       "1               NaN    2.00       20.0     2.0  ...   8.5      14.0   \n",
       "2             16.00    0.25        NaN     2.0  ...   NaN       2.5   \n",
       "3               NaN    1.50        NaN     1.5  ...   NaN       9.0   \n",
       "4              7.75    1.00        NaN     2.0  ...  22.0       6.0   \n",
       "...             ...     ...        ...     ...  ...   ...       ...   \n",
       "7252          18.00     NaN        NaN     1.0  ...   NaN       2.0   \n",
       "7253          12.00    6.00        NaN     2.0  ...   NaN      12.0   \n",
       "7254           6.50     NaN        NaN     NaN  ...   NaN       8.0   \n",
       "7255          10.00    0.75        NaN     NaN  ...   NaN       9.0   \n",
       "7256          36.00     NaN        NaN     2.0  ...   NaN       6.0   \n",
       "\n",
       "j     Tortillas  Tostadas  Beef Entrails  Chicken Giblets  Yogurt  Yucca  \\\n",
       "0          60.0       NaN            NaN             21.0     NaN    NaN   \n",
       "1          30.0       NaN           30.0             12.5     NaN    NaN   \n",
       "2           4.0       NaN           16.0              NaN     NaN    NaN   \n",
       "3          60.0       NaN            NaN              NaN     NaN    NaN   \n",
       "4          37.5       NaN           12.0              NaN     NaN    1.0   \n",
       "...         ...       ...            ...              ...     ...    ...   \n",
       "7252        NaN       NaN            NaN              NaN     NaN    NaN   \n",
       "7253        NaN       NaN            NaN              NaN     NaN    NaN   \n",
       "7254       30.0       NaN            NaN              NaN     NaN    NaN   \n",
       "7255       10.0       NaN            NaN              NaN     NaN    2.0   \n",
       "7256        NaN       NaN            NaN              NaN     NaN    NaN   \n",
       "\n",
       "j     Carrots  Leafcutter Ants and Other Insect  \n",
       "0         3.6                               NaN  \n",
       "1         7.5                               NaN  \n",
       "2         3.0                               NaN  \n",
       "3         6.0                               NaN  \n",
       "4         3.5                               NaN  \n",
       "...       ...                               ...  \n",
       "7252      1.0                               NaN  \n",
       "7253      NaN                               NaN  \n",
       "7254      NaN                               NaN  \n",
       "7255      6.0                               NaN  \n",
       "7256      4.0                               NaN  \n",
       "\n",
       "[7257 rows x 99 columns]"
      ]
     },
     "execution_count": 16,
     "metadata": {},
     "output_type": "execute_result"
    }
   ],
   "source": [
    "x = read_sheets(Guatemala,sheet='Food Expenditures')\n",
    "x.columns.name = 'j'\n",
    "x"
   ]
  },
  {
   "cell_type": "markdown",
   "id": "fbc4a483-6eee-4a1a-b0f4-41059fe18dab",
   "metadata": {},
   "source": [
    "Considering the different dimensions of data statistics, we rearrange the Food Price data of Guatemala."
   ]
  },
  {
   "cell_type": "code",
   "execution_count": 17,
   "id": "6b1a1a59-e0de-4f8c-8b35-d437b333939f",
   "metadata": {},
   "outputs": [
    {
     "data": {
      "text/html": [
       "<div>\n",
       "<style scoped>\n",
       "    .dataframe tbody tr th:only-of-type {\n",
       "        vertical-align: middle;\n",
       "    }\n",
       "\n",
       "    .dataframe tbody tr th {\n",
       "        vertical-align: top;\n",
       "    }\n",
       "\n",
       "    .dataframe thead th {\n",
       "        text-align: right;\n",
       "    }\n",
       "</style>\n",
       "<table border=\"1\" class=\"dataframe\">\n",
       "  <thead>\n",
       "    <tr style=\"text-align: right;\">\n",
       "      <th>j</th>\n",
       "      <th>Cooking Oil</th>\n",
       "      <th>Water (bottle)</th>\n",
       "      <th>Avocado</th>\n",
       "      <th>Mineral Water</th>\n",
       "      <th>Garlic</th>\n",
       "      <th>Mushrooms</th>\n",
       "      <th>Celery</th>\n",
       "      <th>Rice</th>\n",
       "      <th>Peas</th>\n",
       "      <th>Corn Atole</th>\n",
       "      <th>...</th>\n",
       "      <th>Tea</th>\n",
       "      <th>Tomatoes</th>\n",
       "      <th>Tortillas</th>\n",
       "      <th>Tostadas</th>\n",
       "      <th>Beef Entrails</th>\n",
       "      <th>Chicken Giblets</th>\n",
       "      <th>Yogurt</th>\n",
       "      <th>Yucca</th>\n",
       "      <th>Carrots</th>\n",
       "      <th>Leafcutter Ants and Other Insect</th>\n",
       "    </tr>\n",
       "    <tr>\n",
       "      <th>0</th>\n",
       "      <th></th>\n",
       "      <th></th>\n",
       "      <th></th>\n",
       "      <th></th>\n",
       "      <th></th>\n",
       "      <th></th>\n",
       "      <th></th>\n",
       "      <th></th>\n",
       "      <th></th>\n",
       "      <th></th>\n",
       "      <th></th>\n",
       "      <th></th>\n",
       "      <th></th>\n",
       "      <th></th>\n",
       "      <th></th>\n",
       "      <th></th>\n",
       "      <th></th>\n",
       "      <th></th>\n",
       "      <th></th>\n",
       "      <th></th>\n",
       "      <th></th>\n",
       "    </tr>\n",
       "  </thead>\n",
       "  <tbody>\n",
       "    <tr>\n",
       "      <th>Central</th>\n",
       "      <td>5.010737261</td>\n",
       "      <td>0.4545454447</td>\n",
       "      <td>1.865671595</td>\n",
       "      <td>2.75077949</td>\n",
       "      <td>4.54545457</td>\n",
       "      <td>12</td>\n",
       "      <td>2.262489754</td>\n",
       "      <td>2.5</td>\n",
       "      <td>3</td>\n",
       "      <td>1.801801779</td>\n",
       "      <td>...</td>\n",
       "      <td>8.341667044</td>\n",
       "      <td>1.5</td>\n",
       "      <td>1.250000028</td>\n",
       "      <td>7.499999969</td>\n",
       "      <td>7.5</td>\n",
       "      <td>4</td>\n",
       "      <td>8.227272722</td>\n",
       "      <td>2</td>\n",
       "      <td>1.06382979</td>\n",
       "      <td>8</td>\n",
       "    </tr>\n",
       "    <tr>\n",
       "      <th>Metropolitana</th>\n",
       "      <td>5.368647065</td>\n",
       "      <td>0.2405002401</td>\n",
       "      <td>3.544776031</td>\n",
       "      <td>2.731270434</td>\n",
       "      <td>4.54545457</td>\n",
       "      <td>26</td>\n",
       "      <td>3</td>\n",
       "      <td>2.5</td>\n",
       "      <td>6</td>\n",
       "      <td>2.702702668</td>\n",
       "      <td>...</td>\n",
       "      <td>7.500000168</td>\n",
       "      <td>2</td>\n",
       "      <td>1.04166669</td>\n",
       "      <td>6.683928809</td>\n",
       "      <td>10</td>\n",
       "      <td>4.5</td>\n",
       "      <td>9.090908894</td>\n",
       "      <td>2.5</td>\n",
       "      <td>1.06382979</td>\n",
       "      <td>NaN</td>\n",
       "    </tr>\n",
       "    <tr>\n",
       "      <th>Noroccidente</th>\n",
       "      <td>4.545454447</td>\n",
       "      <td>0.2405002401</td>\n",
       "      <td>1.492537276</td>\n",
       "      <td>3.209242684</td>\n",
       "      <td>4.54545457</td>\n",
       "      <td>7</td>\n",
       "      <td>2.265861026</td>\n",
       "      <td>2.25</td>\n",
       "      <td>2.5</td>\n",
       "      <td>1.801801779</td>\n",
       "      <td>...</td>\n",
       "      <td>9.895833555</td>\n",
       "      <td>2</td>\n",
       "      <td>1.04166669</td>\n",
       "      <td>2.000000045</td>\n",
       "      <td>6</td>\n",
       "      <td>4</td>\n",
       "      <td>8.181818004</td>\n",
       "      <td>1</td>\n",
       "      <td>0.638297874</td>\n",
       "      <td>4.5</td>\n",
       "    </tr>\n",
       "    <tr>\n",
       "      <th>Nororiente</th>\n",
       "      <td>4.563468033</td>\n",
       "      <td>0.2645502553</td>\n",
       "      <td>3.731343191</td>\n",
       "      <td>3.209242684</td>\n",
       "      <td>9.09090914</td>\n",
       "      <td>10</td>\n",
       "      <td>2.5</td>\n",
       "      <td>2.5</td>\n",
       "      <td>8</td>\n",
       "      <td>2.162162134</td>\n",
       "      <td>...</td>\n",
       "      <td>7.500000168</td>\n",
       "      <td>2.45</td>\n",
       "      <td>2.08333338</td>\n",
       "      <td>3.12500007</td>\n",
       "      <td>10</td>\n",
       "      <td>5</td>\n",
       "      <td>8.658008741</td>\n",
       "      <td>2</td>\n",
       "      <td>2.12765958</td>\n",
       "      <td>6</td>\n",
       "    </tr>\n",
       "    <tr>\n",
       "      <th>Norte</th>\n",
       "      <td>5.368647065</td>\n",
       "      <td>0.2405002401</td>\n",
       "      <td>1.492537276</td>\n",
       "      <td>3.209242684</td>\n",
       "      <td>3.787878808</td>\n",
       "      <td>4</td>\n",
       "      <td>2</td>\n",
       "      <td>2.5</td>\n",
       "      <td>2.5</td>\n",
       "      <td>1.801801779</td>\n",
       "      <td>...</td>\n",
       "      <td>12.50000028</td>\n",
       "      <td>2</td>\n",
       "      <td>1.04166669</td>\n",
       "      <td>5.000000112</td>\n",
       "      <td>7</td>\n",
       "      <td>4</td>\n",
       "      <td>7.272727115</td>\n",
       "      <td>1.339285714</td>\n",
       "      <td>2.12765958</td>\n",
       "      <td>NaN</td>\n",
       "    </tr>\n",
       "    <tr>\n",
       "      <th>Peten</th>\n",
       "      <td>4.999999892</td>\n",
       "      <td>0.3006252964</td>\n",
       "      <td>1.492537276</td>\n",
       "      <td>3.85109122</td>\n",
       "      <td>9.09090914</td>\n",
       "      <td>5</td>\n",
       "      <td>3</td>\n",
       "      <td>2.5</td>\n",
       "      <td>4</td>\n",
       "      <td>1.801801779</td>\n",
       "      <td>...</td>\n",
       "      <td>NaN</td>\n",
       "      <td>2.5</td>\n",
       "      <td>1.04166669</td>\n",
       "      <td>3.750000084</td>\n",
       "      <td>7</td>\n",
       "      <td>4</td>\n",
       "      <td>8.409090727</td>\n",
       "      <td>2</td>\n",
       "      <td>2.12765958</td>\n",
       "      <td>6</td>\n",
       "    </tr>\n",
       "    <tr>\n",
       "      <th>Suroccidente</th>\n",
       "      <td>3.86363628</td>\n",
       "      <td>0.2457002404</td>\n",
       "      <td>1.492537276</td>\n",
       "      <td>3.209242684</td>\n",
       "      <td>4.54545457</td>\n",
       "      <td>10</td>\n",
       "      <td>2.5</td>\n",
       "      <td>2.239999962</td>\n",
       "      <td>4</td>\n",
       "      <td>1.801801779</td>\n",
       "      <td>...</td>\n",
       "      <td>12.50000028</td>\n",
       "      <td>2</td>\n",
       "      <td>1.134259285</td>\n",
       "      <td>3.645833415</td>\n",
       "      <td>8</td>\n",
       "      <td>3.875</td>\n",
       "      <td>6.81818167</td>\n",
       "      <td>1.5</td>\n",
       "      <td>0.6205673775</td>\n",
       "      <td>5</td>\n",
       "    </tr>\n",
       "    <tr>\n",
       "      <th>Suroriente</th>\n",
       "      <td>5.368647065</td>\n",
       "      <td>0.2886002882</td>\n",
       "      <td>2.985074553</td>\n",
       "      <td>3.209242684</td>\n",
       "      <td>4.54545457</td>\n",
       "      <td>12</td>\n",
       "      <td>2.670231683</td>\n",
       "      <td>2.5</td>\n",
       "      <td>5</td>\n",
       "      <td>2.477477446</td>\n",
       "      <td>...</td>\n",
       "      <td>150.0000034</td>\n",
       "      <td>2</td>\n",
       "      <td>1.38888892</td>\n",
       "      <td>12.50000028</td>\n",
       "      <td>10</td>\n",
       "      <td>4</td>\n",
       "      <td>4.545454447</td>\n",
       "      <td>2</td>\n",
       "      <td>2.12765958</td>\n",
       "      <td>4.25</td>\n",
       "    </tr>\n",
       "  </tbody>\n",
       "</table>\n",
       "<p>8 rows × 96 columns</p>\n",
       "</div>"
      ],
      "text/plain": [
       "j              Cooking Oil Water (bottle)      Avocado Mineral Water  \\\n",
       "0                                                                      \n",
       "Central        5.010737261   0.4545454447  1.865671595    2.75077949   \n",
       "Metropolitana  5.368647065   0.2405002401  3.544776031   2.731270434   \n",
       "Noroccidente   4.545454447   0.2405002401  1.492537276   3.209242684   \n",
       "Nororiente     4.563468033   0.2645502553  3.731343191   3.209242684   \n",
       "Norte          5.368647065   0.2405002401  1.492537276   3.209242684   \n",
       "Peten          4.999999892   0.3006252964  1.492537276    3.85109122   \n",
       "Suroccidente    3.86363628   0.2457002404  1.492537276   3.209242684   \n",
       "Suroriente     5.368647065   0.2886002882  2.985074553   3.209242684   \n",
       "\n",
       "j                   Garlic Mushrooms       Celery         Rice Peas  \\\n",
       "0                                                                     \n",
       "Central         4.54545457        12  2.262489754          2.5    3   \n",
       "Metropolitana   4.54545457        26            3          2.5    6   \n",
       "Noroccidente    4.54545457         7  2.265861026         2.25  2.5   \n",
       "Nororiente      9.09090914        10          2.5          2.5    8   \n",
       "Norte          3.787878808         4            2          2.5  2.5   \n",
       "Peten           9.09090914         5            3          2.5    4   \n",
       "Suroccidente    4.54545457        10          2.5  2.239999962    4   \n",
       "Suroriente      4.54545457        12  2.670231683          2.5    5   \n",
       "\n",
       "j               Corn Atole  ...          Tea Tomatoes    Tortillas  \\\n",
       "0                           ...                                      \n",
       "Central        1.801801779  ...  8.341667044      1.5  1.250000028   \n",
       "Metropolitana  2.702702668  ...  7.500000168        2   1.04166669   \n",
       "Noroccidente   1.801801779  ...  9.895833555        2   1.04166669   \n",
       "Nororiente     2.162162134  ...  7.500000168     2.45   2.08333338   \n",
       "Norte          1.801801779  ...  12.50000028        2   1.04166669   \n",
       "Peten          1.801801779  ...          NaN      2.5   1.04166669   \n",
       "Suroccidente   1.801801779  ...  12.50000028        2  1.134259285   \n",
       "Suroriente     2.477477446  ...  150.0000034        2   1.38888892   \n",
       "\n",
       "j                 Tostadas Beef Entrails Chicken Giblets       Yogurt  \\\n",
       "0                                                                       \n",
       "Central        7.499999969           7.5               4  8.227272722   \n",
       "Metropolitana  6.683928809            10             4.5  9.090908894   \n",
       "Noroccidente   2.000000045             6               4  8.181818004   \n",
       "Nororiente      3.12500007            10               5  8.658008741   \n",
       "Norte          5.000000112             7               4  7.272727115   \n",
       "Peten          3.750000084             7               4  8.409090727   \n",
       "Suroccidente   3.645833415             8           3.875   6.81818167   \n",
       "Suroriente     12.50000028            10               4  4.545454447   \n",
       "\n",
       "j                    Yucca       Carrots Leafcutter Ants and Other Insect  \n",
       "0                                                                          \n",
       "Central                  2    1.06382979                                8  \n",
       "Metropolitana          2.5    1.06382979                              NaN  \n",
       "Noroccidente             1   0.638297874                              4.5  \n",
       "Nororiente               2    2.12765958                                6  \n",
       "Norte          1.339285714    2.12765958                              NaN  \n",
       "Peten                    2    2.12765958                                6  \n",
       "Suroccidente           1.5  0.6205673775                                5  \n",
       "Suroriente               2    2.12765958                             4.25  \n",
       "\n",
       "[8 rows x 96 columns]"
      ]
     },
     "execution_count": 17,
     "metadata": {},
     "output_type": "execute_result"
    }
   ],
   "source": [
    "p = pd.read_csv('Team George Washington Guatemala - Food Prices.csv')\n",
    "p = p.drop(p.columns[1], axis=1)\n",
    "p = p.T\n",
    "p = p.set_index(p.iloc[:,0])\n",
    "p.columns = p.iloc[0]\n",
    "p = p.drop(p.columns[0], axis=1).iloc[1:]\n",
    "p"
   ]
  },
  {
   "cell_type": "code",
   "execution_count": 18,
   "id": "7d738e2a-6852-4c2a-9b58-2e8299f2c01d",
   "metadata": {},
   "outputs": [
    {
     "name": "stderr",
     "output_type": "stream",
     "text": [
      "/tmp/ipykernel_232/3968031923.py:6: FutureWarning: Downcasting behavior in `replace` is deprecated and will be removed in a future version. To retain the old behavior, explicitly call `result.infer_objects(copy=False)`. To opt-in to the future behavior, set `pd.set_option('future.no_silent_downcasting', True)`\n",
      "  x = x.replace(0,np.nan) # Replace zeros with missing\n"
     ]
    }
   ],
   "source": [
    "d = read_sheets(Guatemala,sheet=\"Household Characteristics\")\n",
    "d.columns.name = 'k'\n",
    "\n",
    "# x may have duplicate columns\n",
    "x = x.T.groupby('j').sum().T\n",
    "x = x.replace(0,np.nan) # Replace zeros with missing\n",
    "\n",
    "# Take logs of expenditures; call this y\n",
    "y = np.log(x.set_index(['i','t','m']))\n",
    "\n",
    "d.set_index(['i','t','m'],inplace=True)"
   ]
  },
  {
   "cell_type": "code",
   "execution_count": 19,
   "id": "635142b7-6337-4906-b716-9d10ab0da511",
   "metadata": {},
   "outputs": [
    {
     "data": {
      "text/html": [
       "<div>\n",
       "<style scoped>\n",
       "    .dataframe tbody tr th:only-of-type {\n",
       "        vertical-align: middle;\n",
       "    }\n",
       "\n",
       "    .dataframe tbody tr th {\n",
       "        vertical-align: top;\n",
       "    }\n",
       "\n",
       "    .dataframe thead th {\n",
       "        text-align: right;\n",
       "    }\n",
       "</style>\n",
       "<table border=\"1\" class=\"dataframe\">\n",
       "  <thead>\n",
       "    <tr style=\"text-align: right;\">\n",
       "      <th></th>\n",
       "      <th></th>\n",
       "      <th>k</th>\n",
       "      <th>Males 00-03</th>\n",
       "      <th>Females 00-03</th>\n",
       "      <th>Males 04-08</th>\n",
       "      <th>Females 04-08</th>\n",
       "      <th>Males 09-13</th>\n",
       "      <th>Females 09-13</th>\n",
       "      <th>Males 14-18</th>\n",
       "      <th>Females 14-18</th>\n",
       "      <th>Males 19-30</th>\n",
       "      <th>Females 19-30</th>\n",
       "      <th>Males 31-50</th>\n",
       "      <th>Females 31-50</th>\n",
       "      <th>Males 51-99</th>\n",
       "      <th>Females 51-99</th>\n",
       "    </tr>\n",
       "    <tr>\n",
       "      <th>i</th>\n",
       "      <th>t</th>\n",
       "      <th>m</th>\n",
       "      <th></th>\n",
       "      <th></th>\n",
       "      <th></th>\n",
       "      <th></th>\n",
       "      <th></th>\n",
       "      <th></th>\n",
       "      <th></th>\n",
       "      <th></th>\n",
       "      <th></th>\n",
       "      <th></th>\n",
       "      <th></th>\n",
       "      <th></th>\n",
       "      <th></th>\n",
       "      <th></th>\n",
       "    </tr>\n",
       "  </thead>\n",
       "  <tbody>\n",
       "    <tr>\n",
       "      <th>1</th>\n",
       "      <th>2000</th>\n",
       "      <th>Metropolitana</th>\n",
       "      <td>0</td>\n",
       "      <td>1</td>\n",
       "      <td>0</td>\n",
       "      <td>0</td>\n",
       "      <td>0</td>\n",
       "      <td>0</td>\n",
       "      <td>0</td>\n",
       "      <td>0</td>\n",
       "      <td>1</td>\n",
       "      <td>1</td>\n",
       "      <td>0</td>\n",
       "      <td>1</td>\n",
       "      <td>0</td>\n",
       "      <td>0</td>\n",
       "    </tr>\n",
       "    <tr>\n",
       "      <th>2</th>\n",
       "      <th>2000</th>\n",
       "      <th>Metropolitana</th>\n",
       "      <td>0</td>\n",
       "      <td>0</td>\n",
       "      <td>0</td>\n",
       "      <td>0</td>\n",
       "      <td>0</td>\n",
       "      <td>0</td>\n",
       "      <td>0</td>\n",
       "      <td>0</td>\n",
       "      <td>0</td>\n",
       "      <td>0</td>\n",
       "      <td>1</td>\n",
       "      <td>0</td>\n",
       "      <td>1</td>\n",
       "      <td>1</td>\n",
       "    </tr>\n",
       "    <tr>\n",
       "      <th>3</th>\n",
       "      <th>2000</th>\n",
       "      <th>Metropolitana</th>\n",
       "      <td>0</td>\n",
       "      <td>0</td>\n",
       "      <td>0</td>\n",
       "      <td>0</td>\n",
       "      <td>2</td>\n",
       "      <td>0</td>\n",
       "      <td>0</td>\n",
       "      <td>0</td>\n",
       "      <td>1</td>\n",
       "      <td>0</td>\n",
       "      <td>1</td>\n",
       "      <td>1</td>\n",
       "      <td>1</td>\n",
       "      <td>0</td>\n",
       "    </tr>\n",
       "    <tr>\n",
       "      <th>4</th>\n",
       "      <th>2000</th>\n",
       "      <th>Metropolitana</th>\n",
       "      <td>0</td>\n",
       "      <td>0</td>\n",
       "      <td>0</td>\n",
       "      <td>0</td>\n",
       "      <td>0</td>\n",
       "      <td>0</td>\n",
       "      <td>0</td>\n",
       "      <td>0</td>\n",
       "      <td>0</td>\n",
       "      <td>0</td>\n",
       "      <td>0</td>\n",
       "      <td>0</td>\n",
       "      <td>0</td>\n",
       "      <td>1</td>\n",
       "    </tr>\n",
       "    <tr>\n",
       "      <th>5</th>\n",
       "      <th>2000</th>\n",
       "      <th>Metropolitana</th>\n",
       "      <td>0</td>\n",
       "      <td>0</td>\n",
       "      <td>1</td>\n",
       "      <td>0</td>\n",
       "      <td>0</td>\n",
       "      <td>0</td>\n",
       "      <td>0</td>\n",
       "      <td>0</td>\n",
       "      <td>0</td>\n",
       "      <td>0</td>\n",
       "      <td>1</td>\n",
       "      <td>1</td>\n",
       "      <td>0</td>\n",
       "      <td>0</td>\n",
       "    </tr>\n",
       "  </tbody>\n",
       "</table>\n",
       "</div>"
      ],
      "text/plain": [
       "k                     Males 00-03  Females 00-03  Males 04-08  Females 04-08  \\\n",
       "i t    m                                                                       \n",
       "1 2000 Metropolitana            0              1            0              0   \n",
       "2 2000 Metropolitana            0              0            0              0   \n",
       "3 2000 Metropolitana            0              0            0              0   \n",
       "4 2000 Metropolitana            0              0            0              0   \n",
       "5 2000 Metropolitana            0              0            1              0   \n",
       "\n",
       "k                     Males 09-13  Females 09-13  Males 14-18  Females 14-18  \\\n",
       "i t    m                                                                       \n",
       "1 2000 Metropolitana            0              0            0              0   \n",
       "2 2000 Metropolitana            0              0            0              0   \n",
       "3 2000 Metropolitana            2              0            0              0   \n",
       "4 2000 Metropolitana            0              0            0              0   \n",
       "5 2000 Metropolitana            0              0            0              0   \n",
       "\n",
       "k                     Males 19-30  Females 19-30  Males 31-50  Females 31-50  \\\n",
       "i t    m                                                                       \n",
       "1 2000 Metropolitana            1              1            0              1   \n",
       "2 2000 Metropolitana            0              0            1              0   \n",
       "3 2000 Metropolitana            1              0            1              1   \n",
       "4 2000 Metropolitana            0              0            0              0   \n",
       "5 2000 Metropolitana            0              0            1              1   \n",
       "\n",
       "k                     Males 51-99  Females 51-99  \n",
       "i t    m                                          \n",
       "1 2000 Metropolitana            0              0  \n",
       "2 2000 Metropolitana            1              1  \n",
       "3 2000 Metropolitana            1              0  \n",
       "4 2000 Metropolitana            0              1  \n",
       "5 2000 Metropolitana            0              0  "
      ]
     },
     "execution_count": 19,
     "metadata": {},
     "output_type": "execute_result"
    }
   ],
   "source": [
    "d.head()"
   ]
  },
  {
   "cell_type": "code",
   "execution_count": 20,
   "id": "995d53be-4ac8-4534-9143-db3a0c0ad3bf",
   "metadata": {},
   "outputs": [
    {
     "data": {
      "text/html": [
       "<div>\n",
       "<style scoped>\n",
       "    .dataframe tbody tr th:only-of-type {\n",
       "        vertical-align: middle;\n",
       "    }\n",
       "\n",
       "    .dataframe tbody tr th {\n",
       "        vertical-align: top;\n",
       "    }\n",
       "\n",
       "    .dataframe thead th {\n",
       "        text-align: right;\n",
       "    }\n",
       "</style>\n",
       "<table border=\"1\" class=\"dataframe\">\n",
       "  <thead>\n",
       "    <tr style=\"text-align: right;\">\n",
       "      <th></th>\n",
       "      <th></th>\n",
       "      <th>j</th>\n",
       "      <th>Avocado</th>\n",
       "      <th>Bananas</th>\n",
       "      <th>Beans</th>\n",
       "      <th>Beef</th>\n",
       "      <th>Beef Entrails</th>\n",
       "      <th>Beer</th>\n",
       "      <th>Beets</th>\n",
       "      <th>Bread (french)</th>\n",
       "      <th>Bread (sliced)</th>\n",
       "      <th>Bread (sweet)</th>\n",
       "      <th>...</th>\n",
       "      <th>Tomato Sauce</th>\n",
       "      <th>Tomatoes</th>\n",
       "      <th>Tortillas</th>\n",
       "      <th>Tostadas</th>\n",
       "      <th>Vegetable Oil</th>\n",
       "      <th>Water (bottle)</th>\n",
       "      <th>Watermelon</th>\n",
       "      <th>Wheat Flour</th>\n",
       "      <th>Yogurt</th>\n",
       "      <th>Yucca</th>\n",
       "    </tr>\n",
       "    <tr>\n",
       "      <th>i</th>\n",
       "      <th>t</th>\n",
       "      <th>m</th>\n",
       "      <th></th>\n",
       "      <th></th>\n",
       "      <th></th>\n",
       "      <th></th>\n",
       "      <th></th>\n",
       "      <th></th>\n",
       "      <th></th>\n",
       "      <th></th>\n",
       "      <th></th>\n",
       "      <th></th>\n",
       "      <th></th>\n",
       "      <th></th>\n",
       "      <th></th>\n",
       "      <th></th>\n",
       "      <th></th>\n",
       "      <th></th>\n",
       "      <th></th>\n",
       "      <th></th>\n",
       "      <th></th>\n",
       "      <th></th>\n",
       "      <th></th>\n",
       "    </tr>\n",
       "  </thead>\n",
       "  <tbody>\n",
       "    <tr>\n",
       "      <th>1</th>\n",
       "      <th>2000</th>\n",
       "      <th>Metropolitana</th>\n",
       "      <td>1.609438</td>\n",
       "      <td>2.639057</td>\n",
       "      <td>1.609438</td>\n",
       "      <td>5.828946</td>\n",
       "      <td>NaN</td>\n",
       "      <td>NaN</td>\n",
       "      <td>NaN</td>\n",
       "      <td>3.401197</td>\n",
       "      <td>NaN</td>\n",
       "      <td>3.401197</td>\n",
       "      <td>...</td>\n",
       "      <td>1.504077</td>\n",
       "      <td>2.197225</td>\n",
       "      <td>4.094345</td>\n",
       "      <td>NaN</td>\n",
       "      <td>NaN</td>\n",
       "      <td>2.995732</td>\n",
       "      <td>NaN</td>\n",
       "      <td>NaN</td>\n",
       "      <td>NaN</td>\n",
       "      <td>NaN</td>\n",
       "    </tr>\n",
       "    <tr>\n",
       "      <th>10</th>\n",
       "      <th>2000</th>\n",
       "      <th>Metropolitana</th>\n",
       "      <td>3.401197</td>\n",
       "      <td>3.583519</td>\n",
       "      <td>2.302585</td>\n",
       "      <td>5.762051</td>\n",
       "      <td>3.401197</td>\n",
       "      <td>3.178054</td>\n",
       "      <td>NaN</td>\n",
       "      <td>4.430817</td>\n",
       "      <td>2.079442</td>\n",
       "      <td>2.351375</td>\n",
       "      <td>...</td>\n",
       "      <td>1.252763</td>\n",
       "      <td>2.639057</td>\n",
       "      <td>3.401197</td>\n",
       "      <td>NaN</td>\n",
       "      <td>NaN</td>\n",
       "      <td>2.708050</td>\n",
       "      <td>2.708050</td>\n",
       "      <td>1.386294</td>\n",
       "      <td>NaN</td>\n",
       "      <td>NaN</td>\n",
       "    </tr>\n",
       "    <tr>\n",
       "      <th>100</th>\n",
       "      <th>2000</th>\n",
       "      <th>Metropolitana</th>\n",
       "      <td>NaN</td>\n",
       "      <td>2.833213</td>\n",
       "      <td>NaN</td>\n",
       "      <td>4.499810</td>\n",
       "      <td>2.772589</td>\n",
       "      <td>NaN</td>\n",
       "      <td>1.504077</td>\n",
       "      <td>1.791759</td>\n",
       "      <td>2.397895</td>\n",
       "      <td>2.302585</td>\n",
       "      <td>...</td>\n",
       "      <td>3.521939</td>\n",
       "      <td>0.916291</td>\n",
       "      <td>1.386294</td>\n",
       "      <td>NaN</td>\n",
       "      <td>NaN</td>\n",
       "      <td>2.351375</td>\n",
       "      <td>NaN</td>\n",
       "      <td>2.525729</td>\n",
       "      <td>NaN</td>\n",
       "      <td>NaN</td>\n",
       "    </tr>\n",
       "    <tr>\n",
       "      <th>1000</th>\n",
       "      <th>2000</th>\n",
       "      <th>Central</th>\n",
       "      <td>NaN</td>\n",
       "      <td>3.091042</td>\n",
       "      <td>2.014903</td>\n",
       "      <td>5.075174</td>\n",
       "      <td>NaN</td>\n",
       "      <td>NaN</td>\n",
       "      <td>NaN</td>\n",
       "      <td>3.401197</td>\n",
       "      <td>NaN</td>\n",
       "      <td>3.401197</td>\n",
       "      <td>...</td>\n",
       "      <td>2.302585</td>\n",
       "      <td>2.197225</td>\n",
       "      <td>4.094345</td>\n",
       "      <td>NaN</td>\n",
       "      <td>NaN</td>\n",
       "      <td>2.302585</td>\n",
       "      <td>NaN</td>\n",
       "      <td>0.916291</td>\n",
       "      <td>NaN</td>\n",
       "      <td>NaN</td>\n",
       "    </tr>\n",
       "    <tr>\n",
       "      <th>1001</th>\n",
       "      <th>2000</th>\n",
       "      <th>Central</th>\n",
       "      <td>1.609438</td>\n",
       "      <td>2.890372</td>\n",
       "      <td>2.014903</td>\n",
       "      <td>4.927254</td>\n",
       "      <td>2.484907</td>\n",
       "      <td>NaN</td>\n",
       "      <td>1.321756</td>\n",
       "      <td>3.113515</td>\n",
       "      <td>1.909543</td>\n",
       "      <td>3.113515</td>\n",
       "      <td>...</td>\n",
       "      <td>-0.287682</td>\n",
       "      <td>1.791759</td>\n",
       "      <td>3.624341</td>\n",
       "      <td>NaN</td>\n",
       "      <td>NaN</td>\n",
       "      <td>2.995732</td>\n",
       "      <td>0.693147</td>\n",
       "      <td>1.558145</td>\n",
       "      <td>NaN</td>\n",
       "      <td>0.0</td>\n",
       "    </tr>\n",
       "  </tbody>\n",
       "</table>\n",
       "<p>5 rows × 96 columns</p>\n",
       "</div>"
      ],
      "text/plain": [
       "j                         Avocado   Bananas     Beans      Beef  \\\n",
       "i    t    m                                                       \n",
       "1    2000 Metropolitana  1.609438  2.639057  1.609438  5.828946   \n",
       "10   2000 Metropolitana  3.401197  3.583519  2.302585  5.762051   \n",
       "100  2000 Metropolitana       NaN  2.833213       NaN  4.499810   \n",
       "1000 2000 Central             NaN  3.091042  2.014903  5.075174   \n",
       "1001 2000 Central        1.609438  2.890372  2.014903  4.927254   \n",
       "\n",
       "j                        Beef Entrails      Beer     Beets  Bread (french)  \\\n",
       "i    t    m                                                                  \n",
       "1    2000 Metropolitana            NaN       NaN       NaN        3.401197   \n",
       "10   2000 Metropolitana       3.401197  3.178054       NaN        4.430817   \n",
       "100  2000 Metropolitana       2.772589       NaN  1.504077        1.791759   \n",
       "1000 2000 Central                  NaN       NaN       NaN        3.401197   \n",
       "1001 2000 Central             2.484907       NaN  1.321756        3.113515   \n",
       "\n",
       "j                        Bread (sliced)  Bread (sweet)  ...  Tomato Sauce  \\\n",
       "i    t    m                                             ...                 \n",
       "1    2000 Metropolitana             NaN       3.401197  ...      1.504077   \n",
       "10   2000 Metropolitana        2.079442       2.351375  ...      1.252763   \n",
       "100  2000 Metropolitana        2.397895       2.302585  ...      3.521939   \n",
       "1000 2000 Central                   NaN       3.401197  ...      2.302585   \n",
       "1001 2000 Central              1.909543       3.113515  ...     -0.287682   \n",
       "\n",
       "j                        Tomatoes  Tortillas  Tostadas  Vegetable Oil  \\\n",
       "i    t    m                                                             \n",
       "1    2000 Metropolitana  2.197225   4.094345       NaN            NaN   \n",
       "10   2000 Metropolitana  2.639057   3.401197       NaN            NaN   \n",
       "100  2000 Metropolitana  0.916291   1.386294       NaN            NaN   \n",
       "1000 2000 Central        2.197225   4.094345       NaN            NaN   \n",
       "1001 2000 Central        1.791759   3.624341       NaN            NaN   \n",
       "\n",
       "j                        Water (bottle)  Watermelon  Wheat Flour  Yogurt  \\\n",
       "i    t    m                                                                \n",
       "1    2000 Metropolitana        2.995732         NaN          NaN     NaN   \n",
       "10   2000 Metropolitana        2.708050    2.708050     1.386294     NaN   \n",
       "100  2000 Metropolitana        2.351375         NaN     2.525729     NaN   \n",
       "1000 2000 Central              2.302585         NaN     0.916291     NaN   \n",
       "1001 2000 Central              2.995732    0.693147     1.558145     NaN   \n",
       "\n",
       "j                        Yucca  \n",
       "i    t    m                     \n",
       "1    2000 Metropolitana    NaN  \n",
       "10   2000 Metropolitana    NaN  \n",
       "100  2000 Metropolitana    NaN  \n",
       "1000 2000 Central          NaN  \n",
       "1001 2000 Central          0.0  \n",
       "\n",
       "[5 rows x 96 columns]"
      ]
     },
     "execution_count": 20,
     "metadata": {},
     "output_type": "execute_result"
    }
   ],
   "source": [
    "y.head()"
   ]
  },
  {
   "cell_type": "markdown",
   "id": "c8caa693-d511-4859-a95f-ea673b34d665",
   "metadata": {},
   "source": [
    "## Estimation\n"
   ]
  },
  {
   "cell_type": "code",
   "execution_count": 23,
   "id": "3b96a409-a23b-4d9e-966b-f40966a04d0a",
   "metadata": {},
   "outputs": [],
   "source": [
    "y = y.stack()\n",
    "\n",
    "d = d.stack()\n",
    "\n",
    "# Check that indices are in right places!\n",
    "assert y.index.names == ['i','t','m','j']\n",
    "assert d.index.names == ['i','t','m','k']"
   ]
  },
  {
   "cell_type": "markdown",
   "id": "2db7ffa0-7d9a-4ac4-b131-3d7a68b13bfa",
   "metadata": {},
   "source": [
    "### Basic Estimation"
   ]
  },
  {
   "cell_type": "code",
   "execution_count": 24,
   "id": "b7e4707b-5d9c-43e3-8662-0f80f3885886",
   "metadata": {},
   "outputs": [],
   "source": [
    "from cfe import Regression\n",
    "\n",
    "result = Regression(y=y,d=d)"
   ]
  },
  {
   "cell_type": "code",
   "execution_count": 25,
   "id": "e794ea91-5260-4eac-9c79-a5d8e63d8803",
   "metadata": {},
   "outputs": [
    {
     "data": {
      "text/plain": [
       "i     t     m              j             \n",
       "1     2000  Metropolitana  Avocado             7.088698\n",
       "                           Bananas            16.067197\n",
       "                           Beans               9.494430\n",
       "                           Beef              100.138098\n",
       "                           Beef Entrails      13.948086\n",
       "                                                ...    \n",
       "7276  2000  Suroriente     Tostadas            9.664286\n",
       "                           Water (bottle)     11.366774\n",
       "                           Watermelon          7.872758\n",
       "                           Wheat Flour         4.710398\n",
       "                           Yucca               3.394201\n",
       "Length: 515736, dtype: float64"
      ]
     },
     "execution_count": 25,
     "metadata": {},
     "output_type": "execute_result"
    }
   ],
   "source": [
    "result.predicted_expenditures()"
   ]
  },
  {
   "cell_type": "code",
   "execution_count": 26,
   "id": "2f12aaca-955a-4ef5-9c5d-8a105e21c7b6",
   "metadata": {},
   "outputs": [
    {
     "data": {
      "text/plain": [
       "<Axes: xlabel='yhat', ylabel='y'>"
      ]
     },
     "execution_count": 26,
     "metadata": {},
     "output_type": "execute_result"
    },
    {
     "data": {
      "image/png": "[encoded data removed]",
      "text/plain": [
       "<Figure size 640x480 with 1 Axes>"
      ]
     },
     "metadata": {},
     "output_type": "display_data"
    }
   ],
   "source": [
    "%matplotlib inline\n",
    "df = pd.DataFrame({'y':y,'yhat':result.get_predicted_log_expenditures()})\n",
    "df.plot.scatter(x='yhat',y='y')"
   ]
  },
  {
   "cell_type": "markdown",
   "id": "2260b7cc-b583-4752-93b6-0919454f12df",
   "metadata": {},
   "source": [
    "### Parameters"
   ]
  },
  {
   "cell_type": "markdown",
   "id": "ced13f98-6a42-4458-9349-133764f95d4b",
   "metadata": {},
   "source": [
    "#### (Relative) Income Elasticity\n",
    "$\\beta$ coefficients, which govern how income elastic different goods are (higher values means more elastic)"
   ]
  },
  {
   "cell_type": "markdown",
   "id": "f12912f6-71e0-4d17-8ac6-aba6d0b95e2b",
   "metadata": {},
   "source": [
    "visualize:"
   ]
  },
  {
   "cell_type": "code",
   "execution_count": 27,
   "id": "83ea5c2e-f9b9-498e-82ea-929e7f9693c6",
   "metadata": {},
   "outputs": [
    {
     "data": {
      "image/png": "[encoded data removed]",
      "text/plain": [
       "<Figure size 800x1185.71 with 1 Axes>"
      ]
     },
     "metadata": {},
     "output_type": "display_data"
    }
   ],
   "source": [
    "ax = result.graph_beta()"
   ]
  },
  {
   "cell_type": "markdown",
   "id": "4d6fbed9-dfcc-47d2-bc96-fee715d8608a",
   "metadata": {},
   "source": [
    "Values of $\\beta$:"
   ]
  },
  {
   "cell_type": "code",
   "execution_count": 28,
   "id": "97fb8cf7-2706-4f4c-a570-243f3cd457bf",
   "metadata": {},
   "outputs": [
    {
     "data": {
      "text/plain": [
       "j\n",
       "Avocado           1.256097\n",
       "Bananas           1.667667\n",
       "Beans             0.584281\n",
       "Beef              1.544521\n",
       "Beef Entrails     0.846793\n",
       "                    ...   \n",
       "Tostadas          1.028208\n",
       "Water (bottle)    0.968440\n",
       "Watermelon        0.984878\n",
       "Wheat Flour       1.035524\n",
       "Yucca             0.833105\n",
       "Name: beta, Length: 76, dtype: float64"
      ]
     },
     "execution_count": 28,
     "metadata": {},
     "output_type": "execute_result"
    }
   ],
   "source": [
    "result.get_beta()"
   ]
  },
  {
   "cell_type": "markdown",
   "id": "34574883-ac0a-48ef-8b6f-c9e35d1f63eb",
   "metadata": {},
   "source": [
    "A higher income elasticity coefficient ($\\beta$) indicates that the demand for the good is more sensitive to changes in income, while a lower coefficient suggests less sensitivity. We can draw the conclusion from this that people in Guatemala consume **Maize**, **Tortillas**, **Salt**, **Beans**, and other foods that have low income elasticity as a necessary daily diet, while buy **Ice cream**, **Juice**, and **Bananas** that have high income elasticity only when their income level is high enough. This shows that(_)"
   ]
  },
  {
   "cell_type": "markdown",
   "id": "3859e784-a729-49a5-9584-9063eea1c9fb",
   "metadata": {},
   "source": [
    "#### Demand and Household Composition"
   ]
  },
  {
   "cell_type": "code",
   "execution_count": 30,
   "id": "d93cbcbb-a366-4202-8b95-30c2f9982d2c",
   "metadata": {},
   "outputs": [
    {
     "data": {
      "text/html": [
       "<div>\n",
       "<style scoped>\n",
       "    .dataframe tbody tr th:only-of-type {\n",
       "        vertical-align: middle;\n",
       "    }\n",
       "\n",
       "    .dataframe tbody tr th {\n",
       "        vertical-align: top;\n",
       "    }\n",
       "\n",
       "    .dataframe thead th {\n",
       "        text-align: right;\n",
       "    }\n",
       "</style>\n",
       "<table border=\"1\" class=\"dataframe\">\n",
       "  <thead>\n",
       "    <tr style=\"text-align: right;\">\n",
       "      <th>k</th>\n",
       "      <th>Males 00-03</th>\n",
       "      <th>Females 00-03</th>\n",
       "      <th>Males 04-08</th>\n",
       "      <th>Females 04-08</th>\n",
       "      <th>Males 09-13</th>\n",
       "      <th>Females 09-13</th>\n",
       "      <th>Males 14-18</th>\n",
       "      <th>Females 14-18</th>\n",
       "      <th>Males 19-30</th>\n",
       "      <th>Females 19-30</th>\n",
       "      <th>Males 31-50</th>\n",
       "      <th>Females 31-50</th>\n",
       "      <th>Males 51-99</th>\n",
       "      <th>Females 51-99</th>\n",
       "      <th>Constant</th>\n",
       "    </tr>\n",
       "    <tr>\n",
       "      <th>j</th>\n",
       "      <th></th>\n",
       "      <th></th>\n",
       "      <th></th>\n",
       "      <th></th>\n",
       "      <th></th>\n",
       "      <th></th>\n",
       "      <th></th>\n",
       "      <th></th>\n",
       "      <th></th>\n",
       "      <th></th>\n",
       "      <th></th>\n",
       "      <th></th>\n",
       "      <th></th>\n",
       "      <th></th>\n",
       "      <th></th>\n",
       "    </tr>\n",
       "  </thead>\n",
       "  <tbody>\n",
       "    <tr>\n",
       "      <th>Avocado</th>\n",
       "      <td>-0.088275</td>\n",
       "      <td>-0.122866</td>\n",
       "      <td>-0.027481</td>\n",
       "      <td>-0.049743</td>\n",
       "      <td>-0.011544</td>\n",
       "      <td>-0.028603</td>\n",
       "      <td>0.027512</td>\n",
       "      <td>0.000261</td>\n",
       "      <td>0.074529</td>\n",
       "      <td>0.161430</td>\n",
       "      <td>0.158562</td>\n",
       "      <td>0.298749</td>\n",
       "      <td>0.062668</td>\n",
       "      <td>0.063345</td>\n",
       "      <td>1.749162</td>\n",
       "    </tr>\n",
       "    <tr>\n",
       "      <th>Bananas</th>\n",
       "      <td>-0.115450</td>\n",
       "      <td>-0.145996</td>\n",
       "      <td>-0.055901</td>\n",
       "      <td>-0.048553</td>\n",
       "      <td>-0.030538</td>\n",
       "      <td>-0.031087</td>\n",
       "      <td>0.020161</td>\n",
       "      <td>0.029274</td>\n",
       "      <td>0.102862</td>\n",
       "      <td>0.200082</td>\n",
       "      <td>0.145734</td>\n",
       "      <td>0.281083</td>\n",
       "      <td>-0.011023</td>\n",
       "      <td>0.132700</td>\n",
       "      <td>2.601493</td>\n",
       "    </tr>\n",
       "    <tr>\n",
       "      <th>Beans</th>\n",
       "      <td>0.084385</td>\n",
       "      <td>0.060966</td>\n",
       "      <td>0.117293</td>\n",
       "      <td>0.090192</td>\n",
       "      <td>0.149595</td>\n",
       "      <td>0.105575</td>\n",
       "      <td>0.223101</td>\n",
       "      <td>0.136226</td>\n",
       "      <td>0.151246</td>\n",
       "      <td>0.094017</td>\n",
       "      <td>0.155123</td>\n",
       "      <td>0.098994</td>\n",
       "      <td>0.194210</td>\n",
       "      <td>0.128332</td>\n",
       "      <td>2.569973</td>\n",
       "    </tr>\n",
       "    <tr>\n",
       "      <th>Beef</th>\n",
       "      <td>-0.137689</td>\n",
       "      <td>-0.105542</td>\n",
       "      <td>-0.045396</td>\n",
       "      <td>-0.034741</td>\n",
       "      <td>-0.001552</td>\n",
       "      <td>-0.011293</td>\n",
       "      <td>0.048299</td>\n",
       "      <td>0.052845</td>\n",
       "      <td>0.159855</td>\n",
       "      <td>0.250684</td>\n",
       "      <td>0.237983</td>\n",
       "      <td>0.286949</td>\n",
       "      <td>0.059454</td>\n",
       "      <td>0.062816</td>\n",
       "      <td>4.194728</td>\n",
       "    </tr>\n",
       "    <tr>\n",
       "      <th>Beef Entrails</th>\n",
       "      <td>0.029093</td>\n",
       "      <td>-0.043311</td>\n",
       "      <td>-0.049139</td>\n",
       "      <td>0.016524</td>\n",
       "      <td>0.048557</td>\n",
       "      <td>0.067730</td>\n",
       "      <td>0.018645</td>\n",
       "      <td>0.094059</td>\n",
       "      <td>0.023180</td>\n",
       "      <td>0.163656</td>\n",
       "      <td>0.100741</td>\n",
       "      <td>0.096734</td>\n",
       "      <td>0.027478</td>\n",
       "      <td>0.029255</td>\n",
       "      <td>2.603261</td>\n",
       "    </tr>\n",
       "    <tr>\n",
       "      <th>...</th>\n",
       "      <td>...</td>\n",
       "      <td>...</td>\n",
       "      <td>...</td>\n",
       "      <td>...</td>\n",
       "      <td>...</td>\n",
       "      <td>...</td>\n",
       "      <td>...</td>\n",
       "      <td>...</td>\n",
       "      <td>...</td>\n",
       "      <td>...</td>\n",
       "      <td>...</td>\n",
       "      <td>...</td>\n",
       "      <td>...</td>\n",
       "      <td>...</td>\n",
       "      <td>...</td>\n",
       "    </tr>\n",
       "    <tr>\n",
       "      <th>Tostadas</th>\n",
       "      <td>-0.104827</td>\n",
       "      <td>0.018316</td>\n",
       "      <td>-0.005392</td>\n",
       "      <td>0.065595</td>\n",
       "      <td>0.131417</td>\n",
       "      <td>0.026776</td>\n",
       "      <td>0.139571</td>\n",
       "      <td>0.060413</td>\n",
       "      <td>0.036817</td>\n",
       "      <td>0.108625</td>\n",
       "      <td>0.102481</td>\n",
       "      <td>0.105183</td>\n",
       "      <td>-0.017120</td>\n",
       "      <td>0.048025</td>\n",
       "      <td>2.129704</td>\n",
       "    </tr>\n",
       "    <tr>\n",
       "      <th>Water (bottle)</th>\n",
       "      <td>-0.015467</td>\n",
       "      <td>-0.028098</td>\n",
       "      <td>-0.010616</td>\n",
       "      <td>-0.027088</td>\n",
       "      <td>-0.101461</td>\n",
       "      <td>-0.020004</td>\n",
       "      <td>-0.031444</td>\n",
       "      <td>0.001428</td>\n",
       "      <td>0.060548</td>\n",
       "      <td>0.050409</td>\n",
       "      <td>0.129648</td>\n",
       "      <td>0.256980</td>\n",
       "      <td>0.022353</td>\n",
       "      <td>0.138386</td>\n",
       "      <td>2.741034</td>\n",
       "    </tr>\n",
       "    <tr>\n",
       "      <th>Watermelon</th>\n",
       "      <td>0.024007</td>\n",
       "      <td>-0.021794</td>\n",
       "      <td>0.025018</td>\n",
       "      <td>-0.042928</td>\n",
       "      <td>-0.005028</td>\n",
       "      <td>0.076032</td>\n",
       "      <td>0.022955</td>\n",
       "      <td>0.081937</td>\n",
       "      <td>0.061462</td>\n",
       "      <td>0.124539</td>\n",
       "      <td>0.066374</td>\n",
       "      <td>0.153493</td>\n",
       "      <td>-0.003809</td>\n",
       "      <td>-0.024234</td>\n",
       "      <td>1.949779</td>\n",
       "    </tr>\n",
       "    <tr>\n",
       "      <th>Wheat Flour</th>\n",
       "      <td>0.047027</td>\n",
       "      <td>-0.001397</td>\n",
       "      <td>-0.010691</td>\n",
       "      <td>-0.121999</td>\n",
       "      <td>0.004415</td>\n",
       "      <td>0.104057</td>\n",
       "      <td>0.070823</td>\n",
       "      <td>-0.125376</td>\n",
       "      <td>-0.090978</td>\n",
       "      <td>0.069025</td>\n",
       "      <td>0.142981</td>\n",
       "      <td>0.131745</td>\n",
       "      <td>0.082239</td>\n",
       "      <td>-0.068081</td>\n",
       "      <td>1.500867</td>\n",
       "    </tr>\n",
       "    <tr>\n",
       "      <th>Yucca</th>\n",
       "      <td>0.072471</td>\n",
       "      <td>-0.005769</td>\n",
       "      <td>0.018521</td>\n",
       "      <td>0.031864</td>\n",
       "      <td>0.028000</td>\n",
       "      <td>0.021689</td>\n",
       "      <td>0.050473</td>\n",
       "      <td>0.017745</td>\n",
       "      <td>0.084517</td>\n",
       "      <td>0.090927</td>\n",
       "      <td>0.132546</td>\n",
       "      <td>0.125525</td>\n",
       "      <td>0.174849</td>\n",
       "      <td>0.026497</td>\n",
       "      <td>1.214313</td>\n",
       "    </tr>\n",
       "  </tbody>\n",
       "</table>\n",
       "<p>76 rows × 15 columns</p>\n",
       "</div>"
      ],
      "text/plain": [
       "k               Males 00-03  Females 00-03  Males 04-08  Females 04-08  \\\n",
       "j                                                                        \n",
       "Avocado           -0.088275      -0.122866    -0.027481      -0.049743   \n",
       "Bananas           -0.115450      -0.145996    -0.055901      -0.048553   \n",
       "Beans              0.084385       0.060966     0.117293       0.090192   \n",
       "Beef              -0.137689      -0.105542    -0.045396      -0.034741   \n",
       "Beef Entrails      0.029093      -0.043311    -0.049139       0.016524   \n",
       "...                     ...            ...          ...            ...   \n",
       "Tostadas          -0.104827       0.018316    -0.005392       0.065595   \n",
       "Water (bottle)    -0.015467      -0.028098    -0.010616      -0.027088   \n",
       "Watermelon         0.024007      -0.021794     0.025018      -0.042928   \n",
       "Wheat Flour        0.047027      -0.001397    -0.010691      -0.121999   \n",
       "Yucca              0.072471      -0.005769     0.018521       0.031864   \n",
       "\n",
       "k               Males 09-13  Females 09-13  Males 14-18  Females 14-18  \\\n",
       "j                                                                        \n",
       "Avocado           -0.011544      -0.028603     0.027512       0.000261   \n",
       "Bananas           -0.030538      -0.031087     0.020161       0.029274   \n",
       "Beans              0.149595       0.105575     0.223101       0.136226   \n",
       "Beef              -0.001552      -0.011293     0.048299       0.052845   \n",
       "Beef Entrails      0.048557       0.067730     0.018645       0.094059   \n",
       "...                     ...            ...          ...            ...   \n",
       "Tostadas           0.131417       0.026776     0.139571       0.060413   \n",
       "Water (bottle)    -0.101461      -0.020004    -0.031444       0.001428   \n",
       "Watermelon        -0.005028       0.076032     0.022955       0.081937   \n",
       "Wheat Flour        0.004415       0.104057     0.070823      -0.125376   \n",
       "Yucca              0.028000       0.021689     0.050473       0.017745   \n",
       "\n",
       "k               Males 19-30  Females 19-30  Males 31-50  Females 31-50  \\\n",
       "j                                                                        \n",
       "Avocado            0.074529       0.161430     0.158562       0.298749   \n",
       "Bananas            0.102862       0.200082     0.145734       0.281083   \n",
       "Beans              0.151246       0.094017     0.155123       0.098994   \n",
       "Beef               0.159855       0.250684     0.237983       0.286949   \n",
       "Beef Entrails      0.023180       0.163656     0.100741       0.096734   \n",
       "...                     ...            ...          ...            ...   \n",
       "Tostadas           0.036817       0.108625     0.102481       0.105183   \n",
       "Water (bottle)     0.060548       0.050409     0.129648       0.256980   \n",
       "Watermelon         0.061462       0.124539     0.066374       0.153493   \n",
       "Wheat Flour       -0.090978       0.069025     0.142981       0.131745   \n",
       "Yucca              0.084517       0.090927     0.132546       0.125525   \n",
       "\n",
       "k               Males 51-99  Females 51-99  Constant  \n",
       "j                                                     \n",
       "Avocado            0.062668       0.063345  1.749162  \n",
       "Bananas           -0.011023       0.132700  2.601493  \n",
       "Beans              0.194210       0.128332  2.569973  \n",
       "Beef               0.059454       0.062816  4.194728  \n",
       "Beef Entrails      0.027478       0.029255  2.603261  \n",
       "...                     ...            ...       ...  \n",
       "Tostadas          -0.017120       0.048025  2.129704  \n",
       "Water (bottle)     0.022353       0.138386  2.741034  \n",
       "Watermelon        -0.003809      -0.024234  1.949779  \n",
       "Wheat Flour        0.082239      -0.068081  1.500867  \n",
       "Yucca              0.174849       0.026497  1.214313  \n",
       "\n",
       "[76 rows x 15 columns]"
      ]
     },
     "execution_count": 30,
     "metadata": {},
     "output_type": "execute_result"
    }
   ],
   "source": [
    "result.get_gamma()"
   ]
  },
  {
   "cell_type": "markdown",
   "id": "01bb8d24-056a-4ede-a049-51b426cd801e",
   "metadata": {},
   "source": [
    "#### Welfare"
   ]
  },
  {
   "cell_type": "code",
   "execution_count": 31,
   "id": "54ed5bf9-3e2a-466c-9853-041c512f7edc",
   "metadata": {},
   "outputs": [
    {
     "data": {
      "text/plain": [
       "<Axes: ylabel='Density'>"
      ]
     },
     "execution_count": 31,
     "metadata": {},
     "output_type": "execute_result"
    },
    {
     "data": {
      "image/png": "[encoded data removed]",
      "text/plain": [
       "<Figure size 640x480 with 1 Axes>"
      ]
     },
     "metadata": {},
     "output_type": "display_data"
    }
   ],
   "source": [
    "ax = result.get_w().plot.hist(bins=100,density=True)\n",
    "result.get_w().plot.kde(ax=ax)"
   ]
  },
  {
   "cell_type": "code",
   "execution_count": 32,
   "id": "178abd04-934e-452c-9db7-e98c2f5799ed",
   "metadata": {},
   "outputs": [],
   "source": [
    "result.to_pickle('Guatemala_1.pickle')"
   ]
  },
  {
   "cell_type": "markdown",
   "id": "5309e5fa-237b-4162-9bba-2e58709933bd",
   "metadata": {},
   "source": [
    "### Demand and Utility"
   ]
  },
  {
   "cell_type": "markdown",
   "id": "e4390e1f-d0d2-4de4-80b3-b7cea5366568",
   "metadata": {},
   "source": [
    "#### Budgets"
   ]
  },
  {
   "cell_type": "code",
   "execution_count": 66,
   "id": "c6fcfddf-b604-4d5a-926d-80bac19f6f4a",
   "metadata": {},
   "outputs": [],
   "source": [
    "import numpy as np\n",
    "\n",
    "xhat = result.predicted_expenditures()\n",
    "\n",
    "# Total food expenditures per household\n",
    "xbar = xhat.groupby(['i','t','m']).sum()\n",
    "\n",
    "# Reference budget\n",
    "xref = xbar.quantile(0.5)  # Household at 0.5 quantile is median"
   ]
  },
  {
   "cell_type": "markdown",
   "id": "48a6d9b8-4c9a-4f22-b8c5-0d3630e82bbc",
   "metadata": {},
   "source": [
    "#### Reference Prices"
   ]
  },
  {
   "cell_type": "code",
   "execution_count": 67,
   "id": "caac474a-9d9c-4984-87d4-1076f8b3a4c3",
   "metadata": {},
   "outputs": [],
   "source": [
    "p_numeric = p.map(pd.to_numeric, errors='coerce')\n",
    "pbar = p_numeric.mean()"
   ]
  },
  {
   "cell_type": "code",
   "execution_count": 68,
   "id": "6015d2cd-577a-4296-8396-1d2178b7106a",
   "metadata": {},
   "outputs": [],
   "source": [
    "pbar = pbar[result.beta.index] # Only use prices for goods we can estimate\n",
    "\n",
    "#Finally, define a function to change a single price in the vector $p$:\n",
    "def my_prices(p0,p=pbar,j='Beans'):\n",
    "    \"\"\"\n",
    "    Change price of jth good to p0, holding other prices fixed.\n",
    "    \"\"\"\n",
    "    p = p.copy()\n",
    "    p.loc[j] = p0\n",
    "    return p"
   ]
  },
  {
   "cell_type": "markdown",
   "id": "13edc0d7-5d1e-4e39-9d55-f6e4704b3e8f",
   "metadata": {},
   "source": [
    "#### Demand as a function of prices"
   ]
  },
  {
   "cell_type": "markdown",
   "id": "2e1c1bee-8499-44c9-8f78-6c90654f9c88",
   "metadata": {},
   "source": [
    "We define a demand_curve function to visualize demand curve for different goods."
   ]
  },
  {
   "cell_type": "code",
   "execution_count": 51,
   "id": "8208b6bd-1be0-4c9c-ae03-0a2240fbdff4",
   "metadata": {},
   "outputs": [],
   "source": [
    "import matplotlib.pyplot as plt\n",
    "%matplotlib inline\n",
    "  \n",
    "def demand_curve(use):\n",
    "    # Vary prices from 50% to 200% of reference.\n",
    "    scale = np.linspace(.5,2,20)\n",
    "    \n",
    "    # Demand for Beans for household at median budget\n",
    "    plt.plot([result.demands(xref,my_prices(pbar[use]*s,pbar,use))[use] for s in scale],scale)\n",
    "    \n",
    "    # Demand for Beans for household at 25% percentile\n",
    "    plt.plot([result.demands(xbar.quantile(0.25),my_prices(pbar[use]*s,pbar,use))[use] for s in scale],scale)\n",
    "    \n",
    "    # Demand for Beans for household at 75% percentile\n",
    "    plt.plot([result.demands(xbar.quantile(0.75),my_prices(pbar[use]*s,pbar,use))[use] for s in scale],scale)\n",
    "\n",
    "    plt.ylabel(f\"Price (relative to base of {pbar[use]:.2f})\")\n",
    "    plt.xlabel(f\"Quantities of {use} Demanded\")"
   ]
  },
  {
   "cell_type": "code",
   "execution_count": 52,
   "id": "ea50a46a-031f-4520-9b7e-6e4792d8a656",
   "metadata": {},
   "outputs": [
    {
     "data": {
      "image/png": "[encoded data removed]",
      "text/plain": [
       "<Figure size 640x480 with 1 Axes>"
      ]
     },
     "metadata": {},
     "output_type": "display_data"
    }
   ],
   "source": [
    "demand_curve('Beans')"
   ]
  },
  {
   "cell_type": "code",
   "execution_count": 53,
   "id": "29d2d8e7-4163-444a-a4e7-3ae0ab9736f6",
   "metadata": {},
   "outputs": [
    {
     "data": {
      "image/png": "[encoded data removed]",
      "text/plain": [
       "<Figure size 640x480 with 1 Axes>"
      ]
     },
     "metadata": {},
     "output_type": "display_data"
    }
   ],
   "source": [
    "demand_curve('Chocolate')"
   ]
  },
  {
   "cell_type": "code",
   "execution_count": null,
   "id": "2b0ec2bf-11ab-4218-a9e8-7d1f518b8006",
   "metadata": {},
   "outputs": [],
   "source": [
    "From the graph we can tell that the quantities of Beans and "
   ]
  },
  {
   "cell_type": "markdown",
   "id": "a1fc49a1-4f83-4249-97ce-2924c50d95dd",
   "metadata": {},
   "source": [
    "#### Engel Curves: how demand changes with budget"
   ]
  },
  {
   "cell_type": "code",
   "execution_count": 62,
   "id": "27bbcd59-fec2-4b83-9e96-d2a300c4af62",
   "metadata": {},
   "outputs": [
    {
     "data": {
      "text/plain": [
       "Text(0.5, 1.0, 'Engel Curves')"
      ]
     },
     "execution_count": 62,
     "metadata": {},
     "output_type": "execute_result"
    },
    {
     "data": {
      "image/png": "[encoded data removed]",
      "text/plain": [
       "<Figure size 640x480 with 1 Axes>"
      ]
     },
     "metadata": {},
     "output_type": "display_data"
    }
   ],
   "source": [
    "fig,ax = plt.subplots()\n",
    "\n",
    "ax.plot(np.log(scale*xref),[result.expenditures(s*xref,pbar)/(s*xref) for s in scale])\n",
    "ax.set_xlabel(f'log budget (relative to base of {xref:.0f}')\n",
    "ax.set_ylabel(f'Expenditure share')\n",
    "ax.set_title('Engel Curves')"
   ]
  },
  {
   "cell_type": "markdown",
   "id": "0655fd73-bed8-40a5-a18f-a89f6b59b75e",
   "metadata": {},
   "source": [
    "To see more details in the graph, We creat a interactive plot:"
   ]
  },
  {
   "cell_type": "code",
   "execution_count": 86,
   "id": "fd65d05f-8065-4a17-a517-75c7328ebad2",
   "metadata": {},
   "outputs": [
    {
     "data": {
      "text/html": [
       "        <script type=\"text/javascript\">\n",
       "        window.PlotlyConfig = {MathJaxConfig: 'local'};\n",
       "        if (window.MathJax && window.MathJax.Hub && window.MathJax.Hub.Config) {window.MathJax.Hub.Config({SVG: {font: \"STIX-Web\"}});}\n",
       "        if (typeof require !== 'undefined') {\n",
       "        require.undef(\"plotly\");\n",
       "        requirejs.config({\n",
       "            paths: {\n",
       "                'plotly': ['https://cdn.plot.ly/plotly-2.29.1.min']\n",
       "            }\n",
       "        });\n",
       "        require(['plotly'], function(Plotly) {\n",
       "            window._Plotly = Plotly;\n",
       "        });\n",
       "        }\n",
       "        </script>\n",
       "        "
      ]
     },
     "metadata": {},
     "output_type": "display_data"
    }
   ],
   "source": [
    "import cufflinks as cf\n",
    "cf.go_offline()"
   ]
  },
  {
   "cell_type": "code",
   "execution_count": 87,
   "id": "84856cd1-6bb4-4508-a9ab-cc16620db646",
   "metadata": {},
   "outputs": [],
   "source": [
    "index = pd.Index(np.log(scale * xref),name='log budget')\n",
    "df = pd.DataFrame([result.expenditures(s*xref,pbar)/(s*xref) for s in scale],index=index)"
   ]
  },
  {
   "cell_type": "code",
   "execution_count": 88,
   "id": "09bc311a-3c5b-4750-9bbf-b9a1412cbcf0",
   "metadata": {},
   "outputs": [
    {
     "data": {
      "application/vnd.plotly.v1+json": {
       "config": {
        "linkText": "Export to plot.ly",
        "plotlyServerURL": "https://plot.ly",
        "showLink": true
       },
       "data": [
        {
         "line": {
          "color": "rgba(255, 153, 51, 1.0)",
          "dash": "solid",
          "shape": "linear",
          "width": 1.3
         },
         "mode": "lines",
         "name": "Avocado",
         "text": "",
         "type": "scatter",
         "visible": true,
         "x": [
          6.199646931602732,
          6.346250405794607,
          6.474083777304492,
          6.587412462611495,
          6.689195156921437,
          6.781568477052453,
          6.866125865080516,
          6.944087406550228,
          7.016408068129854,
          7.083849348925386,
          7.147028250546918,
          7.206451671017719,
          7.262541137668762,
          7.315650962982711,
          7.3660818166096025,
          7.4140910357959635,
          7.459900571827258,
          7.5037031944856505,
          7.545667393584683,
          7.585941292722623
         ],
         "y": [
          0.007776480619510145,
          0.007881361800029333,
          0.007963924485098793,
          0.008030161925388472,
          0.008084072061351194,
          0.008128434938369532,
          0.008165249303299458,
          0.008195992116233368,
          0.008221780088987371,
          0.008243474165449492,
          0.008261749319679114,
          0.00827714249421861,
          0.008290086324553428,
          0.008300933367637603,
          0.008309973834069078,
          0.008317448781447483,
          0.008323560076741749,
          0.008328478019647888,
          0.00833234724677599,
          0.00833529135468746
         ]
        },
        {
         "line": {
          "color": "rgba(55, 128, 191, 1.0)",
          "dash": "solid",
          "shape": "linear",
          "width": 1.3
         },
         "mode": "lines",
         "name": "Bananas",
         "text": "",
         "type": "scatter",
         "visible": "legendonly",
         "x": [
          6.199646931602732,
          6.346250405794607,
          6.474083777304492,
          6.587412462611495,
          6.689195156921437,
          6.781568477052453,
          6.866125865080516,
          6.944087406550228,
          7.016408068129854,
          7.083849348925386,
          7.147028250546918,
          7.206451671017719,
          7.262541137668762,
          7.315650962982711,
          7.3660818166096025,
          7.4140910357959635,
          7.459900571827258,
          7.5037031944856505,
          7.545667393584683,
          7.585941292722623
         ],
         "y": [
          0.03781583511651634,
          0.040388701826950986,
          0.042703097175797164,
          0.044808648487547856,
          0.04674159384978766,
          0.048529269312248706,
          0.050192844545867206,
          0.05174907313486424,
          0.05321145745879154,
          0.05459104985686043,
          0.055897019187682646,
          0.057137061168362514,
          0.058317701796556064,
          0.059444525829780194,
          0.06052235162130599,
          0.06155536683624857,
          0.06254723516286757,
          0.06350118119538364,
          0.0644200586661008,
          0.06530640581951905
         ]
        },
        {
         "line": {
          "color": "rgba(50, 171, 96, 1.0)",
          "dash": "solid",
          "shape": "linear",
          "width": 1.3
         },
         "mode": "lines",
         "name": "Beans",
         "text": "",
         "type": "scatter",
         "x": [
          6.199646931602732,
          6.346250405794607,
          6.474083777304492,
          6.587412462611495,
          6.689195156921437,
          6.781568477052453,
          6.866125865080516,
          6.944087406550228,
          7.016408068129854,
          7.083849348925386,
          7.147028250546918,
          7.206451671017719,
          7.262541137668762,
          7.315650962982711,
          7.3660818166096025,
          7.4140910357959635,
          7.459900571827258,
          7.5037031944856505,
          7.545667393584683,
          7.585941292722623
         ],
         "y": [
          0.009724687395614256,
          0.009047507914780973,
          0.008490652931088681,
          0.008022142317237396,
          0.007620789690576388,
          0.007271919754593151,
          0.006964997667099155,
          0.006692236070165999,
          0.006447735937234442,
          0.0062269349341178264,
          0.00602624101310115,
          0.005842781880551105,
          0.005674229339590951,
          0.005518673397467794,
          0.005374530275314594,
          0.005240474023868915,
          0.005115384898718747,
          0.004998309843669364,
          0.00488843186046813,
          0.004785045994055403
         ]
        },
        {
         "line": {
          "color": "rgba(128, 0, 128, 1.0)",
          "dash": "solid",
          "shape": "linear",
          "width": 1.3
         },
         "mode": "lines",
         "name": "Beef",
         "text": "",
         "type": "scatter",
         "visible": "legendonly",
         "x": [
          6.199646931602732,
          6.346250405794607,
          6.474083777304492,
          6.587412462611495,
          6.689195156921437,
          6.781568477052453,
          6.866125865080516,
          6.944087406550228,
          7.016408068129854,
          7.083849348925386,
          7.147028250546918,
          7.206451671017719,
          7.262541137668762,
          7.315650962982711,
          7.3660818166096025,
          7.4140910357959635,
          7.459900571827258,
          7.5037031944856505,
          7.545667393584683,
          7.585941292722623
         ],
         "y": [
          0.08950824761862661,
          0.09411021900125541,
          0.09816342029580491,
          0.10178275386549435,
          0.10505029875882091,
          0.10802678573146844,
          0.1107584413506447,
          0.11328128309168607,
          0.11562392891821244,
          0.11780949965707342,
          0.11985694525385385,
          0.12178199281569281,
          0.1235978391726528,
          0.12531566651954673,
          0.12694503284178302,
          0.12849417198670235,
          0.12997022740458694,
          0.13137943643581967,
          0.132727277207543,
          0.13401858689852528
         ]
        },
        {
         "line": {
          "color": "rgba(219, 64, 82, 1.0)",
          "dash": "solid",
          "shape": "linear",
          "width": 1.3
         },
         "mode": "lines",
         "name": "Beef Entrails",
         "text": "",
         "type": "scatter",
         "x": [
          6.199646931602732,
          6.346250405794607,
          6.474083777304492,
          6.587412462611495,
          6.689195156921437,
          6.781568477052453,
          6.866125865080516,
          6.944087406550228,
          7.016408068129854,
          7.083849348925386,
          7.147028250546918,
          7.206451671017719,
          7.262541137668762,
          7.315650962982711,
          7.3660818166096025,
          7.4140910357959635,
          7.459900571827258,
          7.5037031944856505,
          7.545667393584683,
          7.585941292722623
         ],
         "y": [
          0.016441289602610164,
          0.01581653586775701,
          0.015278191179190678,
          0.014806727458861255,
          0.014388454186510954,
          0.014013417922052391,
          0.013674165540238349,
          0.013364978154905895,
          0.01308137640951056,
          0.012819789670627597,
          0.012577328168203141,
          0.012351621991310582,
          0.012140704771200616,
          0.011942927995040247,
          0.011756896785813367,
          0.01158142102441381,
          0.01141547763156043,
          0.01125818109657072,
          0.011108760188065489,
          0.010966539359223287
         ]
        },
        {
         "line": {
          "color": "rgba(0, 128, 128, 1.0)",
          "dash": "solid",
          "shape": "linear",
          "width": 1.3
         },
         "mode": "lines",
         "name": "Beer",
         "text": "",
         "type": "scatter",
         "x": [
          6.199646931602732,
          6.346250405794607,
          6.474083777304492,
          6.587412462611495,
          6.689195156921437,
          6.781568477052453,
          6.866125865080516,
          6.944087406550228,
          7.016408068129854,
          7.083849348925386,
          7.147028250546918,
          7.206451671017719,
          7.262541137668762,
          7.315650962982711,
          7.3660818166096025,
          7.4140910357959635,
          7.459900571827258,
          7.5037031944856505,
          7.545667393584683,
          7.585941292722623
         ],
         "y": [
          0.03299752829197265,
          0.03230764313283118,
          0.031686533286977785,
          0.03112254994417092,
          0.03060663023170114,
          0.030131636012690678,
          0.029691867732012683,
          0.029282713356303752,
          0.028900394152201237,
          0.02854177868245355,
          0.028204244946733438,
          0.027885576817824085,
          0.0275838852072592,
          0.02729754729687848,
          0.027025159141786725,
          0.02676549829491209,
          0.026517494033065487,
          0.026280203413845866,
          0.026052791852412178,
          0.02583451723635484
         ]
        },
        {
         "line": {
          "color": "rgba(255, 255, 51, 1.0)",
          "dash": "solid",
          "shape": "linear",
          "width": 1.3
         },
         "mode": "lines",
         "name": "Beets",
         "text": "",
         "type": "scatter",
         "x": [
          6.199646931602732,
          6.346250405794607,
          6.474083777304492,
          6.587412462611495,
          6.689195156921437,
          6.781568477052453,
          6.866125865080516,
          6.944087406550228,
          7.016408068129854,
          7.083849348925386,
          7.147028250546918,
          7.206451671017719,
          7.262541137668762,
          7.315650962982711,
          7.3660818166096025,
          7.4140910357959635,
          7.459900571827258,
          7.5037031944856505,
          7.545667393584683,
          7.585941292722623
         ],
         "y": [
          0.004579945181593373,
          0.004434160373229397,
          0.004306955201141846,
          0.004194374140102993,
          0.004093586617177897,
          0.004002499771705626,
          0.0039195240730095894,
          0.003843424872272118,
          0.003773224748333591,
          0.003708137171233472,
          0.003647520182380332,
          0.0035908432708927508,
          0.003537663187394116,
          0.003487605955843993,
          0.0034403532746203466,
          0.003395632084399568,
          0.003353206459415741,
          0.0033128712291997423,
          0.003274446906931015,
          0.003237775616696461
         ]
        },
        {
         "line": {
          "color": "rgba(128, 128, 0, 1.0)",
          "dash": "solid",
          "shape": "linear",
          "width": 1.3
         },
         "mode": "lines",
         "name": "Bread (french)",
         "text": "",
         "type": "scatter",
         "x": [
          6.199646931602732,
          6.346250405794607,
          6.474083777304492,
          6.587412462611495,
          6.689195156921437,
          6.781568477052453,
          6.866125865080516,
          6.944087406550228,
          7.016408068129854,
          7.083849348925386,
          7.147028250546918,
          7.206451671017719,
          7.262541137668762,
          7.315650962982711,
          7.3660818166096025,
          7.4140910357959635,
          7.459900571827258,
          7.5037031944856505,
          7.545667393584683,
          7.585941292722623
         ],
         "y": [
          0.02871985761151225,
          0.029287085752934348,
          0.029751856908857097,
          0.030140119539238244,
          0.03046946746243008,
          0.030752321969376193,
          0.030997742191312527,
          0.031212514078513366,
          0.03140183582326813,
          0.03156976582926306,
          0.03171952494922529,
          0.031853706029783886,
          0.031974422661264115,
          0.03208341697481525,
          0.032182139200054014,
          0.0322718073414233,
          0.032353452597126305,
          0.03242795438265254,
          0.0324960676604534,
          0.03255844449718848
         ]
        },
        {
         "line": {
          "color": "rgba(251, 128, 114, 1.0)",
          "dash": "solid",
          "shape": "linear",
          "width": 1.3
         },
         "mode": "lines",
         "name": "Bread (sliced)",
         "text": "",
         "type": "scatter",
         "x": [
          6.199646931602732,
          6.346250405794607,
          6.474083777304492,
          6.587412462611495,
          6.689195156921437,
          6.781568477052453,
          6.866125865080516,
          6.944087406550228,
          7.016408068129854,
          7.083849348925386,
          7.147028250546918,
          7.206451671017719,
          7.262541137668762,
          7.315650962982711,
          7.3660818166096025,
          7.4140910357959635,
          7.459900571827258,
          7.5037031944856505,
          7.545667393584683,
          7.585941292722623
         ],
         "y": [
          0.009843417842505182,
          0.009458615321560048,
          0.009127700956369125,
          0.008838390500006097,
          0.008582097258462023,
          0.008352593794927931,
          0.008145226808100127,
          0.00795643227726648,
          0.007783423156301371,
          0.007623980998940982,
          0.007476312707970713,
          0.00733894948920816,
          0.0072106739638683895,
          0.007090466550085952,
          0.006977465328205241,
          0.006870935530020181,
          0.006770246019685259,
          0.006674850935371884,
          0.006584275195349583,
          0.006498102935796159
         ]
        },
        {
         "line": {
          "color": "rgba(128, 177, 211, 1.0)",
          "dash": "solid",
          "shape": "linear",
          "width": 1.3
         },
         "mode": "lines",
         "name": "Bread (sweet)",
         "text": "",
         "type": "scatter",
         "x": [
          6.199646931602732,
          6.346250405794607,
          6.474083777304492,
          6.587412462611495,
          6.689195156921437,
          6.781568477052453,
          6.866125865080516,
          6.944087406550228,
          7.016408068129854,
          7.083849348925386,
          7.147028250546918,
          7.206451671017719,
          7.262541137668762,
          7.315650962982711,
          7.3660818166096025,
          7.4140910357959635,
          7.459900571827258,
          7.5037031944856505,
          7.545667393584683,
          7.585941292722623
         ],
         "y": [
          0.029099953987329293,
          0.02923967134794908,
          0.029327051480189204,
          0.02937814966465811,
          0.02940330233832693,
          0.029409453403674124,
          0.029401428813828814,
          0.029382676712304493,
          0.029355717994348475,
          0.02932243153003357,
          0.02928424077632804,
          0.029242239362369242,
          0.029197277691237526,
          0.029150023944281477,
          0.029101007867749967,
          0.02905065272824278,
          0.028999298982997794,
          0.028947222048680877,
          0.02889464580162648,
          0.028841752947332804
         ]
        },
        {
         "line": {
          "color": "rgba(128, 177, 211, 0.8999999999999999)",
          "dash": "solid",
          "shape": "linear",
          "width": 1.3
         },
         "mode": "lines",
         "name": "Cabbages",
         "text": "",
         "type": "scatter",
         "x": [
          6.199646931602732,
          6.346250405794607,
          6.474083777304492,
          6.587412462611495,
          6.689195156921437,
          6.781568477052453,
          6.866125865080516,
          6.944087406550228,
          7.016408068129854,
          7.083849348925386,
          7.147028250546918,
          7.206451671017719,
          7.262541137668762,
          7.315650962982711,
          7.3660818166096025,
          7.4140910357959635,
          7.459900571827258,
          7.5037031944856505,
          7.545667393584683,
          7.585941292722623
         ],
         "y": [
          0.0027228682448730505,
          0.002595841061169843,
          0.002487986175649218,
          0.0023947080496625923,
          0.00231284912459077,
          0.0022401523629575976,
          0.002174952189156587,
          0.0021159868087935064,
          0.002062279051015506,
          0.0020130578607142568,
          0.001967704926091866,
          0.001925717405394332,
          0.0018866812824149344,
          0.0018502519266659205,
          0.0018161396516737556,
          0.0017840988124966722,
          0.00175391945571468,
          0.001725420840751162,
          0.001698446353660642,
          0.0016728594710997823
         ]
        },
        {
         "line": {
          "color": "rgba(255, 153, 51, 0.8999999999999999)",
          "dash": "solid",
          "shape": "linear",
          "width": 1.3
         },
         "mode": "lines",
         "name": "Cakes",
         "text": "",
         "type": "scatter",
         "x": [
          6.199646931602732,
          6.346250405794607,
          6.474083777304492,
          6.587412462611495,
          6.689195156921437,
          6.781568477052453,
          6.866125865080516,
          6.944087406550228,
          7.016408068129854,
          7.083849348925386,
          7.147028250546918,
          7.206451671017719,
          7.262541137668762,
          7.315650962982711,
          7.3660818166096025,
          7.4140910357959635,
          7.459900571827258,
          7.5037031944856505,
          7.545667393584683,
          7.585941292722623
         ],
         "y": [
          0.022111794428420192,
          0.02273842244876726,
          0.02326728262088911,
          0.023721660671994146,
          0.024117618823782376,
          0.024466676327873912,
          0.024777357060868775,
          0.025056132938836878,
          0.025308025039368166,
          0.02553700096495095,
          0.025746245801255126,
          0.025938351863424056,
          0.026115454671862055,
          0.026279332382528806,
          0.026431479802323507,
          0.026573164366665486,
          0.026705469081320973,
          0.0268293258888423,
          0.026945541897342166,
          0.027054820217172915
         ]
        },
        {
         "line": {
          "color": "rgba(55, 128, 191, 0.8999999999999999)",
          "dash": "solid",
          "shape": "linear",
          "width": 1.3
         },
         "mode": "lines",
         "name": "Candies",
         "text": "",
         "type": "scatter",
         "x": [
          6.199646931602732,
          6.346250405794607,
          6.474083777304492,
          6.587412462611495,
          6.689195156921437,
          6.781568477052453,
          6.866125865080516,
          6.944087406550228,
          7.016408068129854,
          7.083849348925386,
          7.147028250546918,
          7.206451671017719,
          7.262541137668762,
          7.315650962982711,
          7.3660818166096025,
          7.4140910357959635,
          7.459900571827258,
          7.5037031944856505,
          7.545667393584683,
          7.585941292722623
         ],
         "y": [
          0.002525362068562655,
          0.0026590772025849203,
          0.0027770986082308762,
          0.002882686200903436,
          0.0029781734991179494,
          0.0030652902558658455,
          0.0031453552770492562,
          0.0032193976438239067,
          0.003288236136131604,
          0.003352533089097052,
          0.003412831989606336,
          0.003469584384469901,
          0.0035231695597823984,
          0.003573909208700204,
          0.003622078548485338,
          0.0036679148728347498,
          0.003711624219662557,
          0.0037533866325812253,
          0.003793360358232597,
          0.0038316852280964276
         ]
        },
        {
         "line": {
          "color": "rgba(50, 171, 96, 0.8999999999999999)",
          "dash": "solid",
          "shape": "linear",
          "width": 1.3
         },
         "mode": "lines",
         "name": "Carrots",
         "text": "",
         "type": "scatter",
         "x": [
          6.199646931602732,
          6.346250405794607,
          6.474083777304492,
          6.587412462611495,
          6.689195156921437,
          6.781568477052453,
          6.866125865080516,
          6.944087406550228,
          7.016408068129854,
          7.083849348925386,
          7.147028250546918,
          7.206451671017719,
          7.262541137668762,
          7.315650962982711,
          7.3660818166096025,
          7.4140910357959635,
          7.459900571827258,
          7.5037031944856505,
          7.545667393584683,
          7.585941292722623
         ],
         "y": [
          0.005074241457923243,
          0.005075752385266358,
          0.0050711983995407875,
          0.00506271906152788,
          0.00505164562542028,
          0.005038841323553767,
          0.005024884196638406,
          0.005010171245332381,
          0.004994980639535888,
          0.004979510358598578,
          0.004963902993677444,
          0.004948262119070576,
          0.004932663361301122,
          0.004917162040784874,
          0.004901798544291672,
          0.004886602162880471,
          0.004871593872584112,
          0.004856788374405906,
          0.004842195607581038,
          0.0048278218831520935
         ]
        },
        {
         "line": {
          "color": "rgba(128, 0, 128, 0.8999999999999999)",
          "dash": "solid",
          "shape": "linear",
          "width": 1.3
         },
         "mode": "lines",
         "name": "Celery",
         "text": "",
         "type": "scatter",
         "x": [
          6.199646931602732,
          6.346250405794607,
          6.474083777304492,
          6.587412462611495,
          6.689195156921437,
          6.781568477052453,
          6.866125865080516,
          6.944087406550228,
          7.016408068129854,
          7.083849348925386,
          7.147028250546918,
          7.206451671017719,
          7.262541137668762,
          7.315650962982711,
          7.3660818166096025,
          7.4140910357959635,
          7.459900571827258,
          7.5037031944856505,
          7.545667393584683,
          7.585941292722623
         ],
         "y": [
          0.0020944454132496245,
          0.002086100280288803,
          0.002076516644809444,
          0.0020662958754209737,
          0.0020557883888662185,
          0.002045204889825902,
          0.0020346744305622935,
          0.0020242765158574785,
          0.0020140596956557755,
          0.0020040527450243414,
          0.0019942715979807224,
          0.001984723759336599,
          0.0019754111719591174,
          0.00196633211292364,
          0.001957482465245159,
          0.0019488565802189097,
          0.001940447866855779,
          0.0019322491967651192,
          0.0019242531826979398,
          0.0019164523696997273
         ]
        },
        {
         "line": {
          "color": "rgba(219, 64, 82, 0.8999999999999999)",
          "dash": "solid",
          "shape": "linear",
          "width": 1.3
         },
         "mode": "lines",
         "name": "Chayote",
         "text": "",
         "type": "scatter",
         "x": [
          6.199646931602732,
          6.346250405794607,
          6.474083777304492,
          6.587412462611495,
          6.689195156921437,
          6.781568477052453,
          6.866125865080516,
          6.944087406550228,
          7.016408068129854,
          7.083849348925386,
          7.147028250546918,
          7.206451671017719,
          7.262541137668762,
          7.315650962982711,
          7.3660818166096025,
          7.4140910357959635,
          7.459900571827258,
          7.5037031944856505,
          7.545667393584683,
          7.585941292722623
         ],
         "y": [
          0.0045336680814793235,
          0.00444718259566432,
          0.0043687330703678995,
          0.004297072249892213,
          0.00423119536105325,
          0.004170291930387592,
          0.004113703387072897,
          0.004060889563116286,
          0.004011403067371138,
          0.00396486982495979,
          0.003920974257317133,
          0.003879447915520103,
          0.0038400606840772065,
          0.003802613908674348,
          0.0037669349755761294,
          0.003732872996176779,
          0.003700295340828394,
          0.0036690848313655614,
          0.003639137449111701,
          0.0036103604497568697
         ]
        },
        {
         "line": {
          "color": "rgba(0, 128, 128, 0.8999999999999999)",
          "dash": "solid",
          "shape": "linear",
          "width": 1.3
         },
         "mode": "lines",
         "name": "Chicken",
         "text": "",
         "type": "scatter",
         "x": [
          6.199646931602732,
          6.346250405794607,
          6.474083777304492,
          6.587412462611495,
          6.689195156921437,
          6.781568477052453,
          6.866125865080516,
          6.944087406550228,
          7.016408068129854,
          7.083849348925386,
          7.147028250546918,
          7.206451671017719,
          7.262541137668762,
          7.315650962982711,
          7.3660818166096025,
          7.4140910357959635,
          7.459900571827258,
          7.5037031944856505,
          7.545667393584683,
          7.585941292722623
         ],
         "y": [
          0.035138652165366296,
          0.03538723809551835,
          0.0355623610440668,
          0.03568556238914139,
          0.03577087428014154,
          0.03582783377511756,
          0.03586314694871874,
          0.0358816623145418,
          0.0358869676043227,
          0.03588177016976758,
          0.0358681475610968,
          0.03584771729459867,
          0.035821754703939127,
          0.03579127651046206,
          0.03575710120674703,
          0.035719893419500194,
          0.03568019699186167,
          0.035638459986566215,
          0.035595053813441024,
          0.035550288023776584
         ]
        },
        {
         "line": {
          "color": "rgba(255, 255, 51, 0.8999999999999999)",
          "dash": "solid",
          "shape": "linear",
          "width": 1.3
         },
         "mode": "lines",
         "name": "Chicken Giblets",
         "text": "",
         "type": "scatter",
         "x": [
          6.199646931602732,
          6.346250405794607,
          6.474083777304492,
          6.587412462611495,
          6.689195156921437,
          6.781568477052453,
          6.866125865080516,
          6.944087406550228,
          7.016408068129854,
          7.083849348925386,
          7.147028250546918,
          7.206451671017719,
          7.262541137668762,
          7.315650962982711,
          7.3660818166096025,
          7.4140910357959635,
          7.459900571827258,
          7.5037031944856505,
          7.545667393584683,
          7.585941292722623
         ],
         "y": [
          0.010473203058374759,
          0.00989378037833315,
          0.00940811882832197,
          0.008992716295437589,
          0.008631673098722,
          0.008313774041151602,
          0.008030838290729163,
          0.007776731579124434,
          0.007546746850784,
          0.007337200700078414,
          0.007145161728897125,
          0.006968262541454798,
          0.006804566449208955,
          0.006652470949529908,
          0.0065106365187272254,
          0.006377933202600874,
          0.006253399957416984,
          0.006136213280969837,
          0.0060256627163801256,
          0.005921131511008622
         ]
        },
        {
         "line": {
          "color": "rgba(128, 128, 0, 0.8999999999999999)",
          "dash": "solid",
          "shape": "linear",
          "width": 1.3
         },
         "mode": "lines",
         "name": "Chilies",
         "text": "",
         "type": "scatter",
         "x": [
          6.199646931602732,
          6.346250405794607,
          6.474083777304492,
          6.587412462611495,
          6.689195156921437,
          6.781568477052453,
          6.866125865080516,
          6.944087406550228,
          7.016408068129854,
          7.083849348925386,
          7.147028250546918,
          7.206451671017719,
          7.262541137668762,
          7.315650962982711,
          7.3660818166096025,
          7.4140910357959635,
          7.459900571827258,
          7.5037031944856505,
          7.545667393584683,
          7.585941292722623
         ],
         "y": [
          0.004331410383394966,
          0.004192933411285005,
          0.004072142161027293,
          0.003965265314207988,
          0.0038696056288792637,
          0.003783169730536577,
          0.0037044442202911116,
          0.0036322539620763394,
          0.003565668908135786,
          0.0035039408334956584,
          0.0034464591770836887,
          0.0033927194737325924,
          0.0033423003105450687,
          0.0032948461929065086,
          0.0032500545943183407,
          0.0032076660240366265,
          0.0031674563082636567,
          0.003129230519670477,
          0.0030928181512636698,
          0.0030580692413853263
         ]
        },
        {
         "line": {
          "color": "rgba(251, 128, 114, 0.8999999999999999)",
          "dash": "solid",
          "shape": "linear",
          "width": 1.3
         },
         "mode": "lines",
         "name": "Chocolate",
         "text": "",
         "type": "scatter",
         "x": [
          6.199646931602732,
          6.346250405794607,
          6.474083777304492,
          6.587412462611495,
          6.689195156921437,
          6.781568477052453,
          6.866125865080516,
          6.944087406550228,
          7.016408068129854,
          7.083849348925386,
          7.147028250546918,
          7.206451671017719,
          7.262541137668762,
          7.315650962982711,
          7.3660818166096025,
          7.4140910357959635,
          7.459900571827258,
          7.5037031944856505,
          7.545667393584683,
          7.585941292722623
         ],
         "y": [
          0.00946794975949679,
          0.00904910528137533,
          0.008692095135894447,
          0.008382311787454662,
          0.008109668318425479,
          0.00786692394449819,
          0.007648715697036633,
          0.00745096759169808,
          0.007270513963729624,
          0.007104850399885998,
          0.0069519638663053775,
          0.006810213731816099,
          0.006678246494293013,
          0.006554933415125789,
          0.006439324085653728,
          0.006330611301185178,
          0.0062281041073873975,
          0.006131206850077269,
          0.006039402700429548,
          0.005952240561342384
         ]
        },
        {
         "line": {
          "color": "rgba(251, 128, 114, 0.7999999999999998)",
          "dash": "solid",
          "shape": "linear",
          "width": 1.3
         },
         "mode": "lines",
         "name": "Cigarettes",
         "text": "",
         "type": "scatter",
         "x": [
          6.199646931602732,
          6.346250405794607,
          6.474083777304492,
          6.587412462611495,
          6.689195156921437,
          6.781568477052453,
          6.866125865080516,
          6.944087406550228,
          7.016408068129854,
          7.083849348925386,
          7.147028250546918,
          7.206451671017719,
          7.262541137668762,
          7.315650962982711,
          7.3660818166096025,
          7.4140910357959635,
          7.459900571827258,
          7.5037031944856505,
          7.545667393584683,
          7.585941292722623
         ],
         "y": [
          0.02275894896203669,
          0.022737725756236064,
          0.022693180287202325,
          0.02263405416369833,
          0.02256571228516175,
          0.022491581830039173,
          0.022413920084280888,
          0.022334248822238594,
          0.02225361194017479,
          0.022172734330439856,
          0.022092123102721677,
          0.02201213388195944,
          0.021933015272558202,
          0.02185493929444188,
          0.021778022589276812,
          0.021702341425324775,
          0.021627942458314935,
          0.021554850539819384,
          0.02148307444131059,
          0.02141261108728408
         ]
        },
        {
         "line": {
          "color": "rgba(128, 177, 211, 0.7999999999999998)",
          "dash": "solid",
          "shape": "linear",
          "width": 1.3
         },
         "mode": "lines",
         "name": "Coffee (instant)",
         "text": "",
         "type": "scatter",
         "x": [
          6.199646931602732,
          6.346250405794607,
          6.474083777304492,
          6.587412462611495,
          6.689195156921437,
          6.781568477052453,
          6.866125865080516,
          6.944087406550228,
          7.016408068129854,
          7.083849348925386,
          7.147028250546918,
          7.206451671017719,
          7.262541137668762,
          7.315650962982711,
          7.3660818166096025,
          7.4140910357959635,
          7.459900571827258,
          7.5037031944856505,
          7.545667393584683,
          7.585941292722623
         ],
         "y": [
          0.008364418400225525,
          0.008360422283404206,
          0.008347325230030385,
          0.008328456946842908,
          0.00830587201608628,
          0.008280890744006033,
          0.008254388519330615,
          0.008226959950056375,
          0.008199016480024435,
          0.008170846755274566,
          0.008142655196647409,
          0.00811458734107236,
          0.008086746891712156,
          0.008059207428410037,
          0.008032020596262478,
          0.008005221921876053,
          0.007978835001785926,
          0.007952874555251515,
          0.007927348673013606,
          0.007902260489142306
         ]
        },
        {
         "line": {
          "color": "rgba(255, 153, 51, 0.7999999999999998)",
          "dash": "solid",
          "shape": "linear",
          "width": 1.3
         },
         "mode": "lines",
         "name": "Cookies",
         "text": "",
         "type": "scatter",
         "x": [
          6.199646931602732,
          6.346250405794607,
          6.474083777304492,
          6.587412462611495,
          6.689195156921437,
          6.781568477052453,
          6.866125865080516,
          6.944087406550228,
          7.016408068129854,
          7.083849348925386,
          7.147028250546918,
          7.206451671017719,
          7.262541137668762,
          7.315650962982711,
          7.3660818166096025,
          7.4140910357959635,
          7.459900571827258,
          7.5037031944856505,
          7.545667393584683,
          7.585941292722623
         ],
         "y": [
          0.00547830883651667,
          0.005643502677122652,
          0.005783568175733118,
          0.005904422231544963,
          0.0060101592655458875,
          0.006103724101442824,
          0.006187301550043245,
          0.006262554505367921,
          0.006330776006711974,
          0.006392989972443387,
          0.006450020026061499,
          0.006502537783274106,
          0.006551097515969648,
          0.00659616154164421,
          0.006638119152808813,
          0.006677300954629167,
          0.006713989879399071,
          0.006748429756660552,
          0.006780832058880935,
          0.00681138126714141
         ]
        },
        {
         "line": {
          "color": "rgba(55, 128, 191, 0.7999999999999998)",
          "dash": "solid",
          "shape": "linear",
          "width": 1.3
         },
         "mode": "lines",
         "name": "Cooking Oil",
         "text": "",
         "type": "scatter",
         "x": [
          6.199646931602732,
          6.346250405794607,
          6.474083777304492,
          6.587412462611495,
          6.689195156921437,
          6.781568477052453,
          6.866125865080516,
          6.944087406550228,
          7.016408068129854,
          7.083849348925386,
          7.147028250546918,
          7.206451671017719,
          7.262541137668762,
          7.315650962982711,
          7.3660818166096025,
          7.4140910357959635,
          7.459900571827258,
          7.5037031944856505,
          7.545667393584683,
          7.585941292722623
         ],
         "y": [
          0.012918445410929928,
          0.012649177980664164,
          0.012406694977467698,
          0.012186471318102032,
          0.011984982962484576,
          0.011799452357166501,
          0.011627660563411909,
          0.011467811299189537,
          0.011318432345899174,
          0.01117830333951444,
          0.011046402211856375,
          0.010921864932059296,
          0.01080395484659272,
          0.010692039036112318,
          0.010585569868587113,
          0.010484070448671112,
          0.010387123023537876,
          0.010294359657248547,
          0.010205454664101958,
          0.010120118419235742
         ]
        },
        {
         "line": {
          "color": "rgba(50, 171, 96, 0.7999999999999998)",
          "dash": "solid",
          "shape": "linear",
          "width": 1.3
         },
         "mode": "lines",
         "name": "Corn Flakes",
         "text": "",
         "type": "scatter",
         "x": [
          6.199646931602732,
          6.346250405794607,
          6.474083777304492,
          6.587412462611495,
          6.689195156921437,
          6.781568477052453,
          6.866125865080516,
          6.944087406550228,
          7.016408068129854,
          7.083849348925386,
          7.147028250546918,
          7.206451671017719,
          7.262541137668762,
          7.315650962982711,
          7.3660818166096025,
          7.4140910357959635,
          7.459900571827258,
          7.5037031944856505,
          7.545667393584683,
          7.585941292722623
         ],
         "y": [
          0.029852382199427933,
          0.028107141130722168,
          0.026650695122460762,
          0.02540962710866687,
          0.02433451478368364,
          0.023390646004235696,
          0.02255279532574616,
          0.021802111049213254,
          0.021124171061813714,
          0.020507720477694627,
          0.019943824613554418,
          0.019425284442289414,
          0.018946223242524686,
          0.018501788010974303,
          0.018087929680463768,
          0.01770123861630602,
          0.017338819630442082,
          0.016998195731105382,
          0.01667723309091873,
          0.01637408190241044
         ]
        },
        {
         "line": {
          "color": "rgba(128, 0, 128, 0.7999999999999998)",
          "dash": "solid",
          "shape": "linear",
          "width": 1.3
         },
         "mode": "lines",
         "name": "Corn Tamales",
         "text": "",
         "type": "scatter",
         "x": [
          6.199646931602732,
          6.346250405794607,
          6.474083777304492,
          6.587412462611495,
          6.689195156921437,
          6.781568477052453,
          6.866125865080516,
          6.944087406550228,
          7.016408068129854,
          7.083849348925386,
          7.147028250546918,
          7.206451671017719,
          7.262541137668762,
          7.315650962982711,
          7.3660818166096025,
          7.4140910357959635,
          7.459900571827258,
          7.5037031944856505,
          7.545667393584683,
          7.585941292722623
         ],
         "y": [
          0.01750204267716574,
          0.01752257273447712,
          0.01752008693863691,
          0.017502423361964354,
          0.01747449951219112,
          0.017439532314353908,
          0.01739969649326405,
          0.01735650128005721,
          0.01731101641207764,
          0.017264013137548082,
          0.017216055137435005,
          0.017167558822289108,
          0.017118834298296935,
          0.01707011379110726,
          0.017021571734118723,
          0.016973339197956218,
          0.016925514405515315,
          0.01687817049327948,
          0.0168313613059545,
          0.016785125767165638
         ]
        },
        {
         "line": {
          "color": "rgba(219, 64, 82, 0.7999999999999998)",
          "dash": "solid",
          "shape": "linear",
          "width": 1.3
         },
         "mode": "lines",
         "name": "Cornmeal",
         "text": "",
         "type": "scatter",
         "x": [
          6.199646931602732,
          6.346250405794607,
          6.474083777304492,
          6.587412462611495,
          6.689195156921437,
          6.781568477052453,
          6.866125865080516,
          6.944087406550228,
          7.016408068129854,
          7.083849348925386,
          7.147028250546918,
          7.206451671017719,
          7.262541137668762,
          7.315650962982711,
          7.3660818166096025,
          7.4140910357959635,
          7.459900571827258,
          7.5037031944856505,
          7.545667393584683,
          7.585941292722623
         ],
         "y": [
          0.009178178867338793,
          0.008627615243172062,
          0.008169111244213293,
          0.007779109867921126,
          0.007441789960900678,
          0.00714606168922634,
          0.006883880240794221,
          0.006649242947939023,
          0.0064375640961885855,
          0.00624526964514791,
          0.006069525693211527,
          0.005908051338055152,
          0.0057589865077322016,
          0.005620796595874307,
          0.005492202340500529,
          0.005372127391037629,
          0.005259658507773163,
          0.005154014938440914,
          0.005054524565275061,
          0.004960605117282346
         ]
        },
        {
         "line": {
          "color": "rgba(0, 128, 128, 0.7999999999999998)",
          "dash": "solid",
          "shape": "linear",
          "width": 1.3
         },
         "mode": "lines",
         "name": "Crema Fresca",
         "text": "",
         "type": "scatter",
         "x": [
          6.199646931602732,
          6.346250405794607,
          6.474083777304492,
          6.587412462611495,
          6.689195156921437,
          6.781568477052453,
          6.866125865080516,
          6.944087406550228,
          7.016408068129854,
          7.083849348925386,
          7.147028250546918,
          7.206451671017719,
          7.262541137668762,
          7.315650962982711,
          7.3660818166096025,
          7.4140910357959635,
          7.459900571827258,
          7.5037031944856505,
          7.545667393584683,
          7.585941292722623
         ],
         "y": [
          0.013710809229459988,
          0.01387021144487444,
          0.013993271297521882,
          0.014089959766712616,
          0.014166889118205678,
          0.014228631705995259,
          0.0142784573328584,
          0.014318769729733838,
          0.014351377197756181,
          0.014377667010206468,
          0.014398721511232452,
          0.014415397583705459,
          0.014428382371294922,
          0.014438233183146023,
          0.014445406608321575,
          0.014450280112194725,
          0.014453168295440726,
          0.014454335299260507,
          0.014454004385359053,
          0.014452365415811066
         ]
        },
        {
         "line": {
          "color": "rgba(255, 255, 51, 0.7999999999999998)",
          "dash": "solid",
          "shape": "linear",
          "width": 1.3
         },
         "mode": "lines",
         "name": "Cucumbers",
         "text": "",
         "type": "scatter",
         "x": [
          6.199646931602732,
          6.346250405794607,
          6.474083777304492,
          6.587412462611495,
          6.689195156921437,
          6.781568477052453,
          6.866125865080516,
          6.944087406550228,
          7.016408068129854,
          7.083849348925386,
          7.147028250546918,
          7.206451671017719,
          7.262541137668762,
          7.315650962982711,
          7.3660818166096025,
          7.4140910357959635,
          7.459900571827258,
          7.5037031944856505,
          7.545667393584683,
          7.585941292722623
         ],
         "y": [
          0.00444752605049712,
          0.004321152266847784,
          0.004209984957826158,
          0.00411093138842395,
          0.0040217427858624194,
          0.003940735125370766,
          0.0038666158692040454,
          0.003798372095906077,
          0.003735195759333008,
          0.003676432262139099,
          0.0036215441551785224,
          0.003570084934853087,
          0.0035216797534756623,
          0.0034760109687404146,
          0.003432807148404919,
          0.0033918345861777997,
          0.0033528906721516207,
          0.0033157986527644844,
          0.0032804034456382853,
          0.0032465682648846962
         ]
        },
        {
         "line": {
          "color": "rgba(128, 128, 0, 0.7999999999999998)",
          "dash": "solid",
          "shape": "linear",
          "width": 1.3
         },
         "mode": "lines",
         "name": "Dried Seeds",
         "text": "",
         "type": "scatter",
         "x": [
          6.199646931602732,
          6.346250405794607,
          6.474083777304492,
          6.587412462611495,
          6.689195156921437,
          6.781568477052453,
          6.866125865080516,
          6.944087406550228,
          7.016408068129854,
          7.083849348925386,
          7.147028250546918,
          7.206451671017719,
          7.262541137668762,
          7.315650962982711,
          7.3660818166096025,
          7.4140910357959635,
          7.459900571827258,
          7.5037031944856505,
          7.545667393584683,
          7.585941292722623
         ],
         "y": [
          0.006113420667949973,
          0.005998371919844597,
          0.005893894149034444,
          0.005798371355659012,
          0.005710493570686766,
          0.005629199778139324,
          0.005553625268660859,
          0.005483059203594952,
          0.005416911790384584,
          0.005354689176595219,
          0.0052959742347505985,
          0.00524041176956373,
          0.005187697037213075,
          0.005137566754886053,
          0.0050897919958478735,
          0.005044172523973181,
          0.005000532236996115,
          0.004958715471322548,
          0.004918583982178641,
          0.0048800144575515065
         ]
        },
        {
         "line": {
          "color": "rgba(128, 128, 0, 0.7)",
          "dash": "solid",
          "shape": "linear",
          "width": 1.3
         },
         "mode": "lines",
         "name": "Eggs",
         "text": "",
         "type": "scatter",
         "x": [
          6.199646931602732,
          6.346250405794607,
          6.474083777304492,
          6.587412462611495,
          6.689195156921437,
          6.781568477052453,
          6.866125865080516,
          6.944087406550228,
          7.016408068129854,
          7.083849348925386,
          7.147028250546918,
          7.206451671017719,
          7.262541137668762,
          7.315650962982711,
          7.3660818166096025,
          7.4140910357959635,
          7.459900571827258,
          7.5037031944856505,
          7.545667393584683,
          7.585941292722623
         ],
         "y": [
          0.017648947096833532,
          0.017614736199473773,
          0.017564931524392948,
          0.017505758503543054,
          0.017440986062336763,
          0.01737298537126247,
          0.017303291193039517,
          0.01723291739845709,
          0.017162542855866447,
          0.017092625271445228,
          0.017023473194131274,
          0.0169552928176873,
          0.016888219115308575,
          0.016822336966921324,
          0.01675769574244895,
          0.01669431951640466,
          0.016632214312892357,
          0.01657137329941238,
          0.01651178054357332,
          0.0164534137501108
         ]
        },
        {
         "line": {
          "color": "rgba(251, 128, 114, 0.7)",
          "dash": "solid",
          "shape": "linear",
          "width": 1.3
         },
         "mode": "lines",
         "name": "Fish (Fresh)",
         "text": "",
         "type": "scatter",
         "x": [
          6.199646931602732,
          6.346250405794607,
          6.474083777304492,
          6.587412462611495,
          6.689195156921437,
          6.781568477052453,
          6.866125865080516,
          6.944087406550228,
          7.016408068129854,
          7.083849348925386,
          7.147028250546918,
          7.206451671017719,
          7.262541137668762,
          7.315650962982711,
          7.3660818166096025,
          7.4140910357959635,
          7.459900571827258,
          7.5037031944856505,
          7.545667393584683,
          7.585941292722623
         ],
         "y": [
          0.021614265566602862,
          0.02137331910617139,
          0.021142852905256505,
          0.020923682782890304,
          0.020715664204462976,
          0.020518250348683195,
          0.02033074488004504,
          0.02015241926981237,
          0.019982566836278026,
          0.01982052619238539,
          0.019665689646357655,
          0.019517504222200915,
          0.019375469177783967,
          0.019239132008534224,
          0.01910808395655933,
          0.018981955538065545,
          0.01886041233430359,
          0.0187431511490689,
          0.018629896561223738,
          0.01852039786273427
         ]
        },
        {
         "line": {
          "color": "rgba(128, 177, 211, 0.7)",
          "dash": "solid",
          "shape": "linear",
          "width": 1.3
         },
         "mode": "lines",
         "name": "Garlic",
         "text": "",
         "type": "scatter",
         "x": [
          6.199646931602732,
          6.346250405794607,
          6.474083777304492,
          6.587412462611495,
          6.689195156921437,
          6.781568477052453,
          6.866125865080516,
          6.944087406550228,
          7.016408068129854,
          7.083849348925386,
          7.147028250546918,
          7.206451671017719,
          7.262541137668762,
          7.315650962982711,
          7.3660818166096025,
          7.4140910357959635,
          7.459900571827258,
          7.5037031944856505,
          7.545667393584683,
          7.585941292722623
         ],
         "y": [
          0.003422586662285952,
          0.003239233140077876,
          0.0030851645847005046,
          0.002953101002443823,
          0.002838103034796747,
          0.002736677895756455,
          0.0026462722290122023,
          0.0025649677200508467,
          0.0024912898037704728,
          0.0024240827637751878,
          0.0023624255047326745,
          0.002305573159958395,
          0.002252915627697265,
          0.0022039475039774903,
          0.0021582458719834655,
          0.0021154536224285408,
          0.002075266741360523,
          0.0020374244920459785,
          0.0020017017402132204,
          0.0019679028886446315
         ]
        },
        {
         "line": {
          "color": "rgba(255, 153, 51, 0.7)",
          "dash": "solid",
          "shape": "linear",
          "width": 1.3
         },
         "mode": "lines",
         "name": "Granulated Sugar",
         "text": "",
         "type": "scatter",
         "x": [
          6.199646931602732,
          6.346250405794607,
          6.474083777304492,
          6.587412462611495,
          6.689195156921437,
          6.781568477052453,
          6.866125865080516,
          6.944087406550228,
          7.016408068129854,
          7.083849348925386,
          7.147028250546918,
          7.206451671017719,
          7.262541137668762,
          7.315650962982711,
          7.3660818166096025,
          7.4140910357959635,
          7.459900571827258,
          7.5037031944856505,
          7.545667393584683,
          7.585941292722623
         ],
         "y": [
          0.012786852751616725,
          0.012059420465327292,
          0.011451037820165192,
          0.010931650063484354,
          0.010480975444884445,
          0.010084738682509847,
          0.009732546533000219,
          0.009416618931564116,
          0.009130994999894627,
          0.008871016606180279,
          0.008632981299343595,
          0.008413902451890378,
          0.008211339428264006,
          0.00802327475762062,
          0.007848023623179769,
          0.007684166045793022,
          0.007530495308468787,
          0.007385978202277274,
          0.007249724009335044,
          0.0071209600334638315
         ]
        },
        {
         "line": {
          "color": "rgba(55, 128, 191, 0.7)",
          "dash": "solid",
          "shape": "linear",
          "width": 1.3
         },
         "mode": "lines",
         "name": "Herbs",
         "text": "",
         "type": "scatter",
         "x": [
          6.199646931602732,
          6.346250405794607,
          6.474083777304492,
          6.587412462611495,
          6.689195156921437,
          6.781568477052453,
          6.866125865080516,
          6.944087406550228,
          7.016408068129854,
          7.083849348925386,
          7.147028250546918,
          7.206451671017719,
          7.262541137668762,
          7.315650962982711,
          7.3660818166096025,
          7.4140910357959635,
          7.459900571827258,
          7.5037031944856505,
          7.545667393584683,
          7.585941292722623
         ],
         "y": [
          0.003821441602057405,
          0.0036744975911536487,
          0.003547983675603678,
          0.003437265901997827,
          0.003339099590576198,
          0.003251128200131131,
          0.0031715887141410717,
          0.0030991293839010225,
          0.003032692159286635,
          0.0029714341447720934,
          0.002914673542445615,
          0.0028618514833712743,
          0.00281250447071661,
          0.0027662440915979204,
          0.0027227418196780666,
          0.0026817174541184695,
          0.0026429302022048418,
          0.002606171714643021,
          0.002571260583940418,
          0.002538037953389464
         ]
        },
        {
         "line": {
          "color": "rgba(50, 171, 96, 0.7)",
          "dash": "solid",
          "shape": "linear",
          "width": 1.3
         },
         "mode": "lines",
         "name": "Ice Cream",
         "text": "",
         "type": "scatter",
         "x": [
          6.199646931602732,
          6.346250405794607,
          6.474083777304492,
          6.587412462611495,
          6.689195156921437,
          6.781568477052453,
          6.866125865080516,
          6.944087406550228,
          7.016408068129854,
          7.083849348925386,
          7.147028250546918,
          7.206451671017719,
          7.262541137668762,
          7.315650962982711,
          7.3660818166096025,
          7.4140910357959635,
          7.459900571827258,
          7.5037031944856505,
          7.545667393584683,
          7.585941292722623
         ],
         "y": [
          0.008112522910725402,
          0.008743705872738665,
          0.00931775133141749,
          0.009845061918366834,
          0.010333331749598548,
          0.010788430261399253,
          0.011214948314282104,
          0.011616551708096279,
          0.011996218916680458,
          0.012356406127318347,
          0.012699164945208499,
          0.013026228306457357,
          0.013339074461514756,
          0.013638975475542723,
          0.01392703457152157,
          0.014204215285775304,
          0.014471364517306663,
          0.014729230956374273,
          0.014978479970035517,
          0.015219705738205835
         ]
        },
        {
         "line": {
          "color": "rgba(128, 0, 128, 0.7)",
          "dash": "solid",
          "shape": "linear",
          "width": 1.3
         },
         "mode": "lines",
         "name": "Incaparina",
         "text": "",
         "type": "scatter",
         "x": [
          6.199646931602732,
          6.346250405794607,
          6.474083777304492,
          6.587412462611495,
          6.689195156921437,
          6.781568477052453,
          6.866125865080516,
          6.944087406550228,
          7.016408068129854,
          7.083849348925386,
          7.147028250546918,
          7.206451671017719,
          7.262541137668762,
          7.315650962982711,
          7.3660818166096025,
          7.4140910357959635,
          7.459900571827258,
          7.5037031944856505,
          7.545667393584683,
          7.585941292722623
         ],
         "y": [
          0.008575459818171167,
          0.008119290735430981,
          0.007735771701818284,
          0.007406875449204007,
          0.007120362983414236,
          0.006867574966649527,
          0.006642178070001026,
          0.006439412095516284,
          0.006255616589717729,
          0.0060879216151084655,
          0.005934039135010985,
          0.005792118333764598,
          0.005660642846756042,
          0.005538356214299084,
          0.005424206798520973,
          0.005317306406255974,
          0.0052168987460607386,
          0.005122335060649053,
          0.005033055074725274,
          0.00494857193480567
         ]
        },
        {
         "line": {
          "color": "rgba(219, 64, 82, 0.7)",
          "dash": "solid",
          "shape": "linear",
          "width": 1.3
         },
         "mode": "lines",
         "name": "Juice (Branded)",
         "text": "",
         "type": "scatter",
         "x": [
          6.199646931602732,
          6.346250405794607,
          6.474083777304492,
          6.587412462611495,
          6.689195156921437,
          6.781568477052453,
          6.866125865080516,
          6.944087406550228,
          7.016408068129854,
          7.083849348925386,
          7.147028250546918,
          7.206451671017719,
          7.262541137668762,
          7.315650962982711,
          7.3660818166096025,
          7.4140910357959635,
          7.459900571827258,
          7.5037031944856505,
          7.545667393584683,
          7.585941292722623
         ],
         "y": [
          0.008926417302211035,
          0.009599329917621607,
          0.010209706412374306,
          0.010769086338063895,
          0.011285977450193507,
          0.01176685178903837,
          0.01221675905572499,
          0.012639722504306162,
          0.013039004478875018,
          0.013417290321963414,
          0.01377681925760781,
          0.014119479738057836,
          0.014446880326109768,
          0.014760403336083314,
          0.015061246071384976,
          0.015350452974282017,
          0.015628941008040836,
          0.015897519924807445,
          0.016156908617133595,
          0.016407748434038697
         ]
        },
        {
         "line": {
          "color": "rgba(0, 128, 128, 0.7)",
          "dash": "solid",
          "shape": "linear",
          "width": 1.3
         },
         "mode": "lines",
         "name": "Juices (Packaged)",
         "text": "",
         "type": "scatter",
         "x": [
          6.199646931602732,
          6.346250405794607,
          6.474083777304492,
          6.587412462611495,
          6.689195156921437,
          6.781568477052453,
          6.866125865080516,
          6.944087406550228,
          7.016408068129854,
          7.083849348925386,
          7.147028250546918,
          7.206451671017719,
          7.262541137668762,
          7.315650962982711,
          7.3660818166096025,
          7.4140910357959635,
          7.459900571827258,
          7.5037031944856505,
          7.545667393584683,
          7.585941292722623
         ],
         "y": [
          0.020029365245422075,
          0.020737988399206535,
          0.021345795446263825,
          0.021875799300964182,
          0.022344062030942115,
          0.022762225450120712,
          0.023138987716608304,
          0.023481012079804228,
          0.02379351095185379,
          0.02408063508702311,
          0.024345740925309167,
          0.02459157910128276,
          0.024820430409095283,
          0.025034205832835617,
          0.025234521439776194,
          0.025422755333647174,
          0.02560009157427491,
          0.025767554475119515,
          0.025926035693760625,
          0.026076315852726937
         ]
        },
        {
         "line": {
          "color": "rgba(255, 255, 51, 0.7)",
          "dash": "solid",
          "shape": "linear",
          "width": 1.3
         },
         "mode": "lines",
         "name": "Lemons",
         "text": "",
         "type": "scatter",
         "x": [
          6.199646931602732,
          6.346250405794607,
          6.474083777304492,
          6.587412462611495,
          6.689195156921437,
          6.781568477052453,
          6.866125865080516,
          6.944087406550228,
          7.016408068129854,
          7.083849348925386,
          7.147028250546918,
          7.206451671017719,
          7.262541137668762,
          7.315650962982711,
          7.3660818166096025,
          7.4140910357959635,
          7.459900571827258,
          7.5037031944856505,
          7.545667393584683,
          7.585941292722623
         ],
         "y": [
          0.003092774143891032,
          0.0031633812934306112,
          0.0032219659778287973,
          0.0032715015126113475,
          0.0033140173622246737,
          0.0033509551163478793,
          0.003383372144052654,
          0.0034120647203323066,
          0.0034376458880079545,
          0.0034605965680593992,
          0.0034813001843348205,
          0.003500066762215869,
          0.0035171500984447195,
          0.0035327602475107604,
          0.003547072767930849,
          0.003560235680277852,
          0.0035723747793131914,
          0.0035835977425936736,
          0.003593997345843231,
          0.0036036540063568018
         ]
        },
        {
         "line": {
          "color": "rgba(255, 255, 51, 0.5999999999999999)",
          "dash": "solid",
          "shape": "linear",
          "width": 1.3
         },
         "mode": "lines",
         "name": "Lettuce",
         "text": "",
         "type": "scatter",
         "x": [
          6.199646931602732,
          6.346250405794607,
          6.474083777304492,
          6.587412462611495,
          6.689195156921437,
          6.781568477052453,
          6.866125865080516,
          6.944087406550228,
          7.016408068129854,
          7.083849348925386,
          7.147028250546918,
          7.206451671017719,
          7.262541137668762,
          7.315650962982711,
          7.3660818166096025,
          7.4140910357959635,
          7.459900571827258,
          7.5037031944856505,
          7.545667393584683,
          7.585941292722623
         ],
         "y": [
          0.004464200530496211,
          0.004426974998155219,
          0.0043899861383597145,
          0.004353855479380366,
          0.004318867838730024,
          0.004285137090890779,
          0.004252687885770487,
          0.0042214980352463915,
          0.004191521325447783,
          0.0041627001050295554,
          0.004134972325970774,
          0.004108275483745417,
          0.0040825487855028555,
          0.004057734289987449,
          0.004033777446093648,
          0.0040106272799035805,
          0.003988236378768531,
          0.003966560761649436,
          0.003945559689578145,
          0.0039251954487134885
         ]
        },
        {
         "line": {
          "color": "rgba(128, 128, 0, 0.5999999999999999)",
          "dash": "solid",
          "shape": "linear",
          "width": 1.3
         },
         "mode": "lines",
         "name": "Maize",
         "text": "",
         "type": "scatter",
         "x": [
          6.199646931602732,
          6.346250405794607,
          6.474083777304492,
          6.587412462611495,
          6.689195156921437,
          6.781568477052453,
          6.866125865080516,
          6.944087406550228,
          7.016408068129854,
          7.083849348925386,
          7.147028250546918,
          7.206451671017719,
          7.262541137668762,
          7.315650962982711,
          7.3660818166096025,
          7.4140910357959635,
          7.459900571827258,
          7.5037031944856505,
          7.545667393584683,
          7.585941292722623
         ],
         "y": [
          0.0020014690740624897,
          0.0017314208708365956,
          0.001525843255726167,
          0.0013640846194921561,
          0.001233467493479395,
          0.001125777413082865,
          0.001035457193907884,
          0.0009586124661560858,
          0.0008924328099068933,
          0.0008348390234953861,
          0.0007842597473351283,
          0.0007394852780600013,
          0.000699569142856275,
          0.000663760166693408,
          0.0006314545503120459,
          0.0006021614026457831,
          0.000575477516885774,
          0.0005510686212395339,
          0.0005286552445964212,
          0.0005080019238495878
         ]
        },
        {
         "line": {
          "color": "rgba(251, 128, 114, 0.5999999999999999)",
          "dash": "solid",
          "shape": "linear",
          "width": 1.3
         },
         "mode": "lines",
         "name": "Margarine",
         "text": "",
         "type": "scatter",
         "x": [
          6.199646931602732,
          6.346250405794607,
          6.474083777304492,
          6.587412462611495,
          6.689195156921437,
          6.781568477052453,
          6.866125865080516,
          6.944087406550228,
          7.016408068129854,
          7.083849348925386,
          7.147028250546918,
          7.206451671017719,
          7.262541137668762,
          7.315650962982711,
          7.3660818166096025,
          7.4140910357959635,
          7.459900571827258,
          7.5037031944856505,
          7.545667393584683,
          7.585941292722623
         ],
         "y": [
          0.006385451251592792,
          0.006205990880206124,
          0.006047999650805656,
          0.005907132175486436,
          0.005780223462369443,
          0.005664900175605418,
          0.005559338713456844,
          0.005462108664013368,
          0.005372068037689039,
          0.005288291079334379,
          0.005210017252905084,
          0.0051366143804761925,
          0.005067551482693596,
          0.0050023784171136275,
          0.004940710374657922,
          0.004882215909645184,
          0.004826607581217062,
          0.004773634552592999,
          0.0047230766774778365,
          0.004674739729648902
         ]
        },
        {
         "line": {
          "color": "rgba(128, 177, 211, 0.5999999999999999)",
          "dash": "solid",
          "shape": "linear",
          "width": 1.3
         },
         "mode": "lines",
         "name": "Melons",
         "text": "",
         "type": "scatter",
         "x": [
          6.199646931602732,
          6.346250405794607,
          6.474083777304492,
          6.587412462611495,
          6.689195156921437,
          6.781568477052453,
          6.866125865080516,
          6.944087406550228,
          7.016408068129854,
          7.083849348925386,
          7.147028250546918,
          7.206451671017719,
          7.262541137668762,
          7.315650962982711,
          7.3660818166096025,
          7.4140910357959635,
          7.459900571827258,
          7.5037031944856505,
          7.545667393584683,
          7.585941292722623
         ],
         "y": [
          0.007897519816166832,
          0.007860027213637516,
          0.007818738842355835,
          0.007775724063386202,
          0.007732164923290923,
          0.007688754547084966,
          0.007645903599030194,
          0.0076038535881641734,
          0.007562741953063157,
          0.007522640851127009,
          0.007483580980196517,
          0.007445566569834438,
          0.00740858500350833,
          0.007372613091494321,
          0.007337621208581773,
          0.007303576045015745,
          0.007270442442649434,
          0.007238184619695552,
          0.007206766982458649,
          0.007176154655686726
         ]
        },
        {
         "line": {
          "color": "rgba(255, 153, 51, 0.5999999999999999)",
          "dash": "solid",
          "shape": "linear",
          "width": 1.3
         },
         "mode": "lines",
         "name": "Milk",
         "text": "",
         "type": "scatter",
         "visible": "legendonly",
         "x": [
          6.199646931602732,
          6.346250405794607,
          6.474083777304492,
          6.587412462611495,
          6.689195156921437,
          6.781568477052453,
          6.866125865080516,
          6.944087406550228,
          7.016408068129854,
          7.083849348925386,
          7.147028250546918,
          7.206451671017719,
          7.262541137668762,
          7.315650962982711,
          7.3660818166096025,
          7.4140910357959635,
          7.459900571827258,
          7.5037031944856505,
          7.545667393584683,
          7.585941292722623
         ],
         "y": [
          0.04122487233507956,
          0.04353143168187333,
          0.04557551774953451,
          0.04741081084166609,
          0.04907589122908679,
          0.05059945865356065,
          0.05200346406082364,
          0.05330508535704253,
          0.05451802595558734,
          0.05565339780885605,
          0.056720339443317204,
          0.05772645934994028,
          0.058678160978326815,
          0.059580885468262734,
          0.060439295978040056,
          0.06125741974654276,
          0.062038759041922686,
          0.06278637885286134,
          0.0635029769523785,
          0.06419094043183797
         ]
        },
        {
         "line": {
          "color": "rgba(55, 128, 191, 0.5999999999999999)",
          "dash": "solid",
          "shape": "linear",
          "width": 1.3
         },
         "mode": "lines",
         "name": "Milk (powdered)",
         "text": "",
         "type": "scatter",
         "x": [
          6.199646931602732,
          6.346250405794607,
          6.474083777304492,
          6.587412462611495,
          6.689195156921437,
          6.781568477052453,
          6.866125865080516,
          6.944087406550228,
          7.016408068129854,
          7.083849348925386,
          7.147028250546918,
          7.206451671017719,
          7.262541137668762,
          7.315650962982711,
          7.3660818166096025,
          7.4140910357959635,
          7.459900571827258,
          7.5037031944856505,
          7.545667393584683,
          7.585941292722623
         ],
         "y": [
          0.03186549834032941,
          0.031796505669975904,
          0.0317003793959089,
          0.03158813183611653,
          0.031466406965175824,
          0.03133936834249676,
          0.03120969854221316,
          0.031079160013436153,
          0.030948924975149762,
          0.030819777099634668,
          0.030692238847538713,
          0.030566654073797554,
          0.030443242866555417,
          0.030322138676419516,
          0.030203413882764516,
          0.030087097653379132,
          0.02997318857458253,
          0.02986166367578062,
          0.02975248493290114,
          0.02964560398675489
         ]
        },
        {
         "line": {
          "color": "rgba(50, 171, 96, 0.5999999999999999)",
          "dash": "solid",
          "shape": "linear",
          "width": 1.3
         },
         "mode": "lines",
         "name": "Mineral Water",
         "text": "",
         "type": "scatter",
         "x": [
          6.199646931602732,
          6.346250405794607,
          6.474083777304492,
          6.587412462611495,
          6.689195156921437,
          6.781568477052453,
          6.866125865080516,
          6.944087406550228,
          7.016408068129854,
          7.083849348925386,
          7.147028250546918,
          7.206451671017719,
          7.262541137668762,
          7.315650962982711,
          7.3660818166096025,
          7.4140910357959635,
          7.459900571827258,
          7.5037031944856505,
          7.545667393584683,
          7.585941292722623
         ],
         "y": [
          0.024716268032432532,
          0.025068794564442227,
          0.0253481652712543,
          0.025573863046736357,
          0.0257589141538294,
          0.025912396159326428,
          0.026040848865505856,
          0.026149114329349576,
          0.02624086054794201,
          0.026318920658249517,
          0.026385519851251912,
          0.02644243142526064,
          0.026491086708450663,
          0.02653265412714799,
          0.026568097142778392,
          0.026598217409136826,
          0.026623687397694565,
          0.02664507539078807,
          0.02666286485966393,
          0.02667746965400136
         ]
        },
        {
         "line": {
          "color": "rgba(128, 0, 128, 0.5999999999999999)",
          "dash": "solid",
          "shape": "linear",
          "width": 1.3
         },
         "mode": "lines",
         "name": "Onions",
         "text": "",
         "type": "scatter",
         "x": [
          6.199646931602732,
          6.346250405794607,
          6.474083777304492,
          6.587412462611495,
          6.689195156921437,
          6.781568477052453,
          6.866125865080516,
          6.944087406550228,
          7.016408068129854,
          7.083849348925386,
          7.147028250546918,
          7.206451671017719,
          7.262541137668762,
          7.315650962982711,
          7.3660818166096025,
          7.4140910357959635,
          7.459900571827258,
          7.5037031944856505,
          7.545667393584683,
          7.585941292722623
         ],
         "y": [
          0.004596123741124566,
          0.004523703621616904,
          0.00445689575813085,
          0.004395059819912658,
          0.004337604077249385,
          0.0042840105230572,
          0.004233834408678144,
          0.004186696072371792,
          0.004142271307105465,
          0.0041002823801509,
          0.004060490299030184,
          0.00402268836638977,
          0.00398669688281086,
          0.00395235881365048,
          0.003919536244599427,
          0.003888107475056786,
          0.0038579646252516137,
          0.003829011657163974,
          0.0038011627295051263,
          0.0037743408233418523
         ]
        },
        {
         "line": {
          "color": "rgba(219, 64, 82, 0.5999999999999999)",
          "dash": "solid",
          "shape": "linear",
          "width": 1.3
         },
         "mode": "lines",
         "name": "Oranges",
         "text": "",
         "type": "scatter",
         "x": [
          6.199646931602732,
          6.346250405794607,
          6.474083777304492,
          6.587412462611495,
          6.689195156921437,
          6.781568477052453,
          6.866125865080516,
          6.944087406550228,
          7.016408068129854,
          7.083849348925386,
          7.147028250546918,
          7.206451671017719,
          7.262541137668762,
          7.315650962982711,
          7.3660818166096025,
          7.4140910357959635,
          7.459900571827258,
          7.5037031944856505,
          7.545667393584683,
          7.585941292722623
         ],
         "y": [
          0.011073977387191859,
          0.011572499309693092,
          0.012007429719636555,
          0.012392537209579965,
          0.01273757046320206,
          0.013049686219796757,
          0.01333429373278083,
          0.013595580727010849,
          0.013836855114868233,
          0.014060774946986815,
          0.014269507817543789,
          0.014464844215824972,
          0.014648279928980277,
          0.014821077115654453,
          0.014984310351458061,
          0.015138901875954233,
          0.01528564894382591,
          0.015425245311284362,
          0.015558298304136098,
          0.01568534251399583
         ]
        },
        {
         "line": {
          "color": "rgba(0, 128, 128, 0.5999999999999999)",
          "dash": "solid",
          "shape": "linear",
          "width": 1.3
         },
         "mode": "lines",
         "name": "Other",
         "text": "",
         "type": "scatter",
         "x": [
          6.199646931602732,
          6.346250405794607,
          6.474083777304492,
          6.587412462611495,
          6.689195156921437,
          6.781568477052453,
          6.866125865080516,
          6.944087406550228,
          7.016408068129854,
          7.083849348925386,
          7.147028250546918,
          7.206451671017719,
          7.262541137668762,
          7.315650962982711,
          7.3660818166096025,
          7.4140910357959635,
          7.459900571827258,
          7.5037031944856505,
          7.545667393584683,
          7.585941292722623
         ],
         "y": [
          0.009862534351141686,
          0.009611893051859695,
          0.00938960247765312,
          0.009190198176782181,
          0.009009629915537538,
          0.008844819112496802,
          0.008693374312547986,
          0.008553402630313095,
          0.008423381212878426,
          0.008302067356505318,
          0.008188434207676345,
          0.008081623824529538,
          0.007980912285859641,
          0.00788568333155713,
          0.007795408155925828,
          0.0077096297121912625,
          0.007627950374534567,
          0.007550022133296903,
          0.007475538725338374,
          0.007404229259646776
         ]
        },
        {
         "line": {
          "color": "rgba(0, 128, 128, 0.49999999999999983)",
          "dash": "solid",
          "shape": "linear",
          "width": 1.3
         },
         "mode": "lines",
         "name": "Other Atoles",
         "text": "",
         "type": "scatter",
         "x": [
          6.199646931602732,
          6.346250405794607,
          6.474083777304492,
          6.587412462611495,
          6.689195156921437,
          6.781568477052453,
          6.866125865080516,
          6.944087406550228,
          7.016408068129854,
          7.083849348925386,
          7.147028250546918,
          7.206451671017719,
          7.262541137668762,
          7.315650962982711,
          7.3660818166096025,
          7.4140910357959635,
          7.459900571827258,
          7.5037031944856505,
          7.545667393584683,
          7.585941292722623
         ],
         "y": [
          0.007402061452213191,
          0.0071651653713123735,
          0.00695854013187909,
          0.0067757282423383,
          0.006612111934847548,
          0.006464278857793295,
          0.006329638539458957,
          0.006206179665289894,
          0.006092310510617907,
          0.0059867506058739,
          0.005888455126530245,
          0.005796560845758242,
          0.00571034668432127,
          0.005629204379445151,
          0.005552616317070748,
          0.005480138530761316,
          0.00541138749012709,
          0.005346029710985245,
          0.005283773495581589,
          0.005224362300887151
         ]
        },
        {
         "line": {
          "color": "rgba(255, 255, 51, 0.49999999999999983)",
          "dash": "solid",
          "shape": "linear",
          "width": 1.3
         },
         "mode": "lines",
         "name": "Other Sauces",
         "text": "",
         "type": "scatter",
         "x": [
          6.199646931602732,
          6.346250405794607,
          6.474083777304492,
          6.587412462611495,
          6.689195156921437,
          6.781568477052453,
          6.866125865080516,
          6.944087406550228,
          7.016408068129854,
          7.083849348925386,
          7.147028250546918,
          7.206451671017719,
          7.262541137668762,
          7.315650962982711,
          7.3660818166096025,
          7.4140910357959635,
          7.459900571827258,
          7.5037031944856505,
          7.545667393584683,
          7.585941292722623
         ],
         "y": [
          0.010974009154022312,
          0.010288365535910532,
          0.009719277292794343,
          0.009236609154485473,
          0.008820196442256015,
          0.008455949808611902,
          0.008133677240432862,
          0.007845792994836292,
          0.007586515079668827,
          0.007351346367604344,
          0.007136727758093383,
          0.00693979964988176,
          0.006758233809005647,
          0.006590112274946323,
          0.006433838470799593,
          0.006288070840436254,
          0.006151672548259857,
          0.0060236728306417,
          0.00590323693138492,
          0.005789642450700688
         ]
        },
        {
         "line": {
          "color": "rgba(128, 128, 0, 0.49999999999999983)",
          "dash": "solid",
          "shape": "linear",
          "width": 1.3
         },
         "mode": "lines",
         "name": "Paches",
         "text": "",
         "type": "scatter",
         "x": [
          6.199646931602732,
          6.346250405794607,
          6.474083777304492,
          6.587412462611495,
          6.689195156921437,
          6.781568477052453,
          6.866125865080516,
          6.944087406550228,
          7.016408068129854,
          7.083849348925386,
          7.147028250546918,
          7.206451671017719,
          7.262541137668762,
          7.315650962982711,
          7.3660818166096025,
          7.4140910357959635,
          7.459900571827258,
          7.5037031944856505,
          7.545667393584683,
          7.585941292722623
         ],
         "y": [
          0.014262965166015261,
          0.014079258190234383,
          0.013906356459426754,
          0.01374387118845533,
          0.013591066008706328,
          0.013447119900503169,
          0.013311232758815331,
          0.013182665302211703,
          0.013060750752644595,
          0.012944894419302253,
          0.012834568390602343,
          0.012729304600933028,
          0.012628687738637547,
          0.012532348619579126,
          0.012439958254050157,
          0.012351222649907944,
          0.012265878313135786,
          0.012183688374899086,
          0.012104439265957008,
          0.012027937862001655
         ]
        },
        {
         "line": {
          "color": "rgba(251, 128, 114, 0.49999999999999983)",
          "dash": "solid",
          "shape": "linear",
          "width": 1.3
         },
         "mode": "lines",
         "name": "Papaya",
         "text": "",
         "type": "scatter",
         "x": [
          6.199646931602732,
          6.346250405794607,
          6.474083777304492,
          6.587412462611495,
          6.689195156921437,
          6.781568477052453,
          6.866125865080516,
          6.944087406550228,
          7.016408068129854,
          7.083849348925386,
          7.147028250546918,
          7.206451671017719,
          7.262541137668762,
          7.315650962982711,
          7.3660818166096025,
          7.4140910357959635,
          7.459900571827258,
          7.5037031944856505,
          7.545667393584683,
          7.585941292722623
         ],
         "y": [
          0.007977188845461154,
          0.007749958719914944,
          0.007550106856058315,
          0.007372058954505461,
          0.007211763407190337,
          0.007066187024278056,
          0.0069330023170305856,
          0.006810385681022062,
          0.006696882613710711,
          0.006591315004622389,
          0.0064927157111219005,
          0.006400281344185496,
          0.006313337517396976,
          0.006231312818219067,
          0.006153719005899483,
          0.006080135734028306,
          0.006010198614065044,
          0.005943589781755037,
          0.005880030363401123,
          0.005819274401635466
         ]
        },
        {
         "line": {
          "color": "rgba(128, 177, 211, 0.49999999999999983)",
          "dash": "solid",
          "shape": "linear",
          "width": 1.3
         },
         "mode": "lines",
         "name": "Pasta",
         "text": "",
         "type": "scatter",
         "x": [
          6.199646931602732,
          6.346250405794607,
          6.474083777304492,
          6.587412462611495,
          6.689195156921437,
          6.781568477052453,
          6.866125865080516,
          6.944087406550228,
          7.016408068129854,
          7.083849348925386,
          7.147028250546918,
          7.206451671017719,
          7.262541137668762,
          7.315650962982711,
          7.3660818166096025,
          7.4140910357959635,
          7.459900571827258,
          7.5037031944856505,
          7.545667393584683,
          7.585941292722623
         ],
         "y": [
          0.0089254546125494,
          0.00863018832749978,
          0.00837325491482476,
          0.008146378456425244,
          0.007943665269706222,
          0.0077607747649582354,
          0.007594421043365858,
          0.007442058952622946,
          0.007301678489201705,
          0.007171665662715462,
          0.007050705658144799,
          0.00693771378185362,
          0.006831785165457385,
          0.006732157441937684,
          0.006638182585580247,
          0.006549305348851311,
          0.0064650465295179324,
          0.006384989828806095,
          0.006308771416451363,
          0.006236071561974167
         ]
        },
        {
         "line": {
          "color": "rgba(255, 153, 51, 0.49999999999999983)",
          "dash": "solid",
          "shape": "linear",
          "width": 1.3
         },
         "mode": "lines",
         "name": "Peas",
         "text": "",
         "type": "scatter",
         "x": [
          6.199646931602732,
          6.346250405794607,
          6.474083777304492,
          6.587412462611495,
          6.689195156921437,
          6.781568477052453,
          6.866125865080516,
          6.944087406550228,
          7.016408068129854,
          7.083849348925386,
          7.147028250546918,
          7.206451671017719,
          7.262541137668762,
          7.315650962982711,
          7.3660818166096025,
          7.4140910357959635,
          7.459900571827258,
          7.5037031944856505,
          7.545667393584683,
          7.585941292722623
         ],
         "y": [
          0.004814319146511055,
          0.004757609753646489,
          0.004703710760689705,
          0.0046526907959734045,
          0.004604439394199148,
          0.004558778510074389,
          0.004515511376022621,
          0.004474444069268771,
          0.004435394627654016,
          0.004398196335368696,
          0.004362698270277207,
          0.00432876460264041,
          0.00429627337607124,
          0.00426511512984298,
          0.004235191535474243,
          0.004206414125806019,
          0.004178703146728723,
          0.004151986537559294,
          0.00412619903445665,
          0.0041012813861912465
         ]
        },
        {
         "line": {
          "color": "rgba(55, 128, 191, 0.49999999999999983)",
          "dash": "solid",
          "shape": "linear",
          "width": 1.3
         },
         "mode": "lines",
         "name": "Pineapples",
         "text": "",
         "type": "scatter",
         "x": [
          6.199646931602732,
          6.346250405794607,
          6.474083777304492,
          6.587412462611495,
          6.689195156921437,
          6.781568477052453,
          6.866125865080516,
          6.944087406550228,
          7.016408068129854,
          7.083849348925386,
          7.147028250546918,
          7.206451671017719,
          7.262541137668762,
          7.315650962982711,
          7.3660818166096025,
          7.4140910357959635,
          7.459900571827258,
          7.5037031944856505,
          7.545667393584683,
          7.585941292722623
         ],
         "y": [
          0.006613482415792518,
          0.006403097762368899,
          0.006219517666820431,
          0.006057036864278462,
          0.005911572343720102,
          0.005780105026313259,
          0.005660341794522518,
          0.005550501415653732,
          0.005449173704605227,
          0.0053552238471956965,
          0.00526772558977892,
          0.0051859134604114385,
          0.005109147880315709,
          0.0050368892150474895,
          0.004968678156733481,
          0.004904120674275592,
          0.0048428763150382996,
          0.004784649002834453,
          0.00472917972081305,
          0.004676240635393523
         ]
        },
        {
         "line": {
          "color": "rgba(50, 171, 96, 0.49999999999999983)",
          "dash": "solid",
          "shape": "linear",
          "width": 1.3
         },
         "mode": "lines",
         "name": "Pork",
         "text": "",
         "type": "scatter",
         "x": [
          6.199646931602732,
          6.346250405794607,
          6.474083777304492,
          6.587412462611495,
          6.689195156921437,
          6.781568477052453,
          6.866125865080516,
          6.944087406550228,
          7.016408068129854,
          7.083849348925386,
          7.147028250546918,
          7.206451671017719,
          7.262541137668762,
          7.315650962982711,
          7.3660818166096025,
          7.4140910357959635,
          7.459900571827258,
          7.5037031944856505,
          7.545667393584683,
          7.585941292722623
         ],
         "y": [
          0.03495786697191939,
          0.03420846059436696,
          0.0335351068311789,
          0.03292466193103661,
          0.03236697935213624,
          0.03185411148192841,
          0.03137973880089899,
          0.030938764335490875,
          0.03052702313665893,
          0.030141071359046062,
          0.029778030849702857,
          0.029435472937559416,
          0.029111330303842584,
          0.028803829260318523,
          0.028511437068472017,
          0.02823282049195792,
          0.02796681284422328,
          0.027712387535764525,
          0.027468636648411683,
          0.027234753436967855
         ]
        },
        {
         "line": {
          "color": "rgba(128, 0, 128, 0.49999999999999983)",
          "dash": "solid",
          "shape": "linear",
          "width": 1.3
         },
         "mode": "lines",
         "name": "Pork (cracklings)",
         "text": "",
         "type": "scatter",
         "x": [
          6.199646931602732,
          6.346250405794607,
          6.474083777304492,
          6.587412462611495,
          6.689195156921437,
          6.781568477052453,
          6.866125865080516,
          6.944087406550228,
          7.016408068129854,
          7.083849348925386,
          7.147028250546918,
          7.206451671017719,
          7.262541137668762,
          7.315650962982711,
          7.3660818166096025,
          7.4140910357959635,
          7.459900571827258,
          7.5037031944856505,
          7.545667393584683,
          7.585941292722623
         ],
         "y": [
          0.01582546890019217,
          0.015736681045033236,
          0.015642286549801453,
          0.01554597622326213,
          0.015449798973156344,
          0.01535491132393159,
          0.015261962306102685,
          0.015171302604890663,
          0.01508310340180191,
          0.014997426350624272,
          0.01491426596851516,
          0.014833575898551164,
          0.014755285461395526,
          0.014679310214432499,
          0.01460555873638195,
          0.014533936993464133,
          0.014464351134664167,
          0.014396709255600455,
          0.014330922479989544,
          0.014266905587523564
         ]
        },
        {
         "line": {
          "color": "rgba(219, 64, 82, 0.49999999999999983)",
          "dash": "solid",
          "shape": "linear",
          "width": 1.3
         },
         "mode": "lines",
         "name": "Potatoes",
         "text": "",
         "type": "scatter",
         "x": [
          6.199646931602732,
          6.346250405794607,
          6.474083777304492,
          6.587412462611495,
          6.689195156921437,
          6.781568477052453,
          6.866125865080516,
          6.944087406550228,
          7.016408068129854,
          7.083849348925386,
          7.147028250546918,
          7.206451671017719,
          7.262541137668762,
          7.315650962982711,
          7.3660818166096025,
          7.4140910357959635,
          7.459900571827258,
          7.5037031944856505,
          7.545667393584683,
          7.585941292722623
         ],
         "y": [
          0.006689039171456758,
          0.006677983300420858,
          0.006660748060037394,
          0.006639752872617172,
          0.006616468544638482,
          0.00659182475143639,
          0.006566426492371245,
          0.00654067598823106,
          0.006514844641526566,
          0.006489117197237246,
          0.006463619736001818,
          0.006438437911487597,
          0.006413629112702308,
          0.006389230739098353,
          0.006365265929017993,
          0.006341747584719812,
          0.006318681237121584,
          0.006296067107339797,
          0.006273901604178235,
          0.0062521784203907116
         ]
        },
        {
         "line": {
          "color": "rgba(219, 64, 82, 0.39999999999999974)",
          "dash": "solid",
          "shape": "linear",
          "width": 1.3
         },
         "mode": "lines",
         "name": "Queso",
         "text": "",
         "type": "scatter",
         "x": [
          6.199646931602732,
          6.346250405794607,
          6.474083777304492,
          6.587412462611495,
          6.689195156921437,
          6.781568477052453,
          6.866125865080516,
          6.944087406550228,
          7.016408068129854,
          7.083849348925386,
          7.147028250546918,
          7.206451671017719,
          7.262541137668762,
          7.315650962982711,
          7.3660818166096025,
          7.4140910357959635,
          7.459900571827258,
          7.5037031944856505,
          7.545667393584683,
          7.585941292722623
         ],
         "y": [
          0.014304201873425043,
          0.01423935493333137,
          0.014167187572590915,
          0.014091549055039355,
          0.014014651383050252,
          0.013937801654856051,
          0.013861782386527114,
          0.013787060696467558,
          0.01371390875449922,
          0.013642475757367833,
          0.013572832261231179,
          0.01350499817336396,
          0.013438960786815765,
          0.013374686589239208,
          0.013312129092463322,
          0.013251234070259318,
          0.013191943080935676,
          0.013134195839460258,
          0.01307793180920301,
          0.013023091259494773
         ]
        },
        {
         "line": {
          "color": "rgba(0, 128, 128, 0.39999999999999974)",
          "dash": "solid",
          "shape": "linear",
          "width": 1.3
         },
         "mode": "lines",
         "name": "Rice",
         "text": "",
         "type": "scatter",
         "x": [
          6.199646931602732,
          6.346250405794607,
          6.474083777304492,
          6.587412462611495,
          6.689195156921437,
          6.781568477052453,
          6.866125865080516,
          6.944087406550228,
          7.016408068129854,
          7.083849348925386,
          7.147028250546918,
          7.206451671017719,
          7.262541137668762,
          7.315650962982711,
          7.3660818166096025,
          7.4140910357959635,
          7.459900571827258,
          7.5037031944856505,
          7.545667393584683,
          7.585941292722623
         ],
         "y": [
          0.009796935154618863,
          0.009616235207949247,
          0.009451858882372403,
          0.009301369416412384,
          0.009162771903245256,
          0.009034440109424093,
          0.008915042593823261,
          0.008803481050369674,
          0.008698841721628998,
          0.008600357801952174,
          0.008507380429967225,
          0.008419356224685854,
          0.00833580977158243,
          0.008256329857703098,
          0.008180558561246639,
          0.008108182529957266,
          0.008038925951471687,
          0.007972544842380263,
          0.007908822373579533,
          0.007847565016498723
         ]
        },
        {
         "line": {
          "color": "rgba(255, 255, 51, 0.39999999999999974)",
          "dash": "solid",
          "shape": "linear",
          "width": 1.3
         },
         "mode": "lines",
         "name": "Rolled Oats",
         "text": "",
         "type": "scatter",
         "x": [
          6.199646931602732,
          6.346250405794607,
          6.474083777304492,
          6.587412462611495,
          6.689195156921437,
          6.781568477052453,
          6.866125865080516,
          6.944087406550228,
          7.016408068129854,
          7.083849348925386,
          7.147028250546918,
          7.206451671017719,
          7.262541137668762,
          7.315650962982711,
          7.3660818166096025,
          7.4140910357959635,
          7.459900571827258,
          7.5037031944856505,
          7.545667393584683,
          7.585941292722623
         ],
         "y": [
          0.00932472474348462,
          0.008857756652023109,
          0.008463351782494806,
          0.008123785478684939,
          0.0078269582796937,
          0.007564269359878083,
          0.007329402376579495,
          0.007117592638246369,
          0.006925164292892575,
          0.006749226826414022,
          0.006587469593235297,
          0.006438018865787034,
          0.006299335998557558,
          0.0061701433626652515,
          0.006049369483127032,
          0.005936107732964186,
          0.005829584777233787,
          0.005729136146634131,
          0.005634187103392287,
          0.005544237489450814
         ]
        },
        {
         "line": {
          "color": "rgba(128, 128, 0, 0.39999999999999974)",
          "dash": "solid",
          "shape": "linear",
          "width": 1.3
         },
         "mode": "lines",
         "name": "Salt",
         "text": "",
         "type": "scatter",
         "x": [
          6.199646931602732,
          6.346250405794607,
          6.474083777304492,
          6.587412462611495,
          6.689195156921437,
          6.781568477052453,
          6.866125865080516,
          6.944087406550228,
          7.016408068129854,
          7.083849348925386,
          7.147028250546918,
          7.206451671017719,
          7.262541137668762,
          7.315650962982711,
          7.3660818166096025,
          7.4140910357959635,
          7.459900571827258,
          7.5037031944856505,
          7.545667393584683,
          7.585941292722623
         ],
         "y": [
          0.0013741846187228877,
          0.0012736852466351944,
          0.0011914075206002279,
          0.0011224471918408645,
          0.0010635702870319395,
          0.0010125457337254178,
          0.0009677776383758493,
          0.0009280900844439782,
          0.0008925948753952687,
          0.0008606068892112207,
          0.0008315880199923186,
          0.0008051089501804521,
          0.0007808224137443159,
          0.0007584440778330051,
          0.0007377386026588022,
          0.0007185092992425182,
          0.0007005903364282933,
          0.0006838407861885295,
          0.0006681400156912034,
          0.0006533840802961196
         ]
        },
        {
         "line": {
          "color": "rgba(251, 128, 114, 0.39999999999999974)",
          "dash": "solid",
          "shape": "linear",
          "width": 1.3
         },
         "mode": "lines",
         "name": "Sausages",
         "text": "",
         "type": "scatter",
         "x": [
          6.199646931602732,
          6.346250405794607,
          6.474083777304492,
          6.587412462611495,
          6.689195156921437,
          6.781568477052453,
          6.866125865080516,
          6.944087406550228,
          7.016408068129854,
          7.083849348925386,
          7.147028250546918,
          7.206451671017719,
          7.262541137668762,
          7.315650962982711,
          7.3660818166096025,
          7.4140910357959635,
          7.459900571827258,
          7.5037031944856505,
          7.545667393584683,
          7.585941292722623
         ],
         "y": [
          0.01304970704197052,
          0.01318633723059886,
          0.013290192255407621,
          0.013370397795560467,
          0.013432981325711892,
          0.013482094885170774,
          0.013520696737814588,
          0.013550953771381625,
          0.013574490359708384,
          0.01359254833216123,
          0.013606093210911165,
          0.013615886761235145,
          0.013622537749192726,
          0.013626538211720432,
          0.013628289862693283,
          0.01362812363915848,
          0.013626314386405231,
          0.013623092039436025,
          0.013618650240444077,
          0.01361315305368909
         ]
        },
        {
         "line": {
          "color": "rgba(128, 177, 211, 0.39999999999999974)",
          "dash": "solid",
          "shape": "linear",
          "width": 1.3
         },
         "mode": "lines",
         "name": "Soup",
         "text": "",
         "type": "scatter",
         "x": [
          6.199646931602732,
          6.346250405794607,
          6.474083777304492,
          6.587412462611495,
          6.689195156921437,
          6.781568477052453,
          6.866125865080516,
          6.944087406550228,
          7.016408068129854,
          7.083849348925386,
          7.147028250546918,
          7.206451671017719,
          7.262541137668762,
          7.315650962982711,
          7.3660818166096025,
          7.4140910357959635,
          7.459900571827258,
          7.5037031944856505,
          7.545667393584683,
          7.585941292722623
         ],
         "y": [
          0.00543131339289478,
          0.005413328037933768,
          0.005391604892176393,
          0.005367822115133133,
          0.005342971932139555,
          0.005317661625269846,
          0.005292271519977786,
          0.005267042865660566,
          0.005242129051073473,
          0.005217626610346272,
          0.0051935945953130265,
          0.00517006700196999,
          0.005147060919374478,
          0.005124581973220283,
          0.005102628018784544,
          0.005081191678161896,
          0.0050602621012567125,
          0.005039826197471867,
          0.005019869501708711,
          0.005000376784811881
         ]
        },
        {
         "line": {
          "color": "rgba(255, 153, 51, 0.39999999999999974)",
          "dash": "solid",
          "shape": "linear",
          "width": 1.3
         },
         "mode": "lines",
         "name": "Spices",
         "text": "",
         "type": "scatter",
         "x": [
          6.199646931602732,
          6.346250405794607,
          6.474083777304492,
          6.587412462611495,
          6.689195156921437,
          6.781568477052453,
          6.866125865080516,
          6.944087406550228,
          7.016408068129854,
          7.083849348925386,
          7.147028250546918,
          7.206451671017719,
          7.262541137668762,
          7.315650962982711,
          7.3660818166096025,
          7.4140910357959635,
          7.459900571827258,
          7.5037031944856505,
          7.545667393584683,
          7.585941292722623
         ],
         "y": [
          0.002033989388491043,
          0.0021102897184650314,
          0.0021760068581666257,
          0.0022335275746861016,
          0.0022845232624630397,
          0.0023302089467759045,
          0.0023714948739169,
          0.0024090800597918226,
          0.00244351256453171,
          0.002475229745820024,
          0.002504585968470847,
          0.002531872180982623,
          0.002557330061140429,
          0.0025811624408351285,
          0.0026035411237867504,
          0.00262461283970636,
          0.0026445038425438544,
          0.002663323506316764,
          0.0026811671691061214,
          0.0026981184057285547
         ]
        },
        {
         "line": {
          "color": "rgba(55, 128, 191, 0.39999999999999974)",
          "dash": "solid",
          "shape": "linear",
          "width": 1.3
         },
         "mode": "lines",
         "name": "Sweets",
         "text": "",
         "type": "scatter",
         "x": [
          6.199646931602732,
          6.346250405794607,
          6.474083777304492,
          6.587412462611495,
          6.689195156921437,
          6.781568477052453,
          6.866125865080516,
          6.944087406550228,
          7.016408068129854,
          7.083849348925386,
          7.147028250546918,
          7.206451671017719,
          7.262541137668762,
          7.315650962982711,
          7.3660818166096025,
          7.4140910357959635,
          7.459900571827258,
          7.5037031944856505,
          7.545667393584683,
          7.585941292722623
         ],
         "y": [
          0.004679030231769582,
          0.004904771855469843,
          0.005102688850969308,
          0.0052787041842212975,
          0.005437030524665202,
          0.005580772902885182,
          0.00571228665022354,
          0.005833401193387362,
          0.005945565957924091,
          0.00604994886019877,
          0.006147504780899798,
          0.006239024386035711,
          0.006325169706400227,
          0.006406500568970952,
          0.006483494567967803,
          0.00655656238384329,
          0.006626059693790065,
          0.006692296545673371,
          0.006755544817493245,
          0.006816044213280778
         ]
        },
        {
         "line": {
          "color": "rgba(50, 171, 96, 0.39999999999999974)",
          "dash": "solid",
          "shape": "linear",
          "width": 1.3
         },
         "mode": "lines",
         "name": "Tomato Sauce",
         "text": "",
         "type": "scatter",
         "x": [
          6.199646931602732,
          6.346250405794607,
          6.474083777304492,
          6.587412462611495,
          6.689195156921437,
          6.781568477052453,
          6.866125865080516,
          6.944087406550228,
          7.016408068129854,
          7.083849348925386,
          7.147028250546918,
          7.206451671017719,
          7.262541137668762,
          7.315650962982711,
          7.3660818166096025,
          7.4140910357959635,
          7.459900571827258,
          7.5037031944856505,
          7.545667393584683,
          7.585941292722623
         ],
         "y": [
          0.009583794069771277,
          0.009292061102557241,
          0.009036697531697285,
          0.008810091878813075,
          0.008606764898795714,
          0.008422645933078798,
          0.008254631011610487,
          0.008100301021160664,
          0.007957735257444178,
          0.007825384173164507,
          0.007701980166206212,
          0.007586473561323983,
          0.0074779857222729285,
          0.007375774084788448,
          0.007279205657345626,
          0.007187736648015289,
          0.007100896596912474,
          0.007018275871965133,
          0.006939515709372569,
          0.006864300203132074
         ]
        },
        {
         "line": {
          "color": "rgba(128, 0, 128, 0.39999999999999974)",
          "dash": "solid",
          "shape": "linear",
          "width": 1.3
         },
         "mode": "lines",
         "name": "Tomatoes",
         "text": "",
         "type": "scatter",
         "x": [
          6.199646931602732,
          6.346250405794607,
          6.474083777304492,
          6.587412462611495,
          6.689195156921437,
          6.781568477052453,
          6.866125865080516,
          6.944087406550228,
          7.016408068129854,
          7.083849348925386,
          7.147028250546918,
          7.206451671017719,
          7.262541137668762,
          7.315650962982711,
          7.3660818166096025,
          7.4140910357959635,
          7.459900571827258,
          7.5037031944856505,
          7.545667393584683,
          7.585941292722623
         ],
         "y": [
          0.010205976313087929,
          0.010252369638109757,
          0.010280747710817835,
          0.010296669259103334,
          0.010303707684240075,
          0.010304259970008242,
          0.010299989470640833,
          0.010292082802398711,
          0.010281406089693272,
          0.010268603789835769,
          0.010254163295696414,
          0.010238458374798762,
          0.010221779098870145,
          0.010204352908955026,
          0.010186359722183335,
          0.010167942947102205,
          0.01014921763584999,
          0.010130276598341412,
          0.010111195043416505,
          0.010092034140366406
         ]
        },
        {
         "line": {
          "color": "rgba(128, 0, 128, 0.2999999999999999)",
          "dash": "solid",
          "shape": "linear",
          "width": 1.3
         },
         "mode": "lines",
         "name": "Tortillas",
         "text": "",
         "type": "scatter",
         "x": [
          6.199646931602732,
          6.346250405794607,
          6.474083777304492,
          6.587412462611495,
          6.689195156921437,
          6.781568477052453,
          6.866125865080516,
          6.944087406550228,
          7.016408068129854,
          7.083849348925386,
          7.147028250546918,
          7.206451671017719,
          7.262541137668762,
          7.315650962982711,
          7.3660818166096025,
          7.4140910357959635,
          7.459900571827258,
          7.5037031944856505,
          7.545667393584683,
          7.585941292722623
         ],
         "y": [
          0.009436503048029274,
          0.008613893467519068,
          0.007951883193547917,
          0.007405209560170617,
          0.006944543357020351,
          0.00654995779535811,
          0.0062073911546133426,
          0.005906607581584183,
          0.005639960572334543,
          0.005401611113439327,
          0.0051870155507052675,
          0.0049925798626936765,
          0.004815420101071936,
          0.0046531925681436576,
          0.004503970986771049,
          0.004366156058694629,
          0.004238407798848624,
          0.004119594177127877,
          0.00400875162729629,
          0.0039050543197821385
         ]
        },
        {
         "line": {
          "color": "rgba(219, 64, 82, 0.2999999999999999)",
          "dash": "solid",
          "shape": "linear",
          "width": 1.3
         },
         "mode": "lines",
         "name": "Tostadas",
         "text": "",
         "type": "scatter",
         "x": [
          6.199646931602732,
          6.346250405794607,
          6.474083777304492,
          6.587412462611495,
          6.689195156921437,
          6.781568477052453,
          6.866125865080516,
          6.944087406550228,
          7.016408068129854,
          7.083849348925386,
          7.147028250546918,
          7.206451671017719,
          7.262541137668762,
          7.315650962982711,
          7.3660818166096025,
          7.4140910357959635,
          7.459900571827258,
          7.5037031944856505,
          7.545667393584683,
          7.585941292722623
         ],
         "y": [
          0.010192301789973103,
          0.010034219953734911,
          0.009888173058997753,
          0.009752841198695097,
          0.009626980856480989,
          0.009509492316863178,
          0.009399425386222652,
          0.009295965379462881,
          0.009198414370672443,
          0.009106172999308342,
          0.00901872448917311,
          0.00893562117240536,
          0.008856473325767935,
          0.008780939986571862,
          0.00870872140793773,
          0.008639552850822503,
          0.008573199459366798,
          0.008509452012889945,
          0.008448123388223077,
          0.008389045599268286
         ]
        },
        {
         "line": {
          "color": "rgba(0, 128, 128, 0.2999999999999999)",
          "dash": "solid",
          "shape": "linear",
          "width": 1.3
         },
         "mode": "lines",
         "name": "Water (bottle)",
         "text": "",
         "type": "scatter",
         "x": [
          6.199646931602732,
          6.346250405794607,
          6.474083777304492,
          6.587412462611495,
          6.689195156921437,
          6.781568477052453,
          6.866125865080516,
          6.944087406550228,
          7.016408068129854,
          7.083849348925386,
          7.147028250546918,
          7.206451671017719,
          7.262541137668762,
          7.315650962982711,
          7.3660818166096025,
          7.4140910357959635,
          7.459900571827258,
          7.5037031944856505,
          7.545667393584683,
          7.585941292722623
         ],
         "y": [
          0.016871333300961727,
          0.016483688310304508,
          0.016137262023953682,
          0.0158245687679114,
          0.01553993742970098,
          0.01527898603813449,
          0.015038266457413815,
          0.014815020644052723,
          0.014607010217413964,
          0.014412394923921124,
          0.014229644320874847,
          0.014057472467699863,
          0.013894788849907793,
          0.013740660956799907,
          0.013594285361832116,
          0.013454965099353563,
          0.013322091768363877,
          0.01319513123005854,
          0.013073612069497295,
          0.01295711620610912
         ]
        },
        {
         "line": {
          "color": "rgba(255, 255, 51, 0.2999999999999999)",
          "dash": "solid",
          "shape": "linear",
          "width": 1.3
         },
         "mode": "lines",
         "name": "Watermelon",
         "text": "",
         "type": "scatter",
         "x": [
          6.199646931602732,
          6.346250405794607,
          6.474083777304492,
          6.587412462611495,
          6.689195156921437,
          6.781568477052453,
          6.866125865080516,
          6.944087406550228,
          7.016408068129854,
          7.083849348925386,
          7.147028250546918,
          7.206451671017719,
          7.262541137668762,
          7.315650962982711,
          7.3660818166096025,
          7.4140910357959635,
          7.459900571827258,
          7.5037031944856505,
          7.545667393584683,
          7.585941292722623
         ],
         "y": [
          0.008349492080950581,
          0.008174748303322325,
          0.00801743783561484,
          0.007874605390076046,
          0.0077439524912712825,
          0.00762366922807915,
          0.00751231070274167,
          0.007408707876704851,
          0.007311903039559174,
          0.007221102610030915,
          0.007135642162627036,
          0.007054960159819076,
          0.006978577959768198,
          0.006906084407575547,
          0.006837123818394099,
          0.00677138650229192,
          0.0067086012168196645,
          0.006648529098091918,
          0.006590958737852188,
          0.006535702157526217
         ]
        },
        {
         "line": {
          "color": "rgba(128, 128, 0, 0.2999999999999999)",
          "dash": "solid",
          "shape": "linear",
          "width": 1.3
         },
         "mode": "lines",
         "name": "Wheat Flour",
         "text": "",
         "type": "scatter",
         "x": [
          6.199646931602732,
          6.346250405794607,
          6.474083777304492,
          6.587412462611495,
          6.689195156921437,
          6.781568477052453,
          6.866125865080516,
          6.944087406550228,
          7.016408068129854,
          7.083849348925386,
          7.147028250546918,
          7.206451671017719,
          7.262541137668762,
          7.315650962982711,
          7.3660818166096025,
          7.4140910357959635,
          7.459900571827258,
          7.5037031944856505,
          7.545667393584683,
          7.585941292722623
         ],
         "y": [
          0.005488705381958923,
          0.005408613625628373,
          0.005334185240709665,
          0.005264907979450011,
          0.005200248624036614,
          0.005139712395762988,
          0.005082859383341943,
          0.005029305126989453,
          0.004978715694264521,
          0.004930801294792706,
          0.0048853099956306925,
          0.004842022085684696,
          0.004800745222716737,
          0.004761310332613908,
          0.0047235681737013,
          0.004687386466716859,
          0.004652647496983305,
          0.004619246107187571,
          0.004587088012095559,
          0.004556088378448394
         ]
        },
        {
         "line": {
          "color": "rgba(251, 128, 114, 0.2999999999999999)",
          "dash": "solid",
          "shape": "linear",
          "width": 1.3
         },
         "mode": "lines",
         "name": "Yucca",
         "text": "",
         "type": "scatter",
         "x": [
          6.199646931602732,
          6.346250405794607,
          6.474083777304492,
          6.587412462611495,
          6.689195156921437,
          6.781568477052453,
          6.866125865080516,
          6.944087406550228,
          7.016408068129854,
          7.083849348925386,
          7.147028250546918,
          7.206451671017719,
          7.262541137668762,
          7.315650962982711,
          7.3660818166096025,
          7.4140910357959635,
          7.459900571827258,
          7.5037031944856505,
          7.545667393584683,
          7.585941292722623
         ],
         "y": [
          0.004012084143515959,
          0.003852904615845988,
          0.003716160657891861,
          0.0035967151809313635,
          0.003490982789793453,
          0.00339636649279426,
          0.0033109278516633305,
          0.0032331835926573916,
          0.0031619747694302857,
          0.003096379565051444,
          0.003035653405603613,
          0.0029791867548484333,
          0.002926474694334323,
          0.0028770945616324014,
          0.0028306892230094073,
          0.00278695436483805,
          0.0027456287026965042,
          0.0027064863428212338,
          0.00266933075438241,
          0.0026339899631786044
         ]
        }
       ],
       "layout": {
        "autosize": true,
        "legend": {
         "bgcolor": "#F5F6F9",
         "font": {
          "color": "#4D5663"
         }
        },
        "paper_bgcolor": "#F5F6F9",
        "plot_bgcolor": "#F5F6F9",
        "template": {
         "data": {
          "bar": [
           {
            "error_x": {
             "color": "#2a3f5f"
            },
            "error_y": {
             "color": "#2a3f5f"
            },
            "marker": {
             "line": {
              "color": "#E5ECF6",
              "width": 0.5
             },
             "pattern": {
              "fillmode": "overlay",
              "size": 10,
              "solidity": 0.2
             }
            },
            "type": "bar"
           }
          ],
          "barpolar": [
           {
            "marker": {
             "line": {
              "color": "#E5ECF6",
              "width": 0.5
             },
             "pattern": {
              "fillmode": "overlay",
              "size": 10,
              "solidity": 0.2
             }
            },
            "type": "barpolar"
           }
          ],
          "carpet": [
           {
            "aaxis": {
             "endlinecolor": "#2a3f5f",
             "gridcolor": "white",
             "linecolor": "white",
             "minorgridcolor": "white",
             "startlinecolor": "#2a3f5f"
            },
            "baxis": {
             "endlinecolor": "#2a3f5f",
             "gridcolor": "white",
             "linecolor": "white",
             "minorgridcolor": "white",
             "startlinecolor": "#2a3f5f"
            },
            "type": "carpet"
           }
          ],
          "choropleth": [
           {
            "colorbar": {
             "outlinewidth": 0,
             "ticks": ""
            },
            "type": "choropleth"
           }
          ],
          "contour": [
           {
            "colorbar": {
             "outlinewidth": 0,
             "ticks": ""
            },
            "colorscale": [
             [
              0,
              "#0d0887"
             ],
             [
              0.1111111111111111,
              "#46039f"
             ],
             [
              0.2222222222222222,
              "#7201a8"
             ],
             [
              0.3333333333333333,
              "#9c179e"
             ],
             [
              0.4444444444444444,
              "#bd3786"
             ],
             [
              0.5555555555555556,
              "#d8576b"
             ],
             [
              0.6666666666666666,
              "#ed7953"
             ],
             [
              0.7777777777777778,
              "#fb9f3a"
             ],
             [
              0.8888888888888888,
              "#fdca26"
             ],
             [
              1,
              "#f0f921"
             ]
            ],
            "type": "contour"
           }
          ],
          "contourcarpet": [
           {
            "colorbar": {
             "outlinewidth": 0,
             "ticks": ""
            },
            "type": "contourcarpet"
           }
          ],
          "heatmap": [
           {
            "colorbar": {
             "outlinewidth": 0,
             "ticks": ""
            },
            "colorscale": [
             [
              0,
              "#0d0887"
             ],
             [
              0.1111111111111111,
              "#46039f"
             ],
             [
              0.2222222222222222,
              "#7201a8"
             ],
             [
              0.3333333333333333,
              "#9c179e"
             ],
             [
              0.4444444444444444,
              "#bd3786"
             ],
             [
              0.5555555555555556,
              "#d8576b"
             ],
             [
              0.6666666666666666,
              "#ed7953"
             ],
             [
              0.7777777777777778,
              "#fb9f3a"
             ],
             [
              0.8888888888888888,
              "#fdca26"
             ],
             [
              1,
              "#f0f921"
             ]
            ],
            "type": "heatmap"
           }
          ],
          "heatmapgl": [
           {
            "colorbar": {
             "outlinewidth": 0,
             "ticks": ""
            },
            "colorscale": [
             [
              0,
              "#0d0887"
             ],
             [
              0.1111111111111111,
              "#46039f"
             ],
             [
              0.2222222222222222,
              "#7201a8"
             ],
             [
              0.3333333333333333,
              "#9c179e"
             ],
             [
              0.4444444444444444,
              "#bd3786"
             ],
             [
              0.5555555555555556,
              "#d8576b"
             ],
             [
              0.6666666666666666,
              "#ed7953"
             ],
             [
              0.7777777777777778,
              "#fb9f3a"
             ],
             [
              0.8888888888888888,
              "#fdca26"
             ],
             [
              1,
              "#f0f921"
             ]
            ],
            "type": "heatmapgl"
           }
          ],
          "histogram": [
           {
            "marker": {
             "pattern": {
              "fillmode": "overlay",
              "size": 10,
              "solidity": 0.2
             }
            },
            "type": "histogram"
           }
          ],
          "histogram2d": [
           {
            "colorbar": {
             "outlinewidth": 0,
             "ticks": ""
            },
            "colorscale": [
             [
              0,
              "#0d0887"
             ],
             [
              0.1111111111111111,
              "#46039f"
             ],
             [
              0.2222222222222222,
              "#7201a8"
             ],
             [
              0.3333333333333333,
              "#9c179e"
             ],
             [
              0.4444444444444444,
              "#bd3786"
             ],
             [
              0.5555555555555556,
              "#d8576b"
             ],
             [
              0.6666666666666666,
              "#ed7953"
             ],
             [
              0.7777777777777778,
              "#fb9f3a"
             ],
             [
              0.8888888888888888,
              "#fdca26"
             ],
             [
              1,
              "#f0f921"
             ]
            ],
            "type": "histogram2d"
           }
          ],
          "histogram2dcontour": [
           {
            "colorbar": {
             "outlinewidth": 0,
             "ticks": ""
            },
            "colorscale": [
             [
              0,
              "#0d0887"
             ],
             [
              0.1111111111111111,
              "#46039f"
             ],
             [
              0.2222222222222222,
              "#7201a8"
             ],
             [
              0.3333333333333333,
              "#9c179e"
             ],
             [
              0.4444444444444444,
              "#bd3786"
             ],
             [
              0.5555555555555556,
              "#d8576b"
             ],
             [
              0.6666666666666666,
              "#ed7953"
             ],
             [
              0.7777777777777778,
              "#fb9f3a"
             ],
             [
              0.8888888888888888,
              "#fdca26"
             ],
             [
              1,
              "#f0f921"
             ]
            ],
            "type": "histogram2dcontour"
           }
          ],
          "mesh3d": [
           {
            "colorbar": {
             "outlinewidth": 0,
             "ticks": ""
            },
            "type": "mesh3d"
           }
          ],
          "parcoords": [
           {
            "line": {
             "colorbar": {
              "outlinewidth": 0,
              "ticks": ""
             }
            },
            "type": "parcoords"
           }
          ],
          "pie": [
           {
            "automargin": true,
            "type": "pie"
           }
          ],
          "scatter": [
           {
            "fillpattern": {
             "fillmode": "overlay",
             "size": 10,
             "solidity": 0.2
            },
            "type": "scatter"
           }
          ],
          "scatter3d": [
           {
            "line": {
             "colorbar": {
              "outlinewidth": 0,
              "ticks": ""
             }
            },
            "marker": {
             "colorbar": {
              "outlinewidth": 0,
              "ticks": ""
             }
            },
            "type": "scatter3d"
           }
          ],
          "scattercarpet": [
           {
            "marker": {
             "colorbar": {
              "outlinewidth": 0,
              "ticks": ""
             }
            },
            "type": "scattercarpet"
           }
          ],
          "scattergeo": [
           {
            "marker": {
             "colorbar": {
              "outlinewidth": 0,
              "ticks": ""
             }
            },
            "type": "scattergeo"
           }
          ],
          "scattergl": [
           {
            "marker": {
             "colorbar": {
              "outlinewidth": 0,
              "ticks": ""
             }
            },
            "type": "scattergl"
           }
          ],
          "scattermapbox": [
           {
            "marker": {
             "colorbar": {
              "outlinewidth": 0,
              "ticks": ""
             }
            },
            "type": "scattermapbox"
           }
          ],
          "scatterpolar": [
           {
            "marker": {
             "colorbar": {
              "outlinewidth": 0,
              "ticks": ""
             }
            },
            "type": "scatterpolar"
           }
          ],
          "scatterpolargl": [
           {
            "marker": {
             "colorbar": {
              "outlinewidth": 0,
              "ticks": ""
             }
            },
            "type": "scatterpolargl"
           }
          ],
          "scatterternary": [
           {
            "marker": {
             "colorbar": {
              "outlinewidth": 0,
              "ticks": ""
             }
            },
            "type": "scatterternary"
           }
          ],
          "surface": [
           {
            "colorbar": {
             "outlinewidth": 0,
             "ticks": ""
            },
            "colorscale": [
             [
              0,
              "#0d0887"
             ],
             [
              0.1111111111111111,
              "#46039f"
             ],
             [
              0.2222222222222222,
              "#7201a8"
             ],
             [
              0.3333333333333333,
              "#9c179e"
             ],
             [
              0.4444444444444444,
              "#bd3786"
             ],
             [
              0.5555555555555556,
              "#d8576b"
             ],
             [
              0.6666666666666666,
              "#ed7953"
             ],
             [
              0.7777777777777778,
              "#fb9f3a"
             ],
             [
              0.8888888888888888,
              "#fdca26"
             ],
             [
              1,
              "#f0f921"
             ]
            ],
            "type": "surface"
           }
          ],
          "table": [
           {
            "cells": {
             "fill": {
              "color": "#EBF0F8"
             },
             "line": {
              "color": "white"
             }
            },
            "header": {
             "fill": {
              "color": "#C8D4E3"
             },
             "line": {
              "color": "white"
             }
            },
            "type": "table"
           }
          ]
         },
         "layout": {
          "annotationdefaults": {
           "arrowcolor": "#2a3f5f",
           "arrowhead": 0,
           "arrowwidth": 1
          },
          "autotypenumbers": "strict",
          "coloraxis": {
           "colorbar": {
            "outlinewidth": 0,
            "ticks": ""
           }
          },
          "colorscale": {
           "diverging": [
            [
             0,
             "#8e0152"
            ],
            [
             0.1,
             "#c51b7d"
            ],
            [
             0.2,
             "#de77ae"
            ],
            [
             0.3,
             "#f1b6da"
            ],
            [
             0.4,
             "#fde0ef"
            ],
            [
             0.5,
             "#f7f7f7"
            ],
            [
             0.6,
             "#e6f5d0"
            ],
            [
             0.7,
             "#b8e186"
            ],
            [
             0.8,
             "#7fbc41"
            ],
            [
             0.9,
             "#4d9221"
            ],
            [
             1,
             "#276419"
            ]
           ],
           "sequential": [
            [
             0,
             "#0d0887"
            ],
            [
             0.1111111111111111,
             "#46039f"
            ],
            [
             0.2222222222222222,
             "#7201a8"
            ],
            [
             0.3333333333333333,
             "#9c179e"
            ],
            [
             0.4444444444444444,
             "#bd3786"
            ],
            [
             0.5555555555555556,
             "#d8576b"
            ],
            [
             0.6666666666666666,
             "#ed7953"
            ],
            [
             0.7777777777777778,
             "#fb9f3a"
            ],
            [
             0.8888888888888888,
             "#fdca26"
            ],
            [
             1,
             "#f0f921"
            ]
           ],
           "sequentialminus": [
            [
             0,
             "#0d0887"
            ],
            [
             0.1111111111111111,
             "#46039f"
            ],
            [
             0.2222222222222222,
             "#7201a8"
            ],
            [
             0.3333333333333333,
             "#9c179e"
            ],
            [
             0.4444444444444444,
             "#bd3786"
            ],
            [
             0.5555555555555556,
             "#d8576b"
            ],
            [
             0.6666666666666666,
             "#ed7953"
            ],
            [
             0.7777777777777778,
             "#fb9f3a"
            ],
            [
             0.8888888888888888,
             "#fdca26"
            ],
            [
             1,
             "#f0f921"
            ]
           ]
          },
          "colorway": [
           "#636efa",
           "#EF553B",
           "#00cc96",
           "#ab63fa",
           "#FFA15A",
           "#19d3f3",
           "#FF6692",
           "#B6E880",
           "#FF97FF",
           "#FECB52"
          ],
          "font": {
           "color": "#2a3f5f"
          },
          "geo": {
           "bgcolor": "white",
           "lakecolor": "white",
           "landcolor": "#E5ECF6",
           "showlakes": true,
           "showland": true,
           "subunitcolor": "white"
          },
          "hoverlabel": {
           "align": "left"
          },
          "hovermode": "closest",
          "mapbox": {
           "style": "light"
          },
          "paper_bgcolor": "white",
          "plot_bgcolor": "#E5ECF6",
          "polar": {
           "angularaxis": {
            "gridcolor": "white",
            "linecolor": "white",
            "ticks": ""
           },
           "bgcolor": "#E5ECF6",
           "radialaxis": {
            "gridcolor": "white",
            "linecolor": "white",
            "ticks": ""
           }
          },
          "scene": {
           "xaxis": {
            "backgroundcolor": "#E5ECF6",
            "gridcolor": "white",
            "gridwidth": 2,
            "linecolor": "white",
            "showbackground": true,
            "ticks": "",
            "zerolinecolor": "white"
           },
           "yaxis": {
            "backgroundcolor": "#E5ECF6",
            "gridcolor": "white",
            "gridwidth": 2,
            "linecolor": "white",
            "showbackground": true,
            "ticks": "",
            "zerolinecolor": "white"
           },
           "zaxis": {
            "backgroundcolor": "#E5ECF6",
            "gridcolor": "white",
            "gridwidth": 2,
            "linecolor": "white",
            "showbackground": true,
            "ticks": "",
            "zerolinecolor": "white"
           }
          },
          "shapedefaults": {
           "line": {
            "color": "#2a3f5f"
           }
          },
          "ternary": {
           "aaxis": {
            "gridcolor": "white",
            "linecolor": "white",
            "ticks": ""
           },
           "baxis": {
            "gridcolor": "white",
            "linecolor": "white",
            "ticks": ""
           },
           "bgcolor": "#E5ECF6",
           "caxis": {
            "gridcolor": "white",
            "linecolor": "white",
            "ticks": ""
           }
          },
          "title": {
           "x": 0.05
          },
          "xaxis": {
           "automargin": true,
           "gridcolor": "white",
           "linecolor": "white",
           "ticks": "",
           "title": {
            "standoff": 15
           },
           "zerolinecolor": "white",
           "zerolinewidth": 2
          },
          "yaxis": {
           "automargin": true,
           "gridcolor": "white",
           "linecolor": "white",
           "ticks": "",
           "title": {
            "standoff": 15
           },
           "zerolinecolor": "white",
           "zerolinewidth": 2
          }
         }
        },
        "title": {
         "font": {
          "color": "#4D5663"
         }
        },
        "xaxis": {
         "autorange": true,
         "gridcolor": "#E1E5ED",
         "range": [
          6.199646931602732,
          7.585941292722623
         ],
         "showgrid": true,
         "tickfont": {
          "color": "#4D5663"
         },
         "title": {
          "font": {
           "color": "#4D5663"
          },
          "text": ""
         },
         "type": "linear",
         "zerolinecolor": "#E1E5ED"
        },
        "yaxis": {
         "autorange": true,
         "gridcolor": "#E1E5ED",
         "range": [
          -0.0014574961695100297,
          0.037852465697682317
         ],
         "showgrid": true,
         "tickfont": {
          "color": "#4D5663"
         },
         "title": {
          "font": {
           "color": "#4D5663"
          },
          "text": ""
         },
         "type": "linear",
         "zerolinecolor": "#E1E5ED"
        }
       }
      },
      "image/png": "[encoded data removed]",
      "text/html": [
       "<div>                            <div id=\"5d86f897-7e9f-45e5-afce-82bb24d2558f\" class=\"plotly-graph-div\" style=\"height:525px; width:100%;\"></div>            <script type=\"text/javascript\">                require([\"plotly\"], function(Plotly) {                    window.PLOTLYENV=window.PLOTLYENV || {};\n",
       "                    window.PLOTLYENV.BASE_URL='https://plot.ly';                                    if (document.getElementById(\"5d86f897-7e9f-45e5-afce-82bb24d2558f\")) {                    Plotly.newPlot(                        \"5d86f897-7e9f-45e5-afce-82bb24d2558f\",                        [{\"line\":{\"color\":\"rgba(255, 153, 51, 1.0)\",\"dash\":\"solid\",\"shape\":\"linear\",\"width\":1.3},\"mode\":\"lines\",\"name\":\"Avocado\",\"text\":\"\",\"x\":[6.199646931602732,6.346250405794607,6.474083777304492,6.587412462611495,6.689195156921437,6.781568477052453,6.866125865080516,6.944087406550228,7.016408068129854,7.083849348925386,7.147028250546918,7.206451671017719,7.262541137668762,7.315650962982711,7.3660818166096025,7.4140910357959635,7.459900571827258,7.5037031944856505,7.545667393584683,7.585941292722623],\"y\":[0.007776480619510145,0.007881361800029333,0.007963924485098793,0.008030161925388472,0.008084072061351194,0.008128434938369532,0.008165249303299458,0.008195992116233368,0.008221780088987371,0.008243474165449492,0.008261749319679114,0.00827714249421861,0.008290086324553428,0.008300933367637603,0.008309973834069078,0.008317448781447483,0.008323560076741749,0.008328478019647888,0.00833234724677599,0.00833529135468746],\"type\":\"scatter\"},{\"line\":{\"color\":\"rgba(55, 128, 191, 1.0)\",\"dash\":\"solid\",\"shape\":\"linear\",\"width\":1.3},\"mode\":\"lines\",\"name\":\"Bananas\",\"text\":\"\",\"x\":[6.199646931602732,6.346250405794607,6.474083777304492,6.587412462611495,6.689195156921437,6.781568477052453,6.866125865080516,6.944087406550228,7.016408068129854,7.083849348925386,7.147028250546918,7.206451671017719,7.262541137668762,7.315650962982711,7.3660818166096025,7.4140910357959635,7.459900571827258,7.5037031944856505,7.545667393584683,7.585941292722623],\"y\":[0.03781583511651634,0.040388701826950986,0.042703097175797164,0.044808648487547856,0.04674159384978766,0.048529269312248706,0.050192844545867206,0.05174907313486424,0.05321145745879154,0.05459104985686043,0.055897019187682646,0.057137061168362514,0.058317701796556064,0.059444525829780194,0.06052235162130599,0.06155536683624857,0.06254723516286757,0.06350118119538364,0.0644200586661008,0.06530640581951905],\"type\":\"scatter\"},{\"line\":{\"color\":\"rgba(50, 171, 96, 1.0)\",\"dash\":\"solid\",\"shape\":\"linear\",\"width\":1.3},\"mode\":\"lines\",\"name\":\"Beans\",\"text\":\"\",\"x\":[6.199646931602732,6.346250405794607,6.474083777304492,6.587412462611495,6.689195156921437,6.781568477052453,6.866125865080516,6.944087406550228,7.016408068129854,7.083849348925386,7.147028250546918,7.206451671017719,7.262541137668762,7.315650962982711,7.3660818166096025,7.4140910357959635,7.459900571827258,7.5037031944856505,7.545667393584683,7.585941292722623],\"y\":[0.009724687395614256,0.009047507914780973,0.008490652931088681,0.008022142317237396,0.007620789690576388,0.007271919754593151,0.006964997667099155,0.006692236070165999,0.006447735937234442,0.0062269349341178264,0.00602624101310115,0.005842781880551105,0.005674229339590951,0.005518673397467794,0.005374530275314594,0.005240474023868915,0.005115384898718747,0.004998309843669364,0.00488843186046813,0.004785045994055403],\"type\":\"scatter\"},{\"line\":{\"color\":\"rgba(128, 0, 128, 1.0)\",\"dash\":\"solid\",\"shape\":\"linear\",\"width\":1.3},\"mode\":\"lines\",\"name\":\"Beef\",\"text\":\"\",\"x\":[6.199646931602732,6.346250405794607,6.474083777304492,6.587412462611495,6.689195156921437,6.781568477052453,6.866125865080516,6.944087406550228,7.016408068129854,7.083849348925386,7.147028250546918,7.206451671017719,7.262541137668762,7.315650962982711,7.3660818166096025,7.4140910357959635,7.459900571827258,7.5037031944856505,7.545667393584683,7.585941292722623],\"y\":[0.08950824761862661,0.09411021900125541,0.09816342029580491,0.10178275386549435,0.10505029875882091,0.10802678573146844,0.1107584413506447,0.11328128309168607,0.11562392891821244,0.11780949965707342,0.11985694525385385,0.12178199281569281,0.1235978391726528,0.12531566651954673,0.12694503284178302,0.12849417198670235,0.12997022740458694,0.13137943643581967,0.132727277207543,0.13401858689852528],\"type\":\"scatter\"},{\"line\":{\"color\":\"rgba(219, 64, 82, 1.0)\",\"dash\":\"solid\",\"shape\":\"linear\",\"width\":1.3},\"mode\":\"lines\",\"name\":\"Beef Entrails\",\"text\":\"\",\"x\":[6.199646931602732,6.346250405794607,6.474083777304492,6.587412462611495,6.689195156921437,6.781568477052453,6.866125865080516,6.944087406550228,7.016408068129854,7.083849348925386,7.147028250546918,7.206451671017719,7.262541137668762,7.315650962982711,7.3660818166096025,7.4140910357959635,7.459900571827258,7.5037031944856505,7.545667393584683,7.585941292722623],\"y\":[0.016441289602610164,0.01581653586775701,0.015278191179190678,0.014806727458861255,0.014388454186510954,0.014013417922052391,0.013674165540238349,0.013364978154905895,0.01308137640951056,0.012819789670627597,0.012577328168203141,0.012351621991310582,0.012140704771200616,0.011942927995040247,0.011756896785813367,0.01158142102441381,0.01141547763156043,0.01125818109657072,0.011108760188065489,0.010966539359223287],\"type\":\"scatter\"},{\"line\":{\"color\":\"rgba(0, 128, 128, 1.0)\",\"dash\":\"solid\",\"shape\":\"linear\",\"width\":1.3},\"mode\":\"lines\",\"name\":\"Beer\",\"text\":\"\",\"x\":[6.199646931602732,6.346250405794607,6.474083777304492,6.587412462611495,6.689195156921437,6.781568477052453,6.866125865080516,6.944087406550228,7.016408068129854,7.083849348925386,7.147028250546918,7.206451671017719,7.262541137668762,7.315650962982711,7.3660818166096025,7.4140910357959635,7.459900571827258,7.5037031944856505,7.545667393584683,7.585941292722623],\"y\":[0.03299752829197265,0.03230764313283118,0.031686533286977785,0.03112254994417092,0.03060663023170114,0.030131636012690678,0.029691867732012683,0.029282713356303752,0.028900394152201237,0.02854177868245355,0.028204244946733438,0.027885576817824085,0.0275838852072592,0.02729754729687848,0.027025159141786725,0.02676549829491209,0.026517494033065487,0.026280203413845866,0.026052791852412178,0.02583451723635484],\"type\":\"scatter\"},{\"line\":{\"color\":\"rgba(255, 255, 51, 1.0)\",\"dash\":\"solid\",\"shape\":\"linear\",\"width\":1.3},\"mode\":\"lines\",\"name\":\"Beets\",\"text\":\"\",\"x\":[6.199646931602732,6.346250405794607,6.474083777304492,6.587412462611495,6.689195156921437,6.781568477052453,6.866125865080516,6.944087406550228,7.016408068129854,7.083849348925386,7.147028250546918,7.206451671017719,7.262541137668762,7.315650962982711,7.3660818166096025,7.4140910357959635,7.459900571827258,7.5037031944856505,7.545667393584683,7.585941292722623],\"y\":[0.004579945181593373,0.004434160373229397,0.004306955201141846,0.004194374140102993,0.004093586617177897,0.004002499771705626,0.0039195240730095894,0.003843424872272118,0.003773224748333591,0.003708137171233472,0.003647520182380332,0.0035908432708927508,0.003537663187394116,0.003487605955843993,0.0034403532746203466,0.003395632084399568,0.003353206459415741,0.0033128712291997423,0.003274446906931015,0.003237775616696461],\"type\":\"scatter\"},{\"line\":{\"color\":\"rgba(128, 128, 0, 1.0)\",\"dash\":\"solid\",\"shape\":\"linear\",\"width\":1.3},\"mode\":\"lines\",\"name\":\"Bread (french)\",\"text\":\"\",\"x\":[6.199646931602732,6.346250405794607,6.474083777304492,6.587412462611495,6.689195156921437,6.781568477052453,6.866125865080516,6.944087406550228,7.016408068129854,7.083849348925386,7.147028250546918,7.206451671017719,7.262541137668762,7.315650962982711,7.3660818166096025,7.4140910357959635,7.459900571827258,7.5037031944856505,7.545667393584683,7.585941292722623],\"y\":[0.02871985761151225,0.029287085752934348,0.029751856908857097,0.030140119539238244,0.03046946746243008,0.030752321969376193,0.030997742191312527,0.031212514078513366,0.03140183582326813,0.03156976582926306,0.03171952494922529,0.031853706029783886,0.031974422661264115,0.03208341697481525,0.032182139200054014,0.0322718073414233,0.032353452597126305,0.03242795438265254,0.0324960676604534,0.03255844449718848],\"type\":\"scatter\"},{\"line\":{\"color\":\"rgba(251, 128, 114, 1.0)\",\"dash\":\"solid\",\"shape\":\"linear\",\"width\":1.3},\"mode\":\"lines\",\"name\":\"Bread (sliced)\",\"text\":\"\",\"x\":[6.199646931602732,6.346250405794607,6.474083777304492,6.587412462611495,6.689195156921437,6.781568477052453,6.866125865080516,6.944087406550228,7.016408068129854,7.083849348925386,7.147028250546918,7.206451671017719,7.262541137668762,7.315650962982711,7.3660818166096025,7.4140910357959635,7.459900571827258,7.5037031944856505,7.545667393584683,7.585941292722623],\"y\":[0.009843417842505182,0.009458615321560048,0.009127700956369125,0.008838390500006097,0.008582097258462023,0.008352593794927931,0.008145226808100127,0.00795643227726648,0.007783423156301371,0.007623980998940982,0.007476312707970713,0.00733894948920816,0.0072106739638683895,0.007090466550085952,0.006977465328205241,0.006870935530020181,0.006770246019685259,0.006674850935371884,0.006584275195349583,0.006498102935796159],\"type\":\"scatter\"},{\"line\":{\"color\":\"rgba(128, 177, 211, 1.0)\",\"dash\":\"solid\",\"shape\":\"linear\",\"width\":1.3},\"mode\":\"lines\",\"name\":\"Bread (sweet)\",\"text\":\"\",\"x\":[6.199646931602732,6.346250405794607,6.474083777304492,6.587412462611495,6.689195156921437,6.781568477052453,6.866125865080516,6.944087406550228,7.016408068129854,7.083849348925386,7.147028250546918,7.206451671017719,7.262541137668762,7.315650962982711,7.3660818166096025,7.4140910357959635,7.459900571827258,7.5037031944856505,7.545667393584683,7.585941292722623],\"y\":[0.029099953987329293,0.02923967134794908,0.029327051480189204,0.02937814966465811,0.02940330233832693,0.029409453403674124,0.029401428813828814,0.029382676712304493,0.029355717994348475,0.02932243153003357,0.02928424077632804,0.029242239362369242,0.029197277691237526,0.029150023944281477,0.029101007867749967,0.02905065272824278,0.028999298982997794,0.028947222048680877,0.02889464580162648,0.028841752947332804],\"type\":\"scatter\"},{\"line\":{\"color\":\"rgba(128, 177, 211, 0.8999999999999999)\",\"dash\":\"solid\",\"shape\":\"linear\",\"width\":1.3},\"mode\":\"lines\",\"name\":\"Cabbages\",\"text\":\"\",\"x\":[6.199646931602732,6.346250405794607,6.474083777304492,6.587412462611495,6.689195156921437,6.781568477052453,6.866125865080516,6.944087406550228,7.016408068129854,7.083849348925386,7.147028250546918,7.206451671017719,7.262541137668762,7.315650962982711,7.3660818166096025,7.4140910357959635,7.459900571827258,7.5037031944856505,7.545667393584683,7.585941292722623],\"y\":[0.0027228682448730505,0.002595841061169843,0.002487986175649218,0.0023947080496625923,0.00231284912459077,0.0022401523629575976,0.002174952189156587,0.0021159868087935064,0.002062279051015506,0.0020130578607142568,0.001967704926091866,0.001925717405394332,0.0018866812824149344,0.0018502519266659205,0.0018161396516737556,0.0017840988124966722,0.00175391945571468,0.001725420840751162,0.001698446353660642,0.0016728594710997823],\"type\":\"scatter\"},{\"line\":{\"color\":\"rgba(255, 153, 51, 0.8999999999999999)\",\"dash\":\"solid\",\"shape\":\"linear\",\"width\":1.3},\"mode\":\"lines\",\"name\":\"Cakes\",\"text\":\"\",\"x\":[6.199646931602732,6.346250405794607,6.474083777304492,6.587412462611495,6.689195156921437,6.781568477052453,6.866125865080516,6.944087406550228,7.016408068129854,7.083849348925386,7.147028250546918,7.206451671017719,7.262541137668762,7.315650962982711,7.3660818166096025,7.4140910357959635,7.459900571827258,7.5037031944856505,7.545667393584683,7.585941292722623],\"y\":[0.022111794428420192,0.02273842244876726,0.02326728262088911,0.023721660671994146,0.024117618823782376,0.024466676327873912,0.024777357060868775,0.025056132938836878,0.025308025039368166,0.02553700096495095,0.025746245801255126,0.025938351863424056,0.026115454671862055,0.026279332382528806,0.026431479802323507,0.026573164366665486,0.026705469081320973,0.0268293258888423,0.026945541897342166,0.027054820217172915],\"type\":\"scatter\"},{\"line\":{\"color\":\"rgba(55, 128, 191, 0.8999999999999999)\",\"dash\":\"solid\",\"shape\":\"linear\",\"width\":1.3},\"mode\":\"lines\",\"name\":\"Candies\",\"text\":\"\",\"x\":[6.199646931602732,6.346250405794607,6.474083777304492,6.587412462611495,6.689195156921437,6.781568477052453,6.866125865080516,6.944087406550228,7.016408068129854,7.083849348925386,7.147028250546918,7.206451671017719,7.262541137668762,7.315650962982711,7.3660818166096025,7.4140910357959635,7.459900571827258,7.5037031944856505,7.545667393584683,7.585941292722623],\"y\":[0.002525362068562655,0.0026590772025849203,0.0027770986082308762,0.002882686200903436,0.0029781734991179494,0.0030652902558658455,0.0031453552770492562,0.0032193976438239067,0.003288236136131604,0.003352533089097052,0.003412831989606336,0.003469584384469901,0.0035231695597823984,0.003573909208700204,0.003622078548485338,0.0036679148728347498,0.003711624219662557,0.0037533866325812253,0.003793360358232597,0.0038316852280964276],\"type\":\"scatter\"},{\"line\":{\"color\":\"rgba(50, 171, 96, 0.8999999999999999)\",\"dash\":\"solid\",\"shape\":\"linear\",\"width\":1.3},\"mode\":\"lines\",\"name\":\"Carrots\",\"text\":\"\",\"x\":[6.199646931602732,6.346250405794607,6.474083777304492,6.587412462611495,6.689195156921437,6.781568477052453,6.866125865080516,6.944087406550228,7.016408068129854,7.083849348925386,7.147028250546918,7.206451671017719,7.262541137668762,7.315650962982711,7.3660818166096025,7.4140910357959635,7.459900571827258,7.5037031944856505,7.545667393584683,7.585941292722623],\"y\":[0.005074241457923243,0.005075752385266358,0.0050711983995407875,0.00506271906152788,0.00505164562542028,0.005038841323553767,0.005024884196638406,0.005010171245332381,0.004994980639535888,0.004979510358598578,0.004963902993677444,0.004948262119070576,0.004932663361301122,0.004917162040784874,0.004901798544291672,0.004886602162880471,0.004871593872584112,0.004856788374405906,0.004842195607581038,0.0048278218831520935],\"type\":\"scatter\"},{\"line\":{\"color\":\"rgba(128, 0, 128, 0.8999999999999999)\",\"dash\":\"solid\",\"shape\":\"linear\",\"width\":1.3},\"mode\":\"lines\",\"name\":\"Celery\",\"text\":\"\",\"x\":[6.199646931602732,6.346250405794607,6.474083777304492,6.587412462611495,6.689195156921437,6.781568477052453,6.866125865080516,6.944087406550228,7.016408068129854,7.083849348925386,7.147028250546918,7.206451671017719,7.262541137668762,7.315650962982711,7.3660818166096025,7.4140910357959635,7.459900571827258,7.5037031944856505,7.545667393584683,7.585941292722623],\"y\":[0.0020944454132496245,0.002086100280288803,0.002076516644809444,0.0020662958754209737,0.0020557883888662185,0.002045204889825902,0.0020346744305622935,0.0020242765158574785,0.0020140596956557755,0.0020040527450243414,0.0019942715979807224,0.001984723759336599,0.0019754111719591174,0.00196633211292364,0.001957482465245159,0.0019488565802189097,0.001940447866855779,0.0019322491967651192,0.0019242531826979398,0.0019164523696997273],\"type\":\"scatter\"},{\"line\":{\"color\":\"rgba(219, 64, 82, 0.8999999999999999)\",\"dash\":\"solid\",\"shape\":\"linear\",\"width\":1.3},\"mode\":\"lines\",\"name\":\"Chayote\",\"text\":\"\",\"x\":[6.199646931602732,6.346250405794607,6.474083777304492,6.587412462611495,6.689195156921437,6.781568477052453,6.866125865080516,6.944087406550228,7.016408068129854,7.083849348925386,7.147028250546918,7.206451671017719,7.262541137668762,7.315650962982711,7.3660818166096025,7.4140910357959635,7.459900571827258,7.5037031944856505,7.545667393584683,7.585941292722623],\"y\":[0.0045336680814793235,0.00444718259566432,0.0043687330703678995,0.004297072249892213,0.00423119536105325,0.004170291930387592,0.004113703387072897,0.004060889563116286,0.004011403067371138,0.00396486982495979,0.003920974257317133,0.003879447915520103,0.0038400606840772065,0.003802613908674348,0.0037669349755761294,0.003732872996176779,0.003700295340828394,0.0036690848313655614,0.003639137449111701,0.0036103604497568697],\"type\":\"scatter\"},{\"line\":{\"color\":\"rgba(0, 128, 128, 0.8999999999999999)\",\"dash\":\"solid\",\"shape\":\"linear\",\"width\":1.3},\"mode\":\"lines\",\"name\":\"Chicken\",\"text\":\"\",\"x\":[6.199646931602732,6.346250405794607,6.474083777304492,6.587412462611495,6.689195156921437,6.781568477052453,6.866125865080516,6.944087406550228,7.016408068129854,7.083849348925386,7.147028250546918,7.206451671017719,7.262541137668762,7.315650962982711,7.3660818166096025,7.4140910357959635,7.459900571827258,7.5037031944856505,7.545667393584683,7.585941292722623],\"y\":[0.035138652165366296,0.03538723809551835,0.0355623610440668,0.03568556238914139,0.03577087428014154,0.03582783377511756,0.03586314694871874,0.0358816623145418,0.0358869676043227,0.03588177016976758,0.0358681475610968,0.03584771729459867,0.035821754703939127,0.03579127651046206,0.03575710120674703,0.035719893419500194,0.03568019699186167,0.035638459986566215,0.035595053813441024,0.035550288023776584],\"type\":\"scatter\"},{\"line\":{\"color\":\"rgba(255, 255, 51, 0.8999999999999999)\",\"dash\":\"solid\",\"shape\":\"linear\",\"width\":1.3},\"mode\":\"lines\",\"name\":\"Chicken Giblets\",\"text\":\"\",\"x\":[6.199646931602732,6.346250405794607,6.474083777304492,6.587412462611495,6.689195156921437,6.781568477052453,6.866125865080516,6.944087406550228,7.016408068129854,7.083849348925386,7.147028250546918,7.206451671017719,7.262541137668762,7.315650962982711,7.3660818166096025,7.4140910357959635,7.459900571827258,7.5037031944856505,7.545667393584683,7.585941292722623],\"y\":[0.010473203058374759,0.00989378037833315,0.00940811882832197,0.008992716295437589,0.008631673098722,0.008313774041151602,0.008030838290729163,0.007776731579124434,0.007546746850784,0.007337200700078414,0.007145161728897125,0.006968262541454798,0.006804566449208955,0.006652470949529908,0.0065106365187272254,0.006377933202600874,0.006253399957416984,0.006136213280969837,0.0060256627163801256,0.005921131511008622],\"type\":\"scatter\"},{\"line\":{\"color\":\"rgba(128, 128, 0, 0.8999999999999999)\",\"dash\":\"solid\",\"shape\":\"linear\",\"width\":1.3},\"mode\":\"lines\",\"name\":\"Chilies\",\"text\":\"\",\"x\":[6.199646931602732,6.346250405794607,6.474083777304492,6.587412462611495,6.689195156921437,6.781568477052453,6.866125865080516,6.944087406550228,7.016408068129854,7.083849348925386,7.147028250546918,7.206451671017719,7.262541137668762,7.315650962982711,7.3660818166096025,7.4140910357959635,7.459900571827258,7.5037031944856505,7.545667393584683,7.585941292722623],\"y\":[0.004331410383394966,0.004192933411285005,0.004072142161027293,0.003965265314207988,0.0038696056288792637,0.003783169730536577,0.0037044442202911116,0.0036322539620763394,0.003565668908135786,0.0035039408334956584,0.0034464591770836887,0.0033927194737325924,0.0033423003105450687,0.0032948461929065086,0.0032500545943183407,0.0032076660240366265,0.0031674563082636567,0.003129230519670477,0.0030928181512636698,0.0030580692413853263],\"type\":\"scatter\"},{\"line\":{\"color\":\"rgba(251, 128, 114, 0.8999999999999999)\",\"dash\":\"solid\",\"shape\":\"linear\",\"width\":1.3},\"mode\":\"lines\",\"name\":\"Chocolate\",\"text\":\"\",\"x\":[6.199646931602732,6.346250405794607,6.474083777304492,6.587412462611495,6.689195156921437,6.781568477052453,6.866125865080516,6.944087406550228,7.016408068129854,7.083849348925386,7.147028250546918,7.206451671017719,7.262541137668762,7.315650962982711,7.3660818166096025,7.4140910357959635,7.459900571827258,7.5037031944856505,7.545667393584683,7.585941292722623],\"y\":[0.00946794975949679,0.00904910528137533,0.008692095135894447,0.008382311787454662,0.008109668318425479,0.00786692394449819,0.007648715697036633,0.00745096759169808,0.007270513963729624,0.007104850399885998,0.0069519638663053775,0.006810213731816099,0.006678246494293013,0.006554933415125789,0.006439324085653728,0.006330611301185178,0.0062281041073873975,0.006131206850077269,0.006039402700429548,0.005952240561342384],\"type\":\"scatter\"},{\"line\":{\"color\":\"rgba(251, 128, 114, 0.7999999999999998)\",\"dash\":\"solid\",\"shape\":\"linear\",\"width\":1.3},\"mode\":\"lines\",\"name\":\"Cigarettes\",\"text\":\"\",\"x\":[6.199646931602732,6.346250405794607,6.474083777304492,6.587412462611495,6.689195156921437,6.781568477052453,6.866125865080516,6.944087406550228,7.016408068129854,7.083849348925386,7.147028250546918,7.206451671017719,7.262541137668762,7.315650962982711,7.3660818166096025,7.4140910357959635,7.459900571827258,7.5037031944856505,7.545667393584683,7.585941292722623],\"y\":[0.02275894896203669,0.022737725756236064,0.022693180287202325,0.02263405416369833,0.02256571228516175,0.022491581830039173,0.022413920084280888,0.022334248822238594,0.02225361194017479,0.022172734330439856,0.022092123102721677,0.02201213388195944,0.021933015272558202,0.02185493929444188,0.021778022589276812,0.021702341425324775,0.021627942458314935,0.021554850539819384,0.02148307444131059,0.02141261108728408],\"type\":\"scatter\"},{\"line\":{\"color\":\"rgba(128, 177, 211, 0.7999999999999998)\",\"dash\":\"solid\",\"shape\":\"linear\",\"width\":1.3},\"mode\":\"lines\",\"name\":\"Coffee (instant)\",\"text\":\"\",\"x\":[6.199646931602732,6.346250405794607,6.474083777304492,6.587412462611495,6.689195156921437,6.781568477052453,6.866125865080516,6.944087406550228,7.016408068129854,7.083849348925386,7.147028250546918,7.206451671017719,7.262541137668762,7.315650962982711,7.3660818166096025,7.4140910357959635,7.459900571827258,7.5037031944856505,7.545667393584683,7.585941292722623],\"y\":[0.008364418400225525,0.008360422283404206,0.008347325230030385,0.008328456946842908,0.00830587201608628,0.008280890744006033,0.008254388519330615,0.008226959950056375,0.008199016480024435,0.008170846755274566,0.008142655196647409,0.00811458734107236,0.008086746891712156,0.008059207428410037,0.008032020596262478,0.008005221921876053,0.007978835001785926,0.007952874555251515,0.007927348673013606,0.007902260489142306],\"type\":\"scatter\"},{\"line\":{\"color\":\"rgba(255, 153, 51, 0.7999999999999998)\",\"dash\":\"solid\",\"shape\":\"linear\",\"width\":1.3},\"mode\":\"lines\",\"name\":\"Cookies\",\"text\":\"\",\"x\":[6.199646931602732,6.346250405794607,6.474083777304492,6.587412462611495,6.689195156921437,6.781568477052453,6.866125865080516,6.944087406550228,7.016408068129854,7.083849348925386,7.147028250546918,7.206451671017719,7.262541137668762,7.315650962982711,7.3660818166096025,7.4140910357959635,7.459900571827258,7.5037031944856505,7.545667393584683,7.585941292722623],\"y\":[0.00547830883651667,0.005643502677122652,0.005783568175733118,0.005904422231544963,0.0060101592655458875,0.006103724101442824,0.006187301550043245,0.006262554505367921,0.006330776006711974,0.006392989972443387,0.006450020026061499,0.006502537783274106,0.006551097515969648,0.00659616154164421,0.006638119152808813,0.006677300954629167,0.006713989879399071,0.006748429756660552,0.006780832058880935,0.00681138126714141],\"type\":\"scatter\"},{\"line\":{\"color\":\"rgba(55, 128, 191, 0.7999999999999998)\",\"dash\":\"solid\",\"shape\":\"linear\",\"width\":1.3},\"mode\":\"lines\",\"name\":\"Cooking Oil\",\"text\":\"\",\"x\":[6.199646931602732,6.346250405794607,6.474083777304492,6.587412462611495,6.689195156921437,6.781568477052453,6.866125865080516,6.944087406550228,7.016408068129854,7.083849348925386,7.147028250546918,7.206451671017719,7.262541137668762,7.315650962982711,7.3660818166096025,7.4140910357959635,7.459900571827258,7.5037031944856505,7.545667393584683,7.585941292722623],\"y\":[0.012918445410929928,0.012649177980664164,0.012406694977467698,0.012186471318102032,0.011984982962484576,0.011799452357166501,0.011627660563411909,0.011467811299189537,0.011318432345899174,0.01117830333951444,0.011046402211856375,0.010921864932059296,0.01080395484659272,0.010692039036112318,0.010585569868587113,0.010484070448671112,0.010387123023537876,0.010294359657248547,0.010205454664101958,0.010120118419235742],\"type\":\"scatter\"},{\"line\":{\"color\":\"rgba(50, 171, 96, 0.7999999999999998)\",\"dash\":\"solid\",\"shape\":\"linear\",\"width\":1.3},\"mode\":\"lines\",\"name\":\"Corn Flakes\",\"text\":\"\",\"x\":[6.199646931602732,6.346250405794607,6.474083777304492,6.587412462611495,6.689195156921437,6.781568477052453,6.866125865080516,6.944087406550228,7.016408068129854,7.083849348925386,7.147028250546918,7.206451671017719,7.262541137668762,7.315650962982711,7.3660818166096025,7.4140910357959635,7.459900571827258,7.5037031944856505,7.545667393584683,7.585941292722623],\"y\":[0.029852382199427933,0.028107141130722168,0.026650695122460762,0.02540962710866687,0.02433451478368364,0.023390646004235696,0.02255279532574616,0.021802111049213254,0.021124171061813714,0.020507720477694627,0.019943824613554418,0.019425284442289414,0.018946223242524686,0.018501788010974303,0.018087929680463768,0.01770123861630602,0.017338819630442082,0.016998195731105382,0.01667723309091873,0.01637408190241044],\"type\":\"scatter\"},{\"line\":{\"color\":\"rgba(128, 0, 128, 0.7999999999999998)\",\"dash\":\"solid\",\"shape\":\"linear\",\"width\":1.3},\"mode\":\"lines\",\"name\":\"Corn Tamales\",\"text\":\"\",\"x\":[6.199646931602732,6.346250405794607,6.474083777304492,6.587412462611495,6.689195156921437,6.781568477052453,6.866125865080516,6.944087406550228,7.016408068129854,7.083849348925386,7.147028250546918,7.206451671017719,7.262541137668762,7.315650962982711,7.3660818166096025,7.4140910357959635,7.459900571827258,7.5037031944856505,7.545667393584683,7.585941292722623],\"y\":[0.01750204267716574,0.01752257273447712,0.01752008693863691,0.017502423361964354,0.01747449951219112,0.017439532314353908,0.01739969649326405,0.01735650128005721,0.01731101641207764,0.017264013137548082,0.017216055137435005,0.017167558822289108,0.017118834298296935,0.01707011379110726,0.017021571734118723,0.016973339197956218,0.016925514405515315,0.01687817049327948,0.0168313613059545,0.016785125767165638],\"type\":\"scatter\"},{\"line\":{\"color\":\"rgba(219, 64, 82, 0.7999999999999998)\",\"dash\":\"solid\",\"shape\":\"linear\",\"width\":1.3},\"mode\":\"lines\",\"name\":\"Cornmeal\",\"text\":\"\",\"x\":[6.199646931602732,6.346250405794607,6.474083777304492,6.587412462611495,6.689195156921437,6.781568477052453,6.866125865080516,6.944087406550228,7.016408068129854,7.083849348925386,7.147028250546918,7.206451671017719,7.262541137668762,7.315650962982711,7.3660818166096025,7.4140910357959635,7.459900571827258,7.5037031944856505,7.545667393584683,7.585941292722623],\"y\":[0.009178178867338793,0.008627615243172062,0.008169111244213293,0.007779109867921126,0.007441789960900678,0.00714606168922634,0.006883880240794221,0.006649242947939023,0.0064375640961885855,0.00624526964514791,0.006069525693211527,0.005908051338055152,0.0057589865077322016,0.005620796595874307,0.005492202340500529,0.005372127391037629,0.005259658507773163,0.005154014938440914,0.005054524565275061,0.004960605117282346],\"type\":\"scatter\"},{\"line\":{\"color\":\"rgba(0, 128, 128, 0.7999999999999998)\",\"dash\":\"solid\",\"shape\":\"linear\",\"width\":1.3},\"mode\":\"lines\",\"name\":\"Crema Fresca\",\"text\":\"\",\"x\":[6.199646931602732,6.346250405794607,6.474083777304492,6.587412462611495,6.689195156921437,6.781568477052453,6.866125865080516,6.944087406550228,7.016408068129854,7.083849348925386,7.147028250546918,7.206451671017719,7.262541137668762,7.315650962982711,7.3660818166096025,7.4140910357959635,7.459900571827258,7.5037031944856505,7.545667393584683,7.585941292722623],\"y\":[0.013710809229459988,0.01387021144487444,0.013993271297521882,0.014089959766712616,0.014166889118205678,0.014228631705995259,0.0142784573328584,0.014318769729733838,0.014351377197756181,0.014377667010206468,0.014398721511232452,0.014415397583705459,0.014428382371294922,0.014438233183146023,0.014445406608321575,0.014450280112194725,0.014453168295440726,0.014454335299260507,0.014454004385359053,0.014452365415811066],\"type\":\"scatter\"},{\"line\":{\"color\":\"rgba(255, 255, 51, 0.7999999999999998)\",\"dash\":\"solid\",\"shape\":\"linear\",\"width\":1.3},\"mode\":\"lines\",\"name\":\"Cucumbers\",\"text\":\"\",\"x\":[6.199646931602732,6.346250405794607,6.474083777304492,6.587412462611495,6.689195156921437,6.781568477052453,6.866125865080516,6.944087406550228,7.016408068129854,7.083849348925386,7.147028250546918,7.206451671017719,7.262541137668762,7.315650962982711,7.3660818166096025,7.4140910357959635,7.459900571827258,7.5037031944856505,7.545667393584683,7.585941292722623],\"y\":[0.00444752605049712,0.004321152266847784,0.004209984957826158,0.00411093138842395,0.0040217427858624194,0.003940735125370766,0.0038666158692040454,0.003798372095906077,0.003735195759333008,0.003676432262139099,0.0036215441551785224,0.003570084934853087,0.0035216797534756623,0.0034760109687404146,0.003432807148404919,0.0033918345861777997,0.0033528906721516207,0.0033157986527644844,0.0032804034456382853,0.0032465682648846962],\"type\":\"scatter\"},{\"line\":{\"color\":\"rgba(128, 128, 0, 0.7999999999999998)\",\"dash\":\"solid\",\"shape\":\"linear\",\"width\":1.3},\"mode\":\"lines\",\"name\":\"Dried Seeds\",\"text\":\"\",\"x\":[6.199646931602732,6.346250405794607,6.474083777304492,6.587412462611495,6.689195156921437,6.781568477052453,6.866125865080516,6.944087406550228,7.016408068129854,7.083849348925386,7.147028250546918,7.206451671017719,7.262541137668762,7.315650962982711,7.3660818166096025,7.4140910357959635,7.459900571827258,7.5037031944856505,7.545667393584683,7.585941292722623],\"y\":[0.006113420667949973,0.005998371919844597,0.005893894149034444,0.005798371355659012,0.005710493570686766,0.005629199778139324,0.005553625268660859,0.005483059203594952,0.005416911790384584,0.005354689176595219,0.0052959742347505985,0.00524041176956373,0.005187697037213075,0.005137566754886053,0.0050897919958478735,0.005044172523973181,0.005000532236996115,0.004958715471322548,0.004918583982178641,0.0048800144575515065],\"type\":\"scatter\"},{\"line\":{\"color\":\"rgba(128, 128, 0, 0.7)\",\"dash\":\"solid\",\"shape\":\"linear\",\"width\":1.3},\"mode\":\"lines\",\"name\":\"Eggs\",\"text\":\"\",\"x\":[6.199646931602732,6.346250405794607,6.474083777304492,6.587412462611495,6.689195156921437,6.781568477052453,6.866125865080516,6.944087406550228,7.016408068129854,7.083849348925386,7.147028250546918,7.206451671017719,7.262541137668762,7.315650962982711,7.3660818166096025,7.4140910357959635,7.459900571827258,7.5037031944856505,7.545667393584683,7.585941292722623],\"y\":[0.017648947096833532,0.017614736199473773,0.017564931524392948,0.017505758503543054,0.017440986062336763,0.01737298537126247,0.017303291193039517,0.01723291739845709,0.017162542855866447,0.017092625271445228,0.017023473194131274,0.0169552928176873,0.016888219115308575,0.016822336966921324,0.01675769574244895,0.01669431951640466,0.016632214312892357,0.01657137329941238,0.01651178054357332,0.0164534137501108],\"type\":\"scatter\"},{\"line\":{\"color\":\"rgba(251, 128, 114, 0.7)\",\"dash\":\"solid\",\"shape\":\"linear\",\"width\":1.3},\"mode\":\"lines\",\"name\":\"Fish (Fresh)\",\"text\":\"\",\"x\":[6.199646931602732,6.346250405794607,6.474083777304492,6.587412462611495,6.689195156921437,6.781568477052453,6.866125865080516,6.944087406550228,7.016408068129854,7.083849348925386,7.147028250546918,7.206451671017719,7.262541137668762,7.315650962982711,7.3660818166096025,7.4140910357959635,7.459900571827258,7.5037031944856505,7.545667393584683,7.585941292722623],\"y\":[0.021614265566602862,0.02137331910617139,0.021142852905256505,0.020923682782890304,0.020715664204462976,0.020518250348683195,0.02033074488004504,0.02015241926981237,0.019982566836278026,0.01982052619238539,0.019665689646357655,0.019517504222200915,0.019375469177783967,0.019239132008534224,0.01910808395655933,0.018981955538065545,0.01886041233430359,0.0187431511490689,0.018629896561223738,0.01852039786273427],\"type\":\"scatter\"},{\"line\":{\"color\":\"rgba(128, 177, 211, 0.7)\",\"dash\":\"solid\",\"shape\":\"linear\",\"width\":1.3},\"mode\":\"lines\",\"name\":\"Garlic\",\"text\":\"\",\"x\":[6.199646931602732,6.346250405794607,6.474083777304492,6.587412462611495,6.689195156921437,6.781568477052453,6.866125865080516,6.944087406550228,7.016408068129854,7.083849348925386,7.147028250546918,7.206451671017719,7.262541137668762,7.315650962982711,7.3660818166096025,7.4140910357959635,7.459900571827258,7.5037031944856505,7.545667393584683,7.585941292722623],\"y\":[0.003422586662285952,0.003239233140077876,0.0030851645847005046,0.002953101002443823,0.002838103034796747,0.002736677895756455,0.0026462722290122023,0.0025649677200508467,0.0024912898037704728,0.0024240827637751878,0.0023624255047326745,0.002305573159958395,0.002252915627697265,0.0022039475039774903,0.0021582458719834655,0.0021154536224285408,0.002075266741360523,0.0020374244920459785,0.0020017017402132204,0.0019679028886446315],\"type\":\"scatter\"},{\"line\":{\"color\":\"rgba(255, 153, 51, 0.7)\",\"dash\":\"solid\",\"shape\":\"linear\",\"width\":1.3},\"mode\":\"lines\",\"name\":\"Granulated Sugar\",\"text\":\"\",\"x\":[6.199646931602732,6.346250405794607,6.474083777304492,6.587412462611495,6.689195156921437,6.781568477052453,6.866125865080516,6.944087406550228,7.016408068129854,7.083849348925386,7.147028250546918,7.206451671017719,7.262541137668762,7.315650962982711,7.3660818166096025,7.4140910357959635,7.459900571827258,7.5037031944856505,7.545667393584683,7.585941292722623],\"y\":[0.012786852751616725,0.012059420465327292,0.011451037820165192,0.010931650063484354,0.010480975444884445,0.010084738682509847,0.009732546533000219,0.009416618931564116,0.009130994999894627,0.008871016606180279,0.008632981299343595,0.008413902451890378,0.008211339428264006,0.00802327475762062,0.007848023623179769,0.007684166045793022,0.007530495308468787,0.007385978202277274,0.007249724009335044,0.0071209600334638315],\"type\":\"scatter\"},{\"line\":{\"color\":\"rgba(55, 128, 191, 0.7)\",\"dash\":\"solid\",\"shape\":\"linear\",\"width\":1.3},\"mode\":\"lines\",\"name\":\"Herbs\",\"text\":\"\",\"x\":[6.199646931602732,6.346250405794607,6.474083777304492,6.587412462611495,6.689195156921437,6.781568477052453,6.866125865080516,6.944087406550228,7.016408068129854,7.083849348925386,7.147028250546918,7.206451671017719,7.262541137668762,7.315650962982711,7.3660818166096025,7.4140910357959635,7.459900571827258,7.5037031944856505,7.545667393584683,7.585941292722623],\"y\":[0.003821441602057405,0.0036744975911536487,0.003547983675603678,0.003437265901997827,0.003339099590576198,0.003251128200131131,0.0031715887141410717,0.0030991293839010225,0.003032692159286635,0.0029714341447720934,0.002914673542445615,0.0028618514833712743,0.00281250447071661,0.0027662440915979204,0.0027227418196780666,0.0026817174541184695,0.0026429302022048418,0.002606171714643021,0.002571260583940418,0.002538037953389464],\"type\":\"scatter\"},{\"line\":{\"color\":\"rgba(50, 171, 96, 0.7)\",\"dash\":\"solid\",\"shape\":\"linear\",\"width\":1.3},\"mode\":\"lines\",\"name\":\"Ice Cream\",\"text\":\"\",\"x\":[6.199646931602732,6.346250405794607,6.474083777304492,6.587412462611495,6.689195156921437,6.781568477052453,6.866125865080516,6.944087406550228,7.016408068129854,7.083849348925386,7.147028250546918,7.206451671017719,7.262541137668762,7.315650962982711,7.3660818166096025,7.4140910357959635,7.459900571827258,7.5037031944856505,7.545667393584683,7.585941292722623],\"y\":[0.008112522910725402,0.008743705872738665,0.00931775133141749,0.009845061918366834,0.010333331749598548,0.010788430261399253,0.011214948314282104,0.011616551708096279,0.011996218916680458,0.012356406127318347,0.012699164945208499,0.013026228306457357,0.013339074461514756,0.013638975475542723,0.01392703457152157,0.014204215285775304,0.014471364517306663,0.014729230956374273,0.014978479970035517,0.015219705738205835],\"type\":\"scatter\"},{\"line\":{\"color\":\"rgba(128, 0, 128, 0.7)\",\"dash\":\"solid\",\"shape\":\"linear\",\"width\":1.3},\"mode\":\"lines\",\"name\":\"Incaparina\",\"text\":\"\",\"x\":[6.199646931602732,6.346250405794607,6.474083777304492,6.587412462611495,6.689195156921437,6.781568477052453,6.866125865080516,6.944087406550228,7.016408068129854,7.083849348925386,7.147028250546918,7.206451671017719,7.262541137668762,7.315650962982711,7.3660818166096025,7.4140910357959635,7.459900571827258,7.5037031944856505,7.545667393584683,7.585941292722623],\"y\":[0.008575459818171167,0.008119290735430981,0.007735771701818284,0.007406875449204007,0.007120362983414236,0.006867574966649527,0.006642178070001026,0.006439412095516284,0.006255616589717729,0.0060879216151084655,0.005934039135010985,0.005792118333764598,0.005660642846756042,0.005538356214299084,0.005424206798520973,0.005317306406255974,0.0052168987460607386,0.005122335060649053,0.005033055074725274,0.00494857193480567],\"type\":\"scatter\"},{\"line\":{\"color\":\"rgba(219, 64, 82, 0.7)\",\"dash\":\"solid\",\"shape\":\"linear\",\"width\":1.3},\"mode\":\"lines\",\"name\":\"Juice (Branded)\",\"text\":\"\",\"x\":[6.199646931602732,6.346250405794607,6.474083777304492,6.587412462611495,6.689195156921437,6.781568477052453,6.866125865080516,6.944087406550228,7.016408068129854,7.083849348925386,7.147028250546918,7.206451671017719,7.262541137668762,7.315650962982711,7.3660818166096025,7.4140910357959635,7.459900571827258,7.5037031944856505,7.545667393584683,7.585941292722623],\"y\":[0.008926417302211035,0.009599329917621607,0.010209706412374306,0.010769086338063895,0.011285977450193507,0.01176685178903837,0.01221675905572499,0.012639722504306162,0.013039004478875018,0.013417290321963414,0.01377681925760781,0.014119479738057836,0.014446880326109768,0.014760403336083314,0.015061246071384976,0.015350452974282017,0.015628941008040836,0.015897519924807445,0.016156908617133595,0.016407748434038697],\"type\":\"scatter\"},{\"line\":{\"color\":\"rgba(0, 128, 128, 0.7)\",\"dash\":\"solid\",\"shape\":\"linear\",\"width\":1.3},\"mode\":\"lines\",\"name\":\"Juices (Packaged)\",\"text\":\"\",\"x\":[6.199646931602732,6.346250405794607,6.474083777304492,6.587412462611495,6.689195156921437,6.781568477052453,6.866125865080516,6.944087406550228,7.016408068129854,7.083849348925386,7.147028250546918,7.206451671017719,7.262541137668762,7.315650962982711,7.3660818166096025,7.4140910357959635,7.459900571827258,7.5037031944856505,7.545667393584683,7.585941292722623],\"y\":[0.020029365245422075,0.020737988399206535,0.021345795446263825,0.021875799300964182,0.022344062030942115,0.022762225450120712,0.023138987716608304,0.023481012079804228,0.02379351095185379,0.02408063508702311,0.024345740925309167,0.02459157910128276,0.024820430409095283,0.025034205832835617,0.025234521439776194,0.025422755333647174,0.02560009157427491,0.025767554475119515,0.025926035693760625,0.026076315852726937],\"type\":\"scatter\"},{\"line\":{\"color\":\"rgba(255, 255, 51, 0.7)\",\"dash\":\"solid\",\"shape\":\"linear\",\"width\":1.3},\"mode\":\"lines\",\"name\":\"Lemons\",\"text\":\"\",\"x\":[6.199646931602732,6.346250405794607,6.474083777304492,6.587412462611495,6.689195156921437,6.781568477052453,6.866125865080516,6.944087406550228,7.016408068129854,7.083849348925386,7.147028250546918,7.206451671017719,7.262541137668762,7.315650962982711,7.3660818166096025,7.4140910357959635,7.459900571827258,7.5037031944856505,7.545667393584683,7.585941292722623],\"y\":[0.003092774143891032,0.0031633812934306112,0.0032219659778287973,0.0032715015126113475,0.0033140173622246737,0.0033509551163478793,0.003383372144052654,0.0034120647203323066,0.0034376458880079545,0.0034605965680593992,0.0034813001843348205,0.003500066762215869,0.0035171500984447195,0.0035327602475107604,0.003547072767930849,0.003560235680277852,0.0035723747793131914,0.0035835977425936736,0.003593997345843231,0.0036036540063568018],\"type\":\"scatter\"},{\"line\":{\"color\":\"rgba(255, 255, 51, 0.5999999999999999)\",\"dash\":\"solid\",\"shape\":\"linear\",\"width\":1.3},\"mode\":\"lines\",\"name\":\"Lettuce\",\"text\":\"\",\"x\":[6.199646931602732,6.346250405794607,6.474083777304492,6.587412462611495,6.689195156921437,6.781568477052453,6.866125865080516,6.944087406550228,7.016408068129854,7.083849348925386,7.147028250546918,7.206451671017719,7.262541137668762,7.315650962982711,7.3660818166096025,7.4140910357959635,7.459900571827258,7.5037031944856505,7.545667393584683,7.585941292722623],\"y\":[0.004464200530496211,0.004426974998155219,0.0043899861383597145,0.004353855479380366,0.004318867838730024,0.004285137090890779,0.004252687885770487,0.0042214980352463915,0.004191521325447783,0.0041627001050295554,0.004134972325970774,0.004108275483745417,0.0040825487855028555,0.004057734289987449,0.004033777446093648,0.0040106272799035805,0.003988236378768531,0.003966560761649436,0.003945559689578145,0.0039251954487134885],\"type\":\"scatter\"},{\"line\":{\"color\":\"rgba(128, 128, 0, 0.5999999999999999)\",\"dash\":\"solid\",\"shape\":\"linear\",\"width\":1.3},\"mode\":\"lines\",\"name\":\"Maize\",\"text\":\"\",\"x\":[6.199646931602732,6.346250405794607,6.474083777304492,6.587412462611495,6.689195156921437,6.781568477052453,6.866125865080516,6.944087406550228,7.016408068129854,7.083849348925386,7.147028250546918,7.206451671017719,7.262541137668762,7.315650962982711,7.3660818166096025,7.4140910357959635,7.459900571827258,7.5037031944856505,7.545667393584683,7.585941292722623],\"y\":[0.0020014690740624897,0.0017314208708365956,0.001525843255726167,0.0013640846194921561,0.001233467493479395,0.001125777413082865,0.001035457193907884,0.0009586124661560858,0.0008924328099068933,0.0008348390234953861,0.0007842597473351283,0.0007394852780600013,0.000699569142856275,0.000663760166693408,0.0006314545503120459,0.0006021614026457831,0.000575477516885774,0.0005510686212395339,0.0005286552445964212,0.0005080019238495878],\"type\":\"scatter\"},{\"line\":{\"color\":\"rgba(251, 128, 114, 0.5999999999999999)\",\"dash\":\"solid\",\"shape\":\"linear\",\"width\":1.3},\"mode\":\"lines\",\"name\":\"Margarine\",\"text\":\"\",\"x\":[6.199646931602732,6.346250405794607,6.474083777304492,6.587412462611495,6.689195156921437,6.781568477052453,6.866125865080516,6.944087406550228,7.016408068129854,7.083849348925386,7.147028250546918,7.206451671017719,7.262541137668762,7.315650962982711,7.3660818166096025,7.4140910357959635,7.459900571827258,7.5037031944856505,7.545667393584683,7.585941292722623],\"y\":[0.006385451251592792,0.006205990880206124,0.006047999650805656,0.005907132175486436,0.005780223462369443,0.005664900175605418,0.005559338713456844,0.005462108664013368,0.005372068037689039,0.005288291079334379,0.005210017252905084,0.0051366143804761925,0.005067551482693596,0.0050023784171136275,0.004940710374657922,0.004882215909645184,0.004826607581217062,0.004773634552592999,0.0047230766774778365,0.004674739729648902],\"type\":\"scatter\"},{\"line\":{\"color\":\"rgba(128, 177, 211, 0.5999999999999999)\",\"dash\":\"solid\",\"shape\":\"linear\",\"width\":1.3},\"mode\":\"lines\",\"name\":\"Melons\",\"text\":\"\",\"x\":[6.199646931602732,6.346250405794607,6.474083777304492,6.587412462611495,6.689195156921437,6.781568477052453,6.866125865080516,6.944087406550228,7.016408068129854,7.083849348925386,7.147028250546918,7.206451671017719,7.262541137668762,7.315650962982711,7.3660818166096025,7.4140910357959635,7.459900571827258,7.5037031944856505,7.545667393584683,7.585941292722623],\"y\":[0.007897519816166832,0.007860027213637516,0.007818738842355835,0.007775724063386202,0.007732164923290923,0.007688754547084966,0.007645903599030194,0.0076038535881641734,0.007562741953063157,0.007522640851127009,0.007483580980196517,0.007445566569834438,0.00740858500350833,0.007372613091494321,0.007337621208581773,0.007303576045015745,0.007270442442649434,0.007238184619695552,0.007206766982458649,0.007176154655686726],\"type\":\"scatter\"},{\"line\":{\"color\":\"rgba(255, 153, 51, 0.5999999999999999)\",\"dash\":\"solid\",\"shape\":\"linear\",\"width\":1.3},\"mode\":\"lines\",\"name\":\"Milk\",\"text\":\"\",\"x\":[6.199646931602732,6.346250405794607,6.474083777304492,6.587412462611495,6.689195156921437,6.781568477052453,6.866125865080516,6.944087406550228,7.016408068129854,7.083849348925386,7.147028250546918,7.206451671017719,7.262541137668762,7.315650962982711,7.3660818166096025,7.4140910357959635,7.459900571827258,7.5037031944856505,7.545667393584683,7.585941292722623],\"y\":[0.04122487233507956,0.04353143168187333,0.04557551774953451,0.04741081084166609,0.04907589122908679,0.05059945865356065,0.05200346406082364,0.05330508535704253,0.05451802595558734,0.05565339780885605,0.056720339443317204,0.05772645934994028,0.058678160978326815,0.059580885468262734,0.060439295978040056,0.06125741974654276,0.062038759041922686,0.06278637885286134,0.0635029769523785,0.06419094043183797],\"type\":\"scatter\"},{\"line\":{\"color\":\"rgba(55, 128, 191, 0.5999999999999999)\",\"dash\":\"solid\",\"shape\":\"linear\",\"width\":1.3},\"mode\":\"lines\",\"name\":\"Milk (powdered)\",\"text\":\"\",\"x\":[6.199646931602732,6.346250405794607,6.474083777304492,6.587412462611495,6.689195156921437,6.781568477052453,6.866125865080516,6.944087406550228,7.016408068129854,7.083849348925386,7.147028250546918,7.206451671017719,7.262541137668762,7.315650962982711,7.3660818166096025,7.4140910357959635,7.459900571827258,7.5037031944856505,7.545667393584683,7.585941292722623],\"y\":[0.03186549834032941,0.031796505669975904,0.0317003793959089,0.03158813183611653,0.031466406965175824,0.03133936834249676,0.03120969854221316,0.031079160013436153,0.030948924975149762,0.030819777099634668,0.030692238847538713,0.030566654073797554,0.030443242866555417,0.030322138676419516,0.030203413882764516,0.030087097653379132,0.02997318857458253,0.02986166367578062,0.02975248493290114,0.02964560398675489],\"type\":\"scatter\"},{\"line\":{\"color\":\"rgba(50, 171, 96, 0.5999999999999999)\",\"dash\":\"solid\",\"shape\":\"linear\",\"width\":1.3},\"mode\":\"lines\",\"name\":\"Mineral Water\",\"text\":\"\",\"x\":[6.199646931602732,6.346250405794607,6.474083777304492,6.587412462611495,6.689195156921437,6.781568477052453,6.866125865080516,6.944087406550228,7.016408068129854,7.083849348925386,7.147028250546918,7.206451671017719,7.262541137668762,7.315650962982711,7.3660818166096025,7.4140910357959635,7.459900571827258,7.5037031944856505,7.545667393584683,7.585941292722623],\"y\":[0.024716268032432532,0.025068794564442227,0.0253481652712543,0.025573863046736357,0.0257589141538294,0.025912396159326428,0.026040848865505856,0.026149114329349576,0.02624086054794201,0.026318920658249517,0.026385519851251912,0.02644243142526064,0.026491086708450663,0.02653265412714799,0.026568097142778392,0.026598217409136826,0.026623687397694565,0.02664507539078807,0.02666286485966393,0.02667746965400136],\"type\":\"scatter\"},{\"line\":{\"color\":\"rgba(128, 0, 128, 0.5999999999999999)\",\"dash\":\"solid\",\"shape\":\"linear\",\"width\":1.3},\"mode\":\"lines\",\"name\":\"Onions\",\"text\":\"\",\"x\":[6.199646931602732,6.346250405794607,6.474083777304492,6.587412462611495,6.689195156921437,6.781568477052453,6.866125865080516,6.944087406550228,7.016408068129854,7.083849348925386,7.147028250546918,7.206451671017719,7.262541137668762,7.315650962982711,7.3660818166096025,7.4140910357959635,7.459900571827258,7.5037031944856505,7.545667393584683,7.585941292722623],\"y\":[0.004596123741124566,0.004523703621616904,0.00445689575813085,0.004395059819912658,0.004337604077249385,0.0042840105230572,0.004233834408678144,0.004186696072371792,0.004142271307105465,0.0041002823801509,0.004060490299030184,0.00402268836638977,0.00398669688281086,0.00395235881365048,0.003919536244599427,0.003888107475056786,0.0038579646252516137,0.003829011657163974,0.0038011627295051263,0.0037743408233418523],\"type\":\"scatter\"},{\"line\":{\"color\":\"rgba(219, 64, 82, 0.5999999999999999)\",\"dash\":\"solid\",\"shape\":\"linear\",\"width\":1.3},\"mode\":\"lines\",\"name\":\"Oranges\",\"text\":\"\",\"x\":[6.199646931602732,6.346250405794607,6.474083777304492,6.587412462611495,6.689195156921437,6.781568477052453,6.866125865080516,6.944087406550228,7.016408068129854,7.083849348925386,7.147028250546918,7.206451671017719,7.262541137668762,7.315650962982711,7.3660818166096025,7.4140910357959635,7.459900571827258,7.5037031944856505,7.545667393584683,7.585941292722623],\"y\":[0.011073977387191859,0.011572499309693092,0.012007429719636555,0.012392537209579965,0.01273757046320206,0.013049686219796757,0.01333429373278083,0.013595580727010849,0.013836855114868233,0.014060774946986815,0.014269507817543789,0.014464844215824972,0.014648279928980277,0.014821077115654453,0.014984310351458061,0.015138901875954233,0.01528564894382591,0.015425245311284362,0.015558298304136098,0.01568534251399583],\"type\":\"scatter\"},{\"line\":{\"color\":\"rgba(0, 128, 128, 0.5999999999999999)\",\"dash\":\"solid\",\"shape\":\"linear\",\"width\":1.3},\"mode\":\"lines\",\"name\":\"Other\",\"text\":\"\",\"x\":[6.199646931602732,6.346250405794607,6.474083777304492,6.587412462611495,6.689195156921437,6.781568477052453,6.866125865080516,6.944087406550228,7.016408068129854,7.083849348925386,7.147028250546918,7.206451671017719,7.262541137668762,7.315650962982711,7.3660818166096025,7.4140910357959635,7.459900571827258,7.5037031944856505,7.545667393584683,7.585941292722623],\"y\":[0.009862534351141686,0.009611893051859695,0.00938960247765312,0.009190198176782181,0.009009629915537538,0.008844819112496802,0.008693374312547986,0.008553402630313095,0.008423381212878426,0.008302067356505318,0.008188434207676345,0.008081623824529538,0.007980912285859641,0.00788568333155713,0.007795408155925828,0.0077096297121912625,0.007627950374534567,0.007550022133296903,0.007475538725338374,0.007404229259646776],\"type\":\"scatter\"},{\"line\":{\"color\":\"rgba(0, 128, 128, 0.49999999999999983)\",\"dash\":\"solid\",\"shape\":\"linear\",\"width\":1.3},\"mode\":\"lines\",\"name\":\"Other Atoles\",\"text\":\"\",\"x\":[6.199646931602732,6.346250405794607,6.474083777304492,6.587412462611495,6.689195156921437,6.781568477052453,6.866125865080516,6.944087406550228,7.016408068129854,7.083849348925386,7.147028250546918,7.206451671017719,7.262541137668762,7.315650962982711,7.3660818166096025,7.4140910357959635,7.459900571827258,7.5037031944856505,7.545667393584683,7.585941292722623],\"y\":[0.007402061452213191,0.0071651653713123735,0.00695854013187909,0.0067757282423383,0.006612111934847548,0.006464278857793295,0.006329638539458957,0.006206179665289894,0.006092310510617907,0.0059867506058739,0.005888455126530245,0.005796560845758242,0.00571034668432127,0.005629204379445151,0.005552616317070748,0.005480138530761316,0.00541138749012709,0.005346029710985245,0.005283773495581589,0.005224362300887151],\"type\":\"scatter\"},{\"line\":{\"color\":\"rgba(255, 255, 51, 0.49999999999999983)\",\"dash\":\"solid\",\"shape\":\"linear\",\"width\":1.3},\"mode\":\"lines\",\"name\":\"Other Sauces\",\"text\":\"\",\"x\":[6.199646931602732,6.346250405794607,6.474083777304492,6.587412462611495,6.689195156921437,6.781568477052453,6.866125865080516,6.944087406550228,7.016408068129854,7.083849348925386,7.147028250546918,7.206451671017719,7.262541137668762,7.315650962982711,7.3660818166096025,7.4140910357959635,7.459900571827258,7.5037031944856505,7.545667393584683,7.585941292722623],\"y\":[0.010974009154022312,0.010288365535910532,0.009719277292794343,0.009236609154485473,0.008820196442256015,0.008455949808611902,0.008133677240432862,0.007845792994836292,0.007586515079668827,0.007351346367604344,0.007136727758093383,0.00693979964988176,0.006758233809005647,0.006590112274946323,0.006433838470799593,0.006288070840436254,0.006151672548259857,0.0060236728306417,0.00590323693138492,0.005789642450700688],\"type\":\"scatter\"},{\"line\":{\"color\":\"rgba(128, 128, 0, 0.49999999999999983)\",\"dash\":\"solid\",\"shape\":\"linear\",\"width\":1.3},\"mode\":\"lines\",\"name\":\"Paches\",\"text\":\"\",\"x\":[6.199646931602732,6.346250405794607,6.474083777304492,6.587412462611495,6.689195156921437,6.781568477052453,6.866125865080516,6.944087406550228,7.016408068129854,7.083849348925386,7.147028250546918,7.206451671017719,7.262541137668762,7.315650962982711,7.3660818166096025,7.4140910357959635,7.459900571827258,7.5037031944856505,7.545667393584683,7.585941292722623],\"y\":[0.014262965166015261,0.014079258190234383,0.013906356459426754,0.01374387118845533,0.013591066008706328,0.013447119900503169,0.013311232758815331,0.013182665302211703,0.013060750752644595,0.012944894419302253,0.012834568390602343,0.012729304600933028,0.012628687738637547,0.012532348619579126,0.012439958254050157,0.012351222649907944,0.012265878313135786,0.012183688374899086,0.012104439265957008,0.012027937862001655],\"type\":\"scatter\"},{\"line\":{\"color\":\"rgba(251, 128, 114, 0.49999999999999983)\",\"dash\":\"solid\",\"shape\":\"linear\",\"width\":1.3},\"mode\":\"lines\",\"name\":\"Papaya\",\"text\":\"\",\"x\":[6.199646931602732,6.346250405794607,6.474083777304492,6.587412462611495,6.689195156921437,6.781568477052453,6.866125865080516,6.944087406550228,7.016408068129854,7.083849348925386,7.147028250546918,7.206451671017719,7.262541137668762,7.315650962982711,7.3660818166096025,7.4140910357959635,7.459900571827258,7.5037031944856505,7.545667393584683,7.585941292722623],\"y\":[0.007977188845461154,0.007749958719914944,0.007550106856058315,0.007372058954505461,0.007211763407190337,0.007066187024278056,0.0069330023170305856,0.006810385681022062,0.006696882613710711,0.006591315004622389,0.0064927157111219005,0.006400281344185496,0.006313337517396976,0.006231312818219067,0.006153719005899483,0.006080135734028306,0.006010198614065044,0.005943589781755037,0.005880030363401123,0.005819274401635466],\"type\":\"scatter\"},{\"line\":{\"color\":\"rgba(128, 177, 211, 0.49999999999999983)\",\"dash\":\"solid\",\"shape\":\"linear\",\"width\":1.3},\"mode\":\"lines\",\"name\":\"Pasta\",\"text\":\"\",\"x\":[6.199646931602732,6.346250405794607,6.474083777304492,6.587412462611495,6.689195156921437,6.781568477052453,6.866125865080516,6.944087406550228,7.016408068129854,7.083849348925386,7.147028250546918,7.206451671017719,7.262541137668762,7.315650962982711,7.3660818166096025,7.4140910357959635,7.459900571827258,7.5037031944856505,7.545667393584683,7.585941292722623],\"y\":[0.0089254546125494,0.00863018832749978,0.00837325491482476,0.008146378456425244,0.007943665269706222,0.0077607747649582354,0.007594421043365858,0.007442058952622946,0.007301678489201705,0.007171665662715462,0.007050705658144799,0.00693771378185362,0.006831785165457385,0.006732157441937684,0.006638182585580247,0.006549305348851311,0.0064650465295179324,0.006384989828806095,0.006308771416451363,0.006236071561974167],\"type\":\"scatter\"},{\"line\":{\"color\":\"rgba(255, 153, 51, 0.49999999999999983)\",\"dash\":\"solid\",\"shape\":\"linear\",\"width\":1.3},\"mode\":\"lines\",\"name\":\"Peas\",\"text\":\"\",\"x\":[6.199646931602732,6.346250405794607,6.474083777304492,6.587412462611495,6.689195156921437,6.781568477052453,6.866125865080516,6.944087406550228,7.016408068129854,7.083849348925386,7.147028250546918,7.206451671017719,7.262541137668762,7.315650962982711,7.3660818166096025,7.4140910357959635,7.459900571827258,7.5037031944856505,7.545667393584683,7.585941292722623],\"y\":[0.004814319146511055,0.004757609753646489,0.004703710760689705,0.0046526907959734045,0.004604439394199148,0.004558778510074389,0.004515511376022621,0.004474444069268771,0.004435394627654016,0.004398196335368696,0.004362698270277207,0.00432876460264041,0.00429627337607124,0.00426511512984298,0.004235191535474243,0.004206414125806019,0.004178703146728723,0.004151986537559294,0.00412619903445665,0.0041012813861912465],\"type\":\"scatter\"},{\"line\":{\"color\":\"rgba(55, 128, 191, 0.49999999999999983)\",\"dash\":\"solid\",\"shape\":\"linear\",\"width\":1.3},\"mode\":\"lines\",\"name\":\"Pineapples\",\"text\":\"\",\"x\":[6.199646931602732,6.346250405794607,6.474083777304492,6.587412462611495,6.689195156921437,6.781568477052453,6.866125865080516,6.944087406550228,7.016408068129854,7.083849348925386,7.147028250546918,7.206451671017719,7.262541137668762,7.315650962982711,7.3660818166096025,7.4140910357959635,7.459900571827258,7.5037031944856505,7.545667393584683,7.585941292722623],\"y\":[0.006613482415792518,0.006403097762368899,0.006219517666820431,0.006057036864278462,0.005911572343720102,0.005780105026313259,0.005660341794522518,0.005550501415653732,0.005449173704605227,0.0053552238471956965,0.00526772558977892,0.0051859134604114385,0.005109147880315709,0.0050368892150474895,0.004968678156733481,0.004904120674275592,0.0048428763150382996,0.004784649002834453,0.00472917972081305,0.004676240635393523],\"type\":\"scatter\"},{\"line\":{\"color\":\"rgba(50, 171, 96, 0.49999999999999983)\",\"dash\":\"solid\",\"shape\":\"linear\",\"width\":1.3},\"mode\":\"lines\",\"name\":\"Pork\",\"text\":\"\",\"x\":[6.199646931602732,6.346250405794607,6.474083777304492,6.587412462611495,6.689195156921437,6.781568477052453,6.866125865080516,6.944087406550228,7.016408068129854,7.083849348925386,7.147028250546918,7.206451671017719,7.262541137668762,7.315650962982711,7.3660818166096025,7.4140910357959635,7.459900571827258,7.5037031944856505,7.545667393584683,7.585941292722623],\"y\":[0.03495786697191939,0.03420846059436696,0.0335351068311789,0.03292466193103661,0.03236697935213624,0.03185411148192841,0.03137973880089899,0.030938764335490875,0.03052702313665893,0.030141071359046062,0.029778030849702857,0.029435472937559416,0.029111330303842584,0.028803829260318523,0.028511437068472017,0.02823282049195792,0.02796681284422328,0.027712387535764525,0.027468636648411683,0.027234753436967855],\"type\":\"scatter\"},{\"line\":{\"color\":\"rgba(128, 0, 128, 0.49999999999999983)\",\"dash\":\"solid\",\"shape\":\"linear\",\"width\":1.3},\"mode\":\"lines\",\"name\":\"Pork (cracklings)\",\"text\":\"\",\"x\":[6.199646931602732,6.346250405794607,6.474083777304492,6.587412462611495,6.689195156921437,6.781568477052453,6.866125865080516,6.944087406550228,7.016408068129854,7.083849348925386,7.147028250546918,7.206451671017719,7.262541137668762,7.315650962982711,7.3660818166096025,7.4140910357959635,7.459900571827258,7.5037031944856505,7.545667393584683,7.585941292722623],\"y\":[0.01582546890019217,0.015736681045033236,0.015642286549801453,0.01554597622326213,0.015449798973156344,0.01535491132393159,0.015261962306102685,0.015171302604890663,0.01508310340180191,0.014997426350624272,0.01491426596851516,0.014833575898551164,0.014755285461395526,0.014679310214432499,0.01460555873638195,0.014533936993464133,0.014464351134664167,0.014396709255600455,0.014330922479989544,0.014266905587523564],\"type\":\"scatter\"},{\"line\":{\"color\":\"rgba(219, 64, 82, 0.49999999999999983)\",\"dash\":\"solid\",\"shape\":\"linear\",\"width\":1.3},\"mode\":\"lines\",\"name\":\"Potatoes\",\"text\":\"\",\"x\":[6.199646931602732,6.346250405794607,6.474083777304492,6.587412462611495,6.689195156921437,6.781568477052453,6.866125865080516,6.944087406550228,7.016408068129854,7.083849348925386,7.147028250546918,7.206451671017719,7.262541137668762,7.315650962982711,7.3660818166096025,7.4140910357959635,7.459900571827258,7.5037031944856505,7.545667393584683,7.585941292722623],\"y\":[0.006689039171456758,0.006677983300420858,0.006660748060037394,0.006639752872617172,0.006616468544638482,0.00659182475143639,0.006566426492371245,0.00654067598823106,0.006514844641526566,0.006489117197237246,0.006463619736001818,0.006438437911487597,0.006413629112702308,0.006389230739098353,0.006365265929017993,0.006341747584719812,0.006318681237121584,0.006296067107339797,0.006273901604178235,0.0062521784203907116],\"type\":\"scatter\"},{\"line\":{\"color\":\"rgba(219, 64, 82, 0.39999999999999974)\",\"dash\":\"solid\",\"shape\":\"linear\",\"width\":1.3},\"mode\":\"lines\",\"name\":\"Queso\",\"text\":\"\",\"x\":[6.199646931602732,6.346250405794607,6.474083777304492,6.587412462611495,6.689195156921437,6.781568477052453,6.866125865080516,6.944087406550228,7.016408068129854,7.083849348925386,7.147028250546918,7.206451671017719,7.262541137668762,7.315650962982711,7.3660818166096025,7.4140910357959635,7.459900571827258,7.5037031944856505,7.545667393584683,7.585941292722623],\"y\":[0.014304201873425043,0.01423935493333137,0.014167187572590915,0.014091549055039355,0.014014651383050252,0.013937801654856051,0.013861782386527114,0.013787060696467558,0.01371390875449922,0.013642475757367833,0.013572832261231179,0.01350499817336396,0.013438960786815765,0.013374686589239208,0.013312129092463322,0.013251234070259318,0.013191943080935676,0.013134195839460258,0.01307793180920301,0.013023091259494773],\"type\":\"scatter\"},{\"line\":{\"color\":\"rgba(0, 128, 128, 0.39999999999999974)\",\"dash\":\"solid\",\"shape\":\"linear\",\"width\":1.3},\"mode\":\"lines\",\"name\":\"Rice\",\"text\":\"\",\"x\":[6.199646931602732,6.346250405794607,6.474083777304492,6.587412462611495,6.689195156921437,6.781568477052453,6.866125865080516,6.944087406550228,7.016408068129854,7.083849348925386,7.147028250546918,7.206451671017719,7.262541137668762,7.315650962982711,7.3660818166096025,7.4140910357959635,7.459900571827258,7.5037031944856505,7.545667393584683,7.585941292722623],\"y\":[0.009796935154618863,0.009616235207949247,0.009451858882372403,0.009301369416412384,0.009162771903245256,0.009034440109424093,0.008915042593823261,0.008803481050369674,0.008698841721628998,0.008600357801952174,0.008507380429967225,0.008419356224685854,0.00833580977158243,0.008256329857703098,0.008180558561246639,0.008108182529957266,0.008038925951471687,0.007972544842380263,0.007908822373579533,0.007847565016498723],\"type\":\"scatter\"},{\"line\":{\"color\":\"rgba(255, 255, 51, 0.39999999999999974)\",\"dash\":\"solid\",\"shape\":\"linear\",\"width\":1.3},\"mode\":\"lines\",\"name\":\"Rolled Oats\",\"text\":\"\",\"x\":[6.199646931602732,6.346250405794607,6.474083777304492,6.587412462611495,6.689195156921437,6.781568477052453,6.866125865080516,6.944087406550228,7.016408068129854,7.083849348925386,7.147028250546918,7.206451671017719,7.262541137668762,7.315650962982711,7.3660818166096025,7.4140910357959635,7.459900571827258,7.5037031944856505,7.545667393584683,7.585941292722623],\"y\":[0.00932472474348462,0.008857756652023109,0.008463351782494806,0.008123785478684939,0.0078269582796937,0.007564269359878083,0.007329402376579495,0.007117592638246369,0.006925164292892575,0.006749226826414022,0.006587469593235297,0.006438018865787034,0.006299335998557558,0.0061701433626652515,0.006049369483127032,0.005936107732964186,0.005829584777233787,0.005729136146634131,0.005634187103392287,0.005544237489450814],\"type\":\"scatter\"},{\"line\":{\"color\":\"rgba(128, 128, 0, 0.39999999999999974)\",\"dash\":\"solid\",\"shape\":\"linear\",\"width\":1.3},\"mode\":\"lines\",\"name\":\"Salt\",\"text\":\"\",\"x\":[6.199646931602732,6.346250405794607,6.474083777304492,6.587412462611495,6.689195156921437,6.781568477052453,6.866125865080516,6.944087406550228,7.016408068129854,7.083849348925386,7.147028250546918,7.206451671017719,7.262541137668762,7.315650962982711,7.3660818166096025,7.4140910357959635,7.459900571827258,7.5037031944856505,7.545667393584683,7.585941292722623],\"y\":[0.0013741846187228877,0.0012736852466351944,0.0011914075206002279,0.0011224471918408645,0.0010635702870319395,0.0010125457337254178,0.0009677776383758493,0.0009280900844439782,0.0008925948753952687,0.0008606068892112207,0.0008315880199923186,0.0008051089501804521,0.0007808224137443159,0.0007584440778330051,0.0007377386026588022,0.0007185092992425182,0.0007005903364282933,0.0006838407861885295,0.0006681400156912034,0.0006533840802961196],\"type\":\"scatter\"},{\"line\":{\"color\":\"rgba(251, 128, 114, 0.39999999999999974)\",\"dash\":\"solid\",\"shape\":\"linear\",\"width\":1.3},\"mode\":\"lines\",\"name\":\"Sausages\",\"text\":\"\",\"x\":[6.199646931602732,6.346250405794607,6.474083777304492,6.587412462611495,6.689195156921437,6.781568477052453,6.866125865080516,6.944087406550228,7.016408068129854,7.083849348925386,7.147028250546918,7.206451671017719,7.262541137668762,7.315650962982711,7.3660818166096025,7.4140910357959635,7.459900571827258,7.5037031944856505,7.545667393584683,7.585941292722623],\"y\":[0.01304970704197052,0.01318633723059886,0.013290192255407621,0.013370397795560467,0.013432981325711892,0.013482094885170774,0.013520696737814588,0.013550953771381625,0.013574490359708384,0.01359254833216123,0.013606093210911165,0.013615886761235145,0.013622537749192726,0.013626538211720432,0.013628289862693283,0.01362812363915848,0.013626314386405231,0.013623092039436025,0.013618650240444077,0.01361315305368909],\"type\":\"scatter\"},{\"line\":{\"color\":\"rgba(128, 177, 211, 0.39999999999999974)\",\"dash\":\"solid\",\"shape\":\"linear\",\"width\":1.3},\"mode\":\"lines\",\"name\":\"Soup\",\"text\":\"\",\"x\":[6.199646931602732,6.346250405794607,6.474083777304492,6.587412462611495,6.689195156921437,6.781568477052453,6.866125865080516,6.944087406550228,7.016408068129854,7.083849348925386,7.147028250546918,7.206451671017719,7.262541137668762,7.315650962982711,7.3660818166096025,7.4140910357959635,7.459900571827258,7.5037031944856505,7.545667393584683,7.585941292722623],\"y\":[0.00543131339289478,0.005413328037933768,0.005391604892176393,0.005367822115133133,0.005342971932139555,0.005317661625269846,0.005292271519977786,0.005267042865660566,0.005242129051073473,0.005217626610346272,0.0051935945953130265,0.00517006700196999,0.005147060919374478,0.005124581973220283,0.005102628018784544,0.005081191678161896,0.0050602621012567125,0.005039826197471867,0.005019869501708711,0.005000376784811881],\"type\":\"scatter\"},{\"line\":{\"color\":\"rgba(255, 153, 51, 0.39999999999999974)\",\"dash\":\"solid\",\"shape\":\"linear\",\"width\":1.3},\"mode\":\"lines\",\"name\":\"Spices\",\"text\":\"\",\"x\":[6.199646931602732,6.346250405794607,6.474083777304492,6.587412462611495,6.689195156921437,6.781568477052453,6.866125865080516,6.944087406550228,7.016408068129854,7.083849348925386,7.147028250546918,7.206451671017719,7.262541137668762,7.315650962982711,7.3660818166096025,7.4140910357959635,7.459900571827258,7.5037031944856505,7.545667393584683,7.585941292722623],\"y\":[0.002033989388491043,0.0021102897184650314,0.0021760068581666257,0.0022335275746861016,0.0022845232624630397,0.0023302089467759045,0.0023714948739169,0.0024090800597918226,0.00244351256453171,0.002475229745820024,0.002504585968470847,0.002531872180982623,0.002557330061140429,0.0025811624408351285,0.0026035411237867504,0.00262461283970636,0.0026445038425438544,0.002663323506316764,0.0026811671691061214,0.0026981184057285547],\"type\":\"scatter\"},{\"line\":{\"color\":\"rgba(55, 128, 191, 0.39999999999999974)\",\"dash\":\"solid\",\"shape\":\"linear\",\"width\":1.3},\"mode\":\"lines\",\"name\":\"Sweets\",\"text\":\"\",\"x\":[6.199646931602732,6.346250405794607,6.474083777304492,6.587412462611495,6.689195156921437,6.781568477052453,6.866125865080516,6.944087406550228,7.016408068129854,7.083849348925386,7.147028250546918,7.206451671017719,7.262541137668762,7.315650962982711,7.3660818166096025,7.4140910357959635,7.459900571827258,7.5037031944856505,7.545667393584683,7.585941292722623],\"y\":[0.004679030231769582,0.004904771855469843,0.005102688850969308,0.0052787041842212975,0.005437030524665202,0.005580772902885182,0.00571228665022354,0.005833401193387362,0.005945565957924091,0.00604994886019877,0.006147504780899798,0.006239024386035711,0.006325169706400227,0.006406500568970952,0.006483494567967803,0.00655656238384329,0.006626059693790065,0.006692296545673371,0.006755544817493245,0.006816044213280778],\"type\":\"scatter\"},{\"line\":{\"color\":\"rgba(50, 171, 96, 0.39999999999999974)\",\"dash\":\"solid\",\"shape\":\"linear\",\"width\":1.3},\"mode\":\"lines\",\"name\":\"Tomato Sauce\",\"text\":\"\",\"x\":[6.199646931602732,6.346250405794607,6.474083777304492,6.587412462611495,6.689195156921437,6.781568477052453,6.866125865080516,6.944087406550228,7.016408068129854,7.083849348925386,7.147028250546918,7.206451671017719,7.262541137668762,7.315650962982711,7.3660818166096025,7.4140910357959635,7.459900571827258,7.5037031944856505,7.545667393584683,7.585941292722623],\"y\":[0.009583794069771277,0.009292061102557241,0.009036697531697285,0.008810091878813075,0.008606764898795714,0.008422645933078798,0.008254631011610487,0.008100301021160664,0.007957735257444178,0.007825384173164507,0.007701980166206212,0.007586473561323983,0.0074779857222729285,0.007375774084788448,0.007279205657345626,0.007187736648015289,0.007100896596912474,0.007018275871965133,0.006939515709372569,0.006864300203132074],\"type\":\"scatter\"},{\"line\":{\"color\":\"rgba(128, 0, 128, 0.39999999999999974)\",\"dash\":\"solid\",\"shape\":\"linear\",\"width\":1.3},\"mode\":\"lines\",\"name\":\"Tomatoes\",\"text\":\"\",\"x\":[6.199646931602732,6.346250405794607,6.474083777304492,6.587412462611495,6.689195156921437,6.781568477052453,6.866125865080516,6.944087406550228,7.016408068129854,7.083849348925386,7.147028250546918,7.206451671017719,7.262541137668762,7.315650962982711,7.3660818166096025,7.4140910357959635,7.459900571827258,7.5037031944856505,7.545667393584683,7.585941292722623],\"y\":[0.010205976313087929,0.010252369638109757,0.010280747710817835,0.010296669259103334,0.010303707684240075,0.010304259970008242,0.010299989470640833,0.010292082802398711,0.010281406089693272,0.010268603789835769,0.010254163295696414,0.010238458374798762,0.010221779098870145,0.010204352908955026,0.010186359722183335,0.010167942947102205,0.01014921763584999,0.010130276598341412,0.010111195043416505,0.010092034140366406],\"type\":\"scatter\"},{\"line\":{\"color\":\"rgba(128, 0, 128, 0.2999999999999999)\",\"dash\":\"solid\",\"shape\":\"linear\",\"width\":1.3},\"mode\":\"lines\",\"name\":\"Tortillas\",\"text\":\"\",\"x\":[6.199646931602732,6.346250405794607,6.474083777304492,6.587412462611495,6.689195156921437,6.781568477052453,6.866125865080516,6.944087406550228,7.016408068129854,7.083849348925386,7.147028250546918,7.206451671017719,7.262541137668762,7.315650962982711,7.3660818166096025,7.4140910357959635,7.459900571827258,7.5037031944856505,7.545667393584683,7.585941292722623],\"y\":[0.009436503048029274,0.008613893467519068,0.007951883193547917,0.007405209560170617,0.006944543357020351,0.00654995779535811,0.0062073911546133426,0.005906607581584183,0.005639960572334543,0.005401611113439327,0.0051870155507052675,0.0049925798626936765,0.004815420101071936,0.0046531925681436576,0.004503970986771049,0.004366156058694629,0.004238407798848624,0.004119594177127877,0.00400875162729629,0.0039050543197821385],\"type\":\"scatter\"},{\"line\":{\"color\":\"rgba(219, 64, 82, 0.2999999999999999)\",\"dash\":\"solid\",\"shape\":\"linear\",\"width\":1.3},\"mode\":\"lines\",\"name\":\"Tostadas\",\"text\":\"\",\"x\":[6.199646931602732,6.346250405794607,6.474083777304492,6.587412462611495,6.689195156921437,6.781568477052453,6.866125865080516,6.944087406550228,7.016408068129854,7.083849348925386,7.147028250546918,7.206451671017719,7.262541137668762,7.315650962982711,7.3660818166096025,7.4140910357959635,7.459900571827258,7.5037031944856505,7.545667393584683,7.585941292722623],\"y\":[0.010192301789973103,0.010034219953734911,0.009888173058997753,0.009752841198695097,0.009626980856480989,0.009509492316863178,0.009399425386222652,0.009295965379462881,0.009198414370672443,0.009106172999308342,0.00901872448917311,0.00893562117240536,0.008856473325767935,0.008780939986571862,0.00870872140793773,0.008639552850822503,0.008573199459366798,0.008509452012889945,0.008448123388223077,0.008389045599268286],\"type\":\"scatter\"},{\"line\":{\"color\":\"rgba(0, 128, 128, 0.2999999999999999)\",\"dash\":\"solid\",\"shape\":\"linear\",\"width\":1.3},\"mode\":\"lines\",\"name\":\"Water (bottle)\",\"text\":\"\",\"x\":[6.199646931602732,6.346250405794607,6.474083777304492,6.587412462611495,6.689195156921437,6.781568477052453,6.866125865080516,6.944087406550228,7.016408068129854,7.083849348925386,7.147028250546918,7.206451671017719,7.262541137668762,7.315650962982711,7.3660818166096025,7.4140910357959635,7.459900571827258,7.5037031944856505,7.545667393584683,7.585941292722623],\"y\":[0.016871333300961727,0.016483688310304508,0.016137262023953682,0.0158245687679114,0.01553993742970098,0.01527898603813449,0.015038266457413815,0.014815020644052723,0.014607010217413964,0.014412394923921124,0.014229644320874847,0.014057472467699863,0.013894788849907793,0.013740660956799907,0.013594285361832116,0.013454965099353563,0.013322091768363877,0.01319513123005854,0.013073612069497295,0.01295711620610912],\"type\":\"scatter\"},{\"line\":{\"color\":\"rgba(255, 255, 51, 0.2999999999999999)\",\"dash\":\"solid\",\"shape\":\"linear\",\"width\":1.3},\"mode\":\"lines\",\"name\":\"Watermelon\",\"text\":\"\",\"x\":[6.199646931602732,6.346250405794607,6.474083777304492,6.587412462611495,6.689195156921437,6.781568477052453,6.866125865080516,6.944087406550228,7.016408068129854,7.083849348925386,7.147028250546918,7.206451671017719,7.262541137668762,7.315650962982711,7.3660818166096025,7.4140910357959635,7.459900571827258,7.5037031944856505,7.545667393584683,7.585941292722623],\"y\":[0.008349492080950581,0.008174748303322325,0.00801743783561484,0.007874605390076046,0.0077439524912712825,0.00762366922807915,0.00751231070274167,0.007408707876704851,0.007311903039559174,0.007221102610030915,0.007135642162627036,0.007054960159819076,0.006978577959768198,0.006906084407575547,0.006837123818394099,0.00677138650229192,0.0067086012168196645,0.006648529098091918,0.006590958737852188,0.006535702157526217],\"type\":\"scatter\"},{\"line\":{\"color\":\"rgba(128, 128, 0, 0.2999999999999999)\",\"dash\":\"solid\",\"shape\":\"linear\",\"width\":1.3},\"mode\":\"lines\",\"name\":\"Wheat Flour\",\"text\":\"\",\"x\":[6.199646931602732,6.346250405794607,6.474083777304492,6.587412462611495,6.689195156921437,6.781568477052453,6.866125865080516,6.944087406550228,7.016408068129854,7.083849348925386,7.147028250546918,7.206451671017719,7.262541137668762,7.315650962982711,7.3660818166096025,7.4140910357959635,7.459900571827258,7.5037031944856505,7.545667393584683,7.585941292722623],\"y\":[0.005488705381958923,0.005408613625628373,0.005334185240709665,0.005264907979450011,0.005200248624036614,0.005139712395762988,0.005082859383341943,0.005029305126989453,0.004978715694264521,0.004930801294792706,0.0048853099956306925,0.004842022085684696,0.004800745222716737,0.004761310332613908,0.0047235681737013,0.004687386466716859,0.004652647496983305,0.004619246107187571,0.004587088012095559,0.004556088378448394],\"type\":\"scatter\"},{\"line\":{\"color\":\"rgba(251, 128, 114, 0.2999999999999999)\",\"dash\":\"solid\",\"shape\":\"linear\",\"width\":1.3},\"mode\":\"lines\",\"name\":\"Yucca\",\"text\":\"\",\"x\":[6.199646931602732,6.346250405794607,6.474083777304492,6.587412462611495,6.689195156921437,6.781568477052453,6.866125865080516,6.944087406550228,7.016408068129854,7.083849348925386,7.147028250546918,7.206451671017719,7.262541137668762,7.315650962982711,7.3660818166096025,7.4140910357959635,7.459900571827258,7.5037031944856505,7.545667393584683,7.585941292722623],\"y\":[0.004012084143515959,0.003852904615845988,0.003716160657891861,0.0035967151809313635,0.003490982789793453,0.00339636649279426,0.0033109278516633305,0.0032331835926573916,0.0031619747694302857,0.003096379565051444,0.003035653405603613,0.0029791867548484333,0.002926474694334323,0.0028770945616324014,0.0028306892230094073,0.00278695436483805,0.0027456287026965042,0.0027064863428212338,0.00266933075438241,0.0026339899631786044],\"type\":\"scatter\"}],                        {\"legend\":{\"bgcolor\":\"#F5F6F9\",\"font\":{\"color\":\"#4D5663\"}},\"paper_bgcolor\":\"#F5F6F9\",\"plot_bgcolor\":\"#F5F6F9\",\"template\":{\"data\":{\"barpolar\":[{\"marker\":{\"line\":{\"color\":\"#E5ECF6\",\"width\":0.5},\"pattern\":{\"fillmode\":\"overlay\",\"size\":10,\"solidity\":0.2}},\"type\":\"barpolar\"}],\"bar\":[{\"error_x\":{\"color\":\"#2a3f5f\"},\"error_y\":{\"color\":\"#2a3f5f\"},\"marker\":{\"line\":{\"color\":\"#E5ECF6\",\"width\":0.5},\"pattern\":{\"fillmode\":\"overlay\",\"size\":10,\"solidity\":0.2}},\"type\":\"bar\"}],\"carpet\":[{\"aaxis\":{\"endlinecolor\":\"#2a3f5f\",\"gridcolor\":\"white\",\"linecolor\":\"white\",\"minorgridcolor\":\"white\",\"startlinecolor\":\"#2a3f5f\"},\"baxis\":{\"endlinecolor\":\"#2a3f5f\",\"gridcolor\":\"white\",\"linecolor\":\"white\",\"minorgridcolor\":\"white\",\"startlinecolor\":\"#2a3f5f\"},\"type\":\"carpet\"}],\"choropleth\":[{\"colorbar\":{\"outlinewidth\":0,\"ticks\":\"\"},\"type\":\"choropleth\"}],\"contourcarpet\":[{\"colorbar\":{\"outlinewidth\":0,\"ticks\":\"\"},\"type\":\"contourcarpet\"}],\"contour\":[{\"colorbar\":{\"outlinewidth\":0,\"ticks\":\"\"},\"colorscale\":[[0.0,\"#0d0887\"],[0.1111111111111111,\"#46039f\"],[0.2222222222222222,\"#7201a8\"],[0.3333333333333333,\"#9c179e\"],[0.4444444444444444,\"#bd3786\"],[0.5555555555555556,\"#d8576b\"],[0.6666666666666666,\"#ed7953\"],[0.7777777777777778,\"#fb9f3a\"],[0.8888888888888888,\"#fdca26\"],[1.0,\"#f0f921\"]],\"type\":\"contour\"}],\"heatmapgl\":[{\"colorbar\":{\"outlinewidth\":0,\"ticks\":\"\"},\"colorscale\":[[0.0,\"#0d0887\"],[0.1111111111111111,\"#46039f\"],[0.2222222222222222,\"#7201a8\"],[0.3333333333333333,\"#9c179e\"],[0.4444444444444444,\"#bd3786\"],[0.5555555555555556,\"#d8576b\"],[0.6666666666666666,\"#ed7953\"],[0.7777777777777778,\"#fb9f3a\"],[0.8888888888888888,\"#fdca26\"],[1.0,\"#f0f921\"]],\"type\":\"heatmapgl\"}],\"heatmap\":[{\"colorbar\":{\"outlinewidth\":0,\"ticks\":\"\"},\"colorscale\":[[0.0,\"#0d0887\"],[0.1111111111111111,\"#46039f\"],[0.2222222222222222,\"#7201a8\"],[0.3333333333333333,\"#9c179e\"],[0.4444444444444444,\"#bd3786\"],[0.5555555555555556,\"#d8576b\"],[0.6666666666666666,\"#ed7953\"],[0.7777777777777778,\"#fb9f3a\"],[0.8888888888888888,\"#fdca26\"],[1.0,\"#f0f921\"]],\"type\":\"heatmap\"}],\"histogram2dcontour\":[{\"colorbar\":{\"outlinewidth\":0,\"ticks\":\"\"},\"colorscale\":[[0.0,\"#0d0887\"],[0.1111111111111111,\"#46039f\"],[0.2222222222222222,\"#7201a8\"],[0.3333333333333333,\"#9c179e\"],[0.4444444444444444,\"#bd3786\"],[0.5555555555555556,\"#d8576b\"],[0.6666666666666666,\"#ed7953\"],[0.7777777777777778,\"#fb9f3a\"],[0.8888888888888888,\"#fdca26\"],[1.0,\"#f0f921\"]],\"type\":\"histogram2dcontour\"}],\"histogram2d\":[{\"colorbar\":{\"outlinewidth\":0,\"ticks\":\"\"},\"colorscale\":[[0.0,\"#0d0887\"],[0.1111111111111111,\"#46039f\"],[0.2222222222222222,\"#7201a8\"],[0.3333333333333333,\"#9c179e\"],[0.4444444444444444,\"#bd3786\"],[0.5555555555555556,\"#d8576b\"],[0.6666666666666666,\"#ed7953\"],[0.7777777777777778,\"#fb9f3a\"],[0.8888888888888888,\"#fdca26\"],[1.0,\"#f0f921\"]],\"type\":\"histogram2d\"}],\"histogram\":[{\"marker\":{\"pattern\":{\"fillmode\":\"overlay\",\"size\":10,\"solidity\":0.2}},\"type\":\"histogram\"}],\"mesh3d\":[{\"colorbar\":{\"outlinewidth\":0,\"ticks\":\"\"},\"type\":\"mesh3d\"}],\"parcoords\":[{\"line\":{\"colorbar\":{\"outlinewidth\":0,\"ticks\":\"\"}},\"type\":\"parcoords\"}],\"pie\":[{\"automargin\":true,\"type\":\"pie\"}],\"scatter3d\":[{\"line\":{\"colorbar\":{\"outlinewidth\":0,\"ticks\":\"\"}},\"marker\":{\"colorbar\":{\"outlinewidth\":0,\"ticks\":\"\"}},\"type\":\"scatter3d\"}],\"scattercarpet\":[{\"marker\":{\"colorbar\":{\"outlinewidth\":0,\"ticks\":\"\"}},\"type\":\"scattercarpet\"}],\"scattergeo\":[{\"marker\":{\"colorbar\":{\"outlinewidth\":0,\"ticks\":\"\"}},\"type\":\"scattergeo\"}],\"scattergl\":[{\"marker\":{\"colorbar\":{\"outlinewidth\":0,\"ticks\":\"\"}},\"type\":\"scattergl\"}],\"scattermapbox\":[{\"marker\":{\"colorbar\":{\"outlinewidth\":0,\"ticks\":\"\"}},\"type\":\"scattermapbox\"}],\"scatterpolargl\":[{\"marker\":{\"colorbar\":{\"outlinewidth\":0,\"ticks\":\"\"}},\"type\":\"scatterpolargl\"}],\"scatterpolar\":[{\"marker\":{\"colorbar\":{\"outlinewidth\":0,\"ticks\":\"\"}},\"type\":\"scatterpolar\"}],\"scatter\":[{\"fillpattern\":{\"fillmode\":\"overlay\",\"size\":10,\"solidity\":0.2},\"type\":\"scatter\"}],\"scatterternary\":[{\"marker\":{\"colorbar\":{\"outlinewidth\":0,\"ticks\":\"\"}},\"type\":\"scatterternary\"}],\"surface\":[{\"colorbar\":{\"outlinewidth\":0,\"ticks\":\"\"},\"colorscale\":[[0.0,\"#0d0887\"],[0.1111111111111111,\"#46039f\"],[0.2222222222222222,\"#7201a8\"],[0.3333333333333333,\"#9c179e\"],[0.4444444444444444,\"#bd3786\"],[0.5555555555555556,\"#d8576b\"],[0.6666666666666666,\"#ed7953\"],[0.7777777777777778,\"#fb9f3a\"],[0.8888888888888888,\"#fdca26\"],[1.0,\"#f0f921\"]],\"type\":\"surface\"}],\"table\":[{\"cells\":{\"fill\":{\"color\":\"#EBF0F8\"},\"line\":{\"color\":\"white\"}},\"header\":{\"fill\":{\"color\":\"#C8D4E3\"},\"line\":{\"color\":\"white\"}},\"type\":\"table\"}]},\"layout\":{\"annotationdefaults\":{\"arrowcolor\":\"#2a3f5f\",\"arrowhead\":0,\"arrowwidth\":1},\"autotypenumbers\":\"strict\",\"coloraxis\":{\"colorbar\":{\"outlinewidth\":0,\"ticks\":\"\"}},\"colorscale\":{\"diverging\":[[0,\"#8e0152\"],[0.1,\"#c51b7d\"],[0.2,\"#de77ae\"],[0.3,\"#f1b6da\"],[0.4,\"#fde0ef\"],[0.5,\"#f7f7f7\"],[0.6,\"#e6f5d0\"],[0.7,\"#b8e186\"],[0.8,\"#7fbc41\"],[0.9,\"#4d9221\"],[1,\"#276419\"]],\"sequential\":[[0.0,\"#0d0887\"],[0.1111111111111111,\"#46039f\"],[0.2222222222222222,\"#7201a8\"],[0.3333333333333333,\"#9c179e\"],[0.4444444444444444,\"#bd3786\"],[0.5555555555555556,\"#d8576b\"],[0.6666666666666666,\"#ed7953\"],[0.7777777777777778,\"#fb9f3a\"],[0.8888888888888888,\"#fdca26\"],[1.0,\"#f0f921\"]],\"sequentialminus\":[[0.0,\"#0d0887\"],[0.1111111111111111,\"#46039f\"],[0.2222222222222222,\"#7201a8\"],[0.3333333333333333,\"#9c179e\"],[0.4444444444444444,\"#bd3786\"],[0.5555555555555556,\"#d8576b\"],[0.6666666666666666,\"#ed7953\"],[0.7777777777777778,\"#fb9f3a\"],[0.8888888888888888,\"#fdca26\"],[1.0,\"#f0f921\"]]},\"colorway\":[\"#636efa\",\"#EF553B\",\"#00cc96\",\"#ab63fa\",\"#FFA15A\",\"#19d3f3\",\"#FF6692\",\"#B6E880\",\"#FF97FF\",\"#FECB52\"],\"font\":{\"color\":\"#2a3f5f\"},\"geo\":{\"bgcolor\":\"white\",\"lakecolor\":\"white\",\"landcolor\":\"#E5ECF6\",\"showlakes\":true,\"showland\":true,\"subunitcolor\":\"white\"},\"hoverlabel\":{\"align\":\"left\"},\"hovermode\":\"closest\",\"mapbox\":{\"style\":\"light\"},\"paper_bgcolor\":\"white\",\"plot_bgcolor\":\"#E5ECF6\",\"polar\":{\"angularaxis\":{\"gridcolor\":\"white\",\"linecolor\":\"white\",\"ticks\":\"\"},\"bgcolor\":\"#E5ECF6\",\"radialaxis\":{\"gridcolor\":\"white\",\"linecolor\":\"white\",\"ticks\":\"\"}},\"scene\":{\"xaxis\":{\"backgroundcolor\":\"#E5ECF6\",\"gridcolor\":\"white\",\"gridwidth\":2,\"linecolor\":\"white\",\"showbackground\":true,\"ticks\":\"\",\"zerolinecolor\":\"white\"},\"yaxis\":{\"backgroundcolor\":\"#E5ECF6\",\"gridcolor\":\"white\",\"gridwidth\":2,\"linecolor\":\"white\",\"showbackground\":true,\"ticks\":\"\",\"zerolinecolor\":\"white\"},\"zaxis\":{\"backgroundcolor\":\"#E5ECF6\",\"gridcolor\":\"white\",\"gridwidth\":2,\"linecolor\":\"white\",\"showbackground\":true,\"ticks\":\"\",\"zerolinecolor\":\"white\"}},\"shapedefaults\":{\"line\":{\"color\":\"#2a3f5f\"}},\"ternary\":{\"aaxis\":{\"gridcolor\":\"white\",\"linecolor\":\"white\",\"ticks\":\"\"},\"baxis\":{\"gridcolor\":\"white\",\"linecolor\":\"white\",\"ticks\":\"\"},\"bgcolor\":\"#E5ECF6\",\"caxis\":{\"gridcolor\":\"white\",\"linecolor\":\"white\",\"ticks\":\"\"}},\"title\":{\"x\":0.05},\"xaxis\":{\"automargin\":true,\"gridcolor\":\"white\",\"linecolor\":\"white\",\"ticks\":\"\",\"title\":{\"standoff\":15},\"zerolinecolor\":\"white\",\"zerolinewidth\":2},\"yaxis\":{\"automargin\":true,\"gridcolor\":\"white\",\"linecolor\":\"white\",\"ticks\":\"\",\"title\":{\"standoff\":15},\"zerolinecolor\":\"white\",\"zerolinewidth\":2}}},\"title\":{\"font\":{\"color\":\"#4D5663\"}},\"xaxis\":{\"gridcolor\":\"#E1E5ED\",\"showgrid\":true,\"tickfont\":{\"color\":\"#4D5663\"},\"title\":{\"font\":{\"color\":\"#4D5663\"},\"text\":\"\"},\"zerolinecolor\":\"#E1E5ED\"},\"yaxis\":{\"gridcolor\":\"#E1E5ED\",\"showgrid\":true,\"tickfont\":{\"color\":\"#4D5663\"},\"title\":{\"font\":{\"color\":\"#4D5663\"},\"text\":\"\"},\"zerolinecolor\":\"#E1E5ED\"}},                        {\"showLink\": true, \"linkText\": \"Export to plot.ly\", \"plotlyServerURL\": \"https://plot.ly\", \"responsive\": true}                    ).then(function(){\n",
       "                            \n",
       "var gd = document.getElementById('5d86f897-7e9f-45e5-afce-82bb24d2558f');\n",
       "var x = new MutationObserver(function (mutations, observer) {{\n",
       "        var display = window.getComputedStyle(gd).display;\n",
       "        if (!display || display === 'none') {{\n",
       "            console.log([gd, 'removed!']);\n",
       "            Plotly.purge(gd);\n",
       "            observer.disconnect();\n",
       "        }}\n",
       "}});\n",
       "\n",
       "// Listen for the removal of the full notebook cells\n",
       "var notebookContainer = gd.closest('#notebook-container');\n",
       "if (notebookContainer) {{\n",
       "    x.observe(notebookContainer, {childList: true});\n",
       "}}\n",
       "\n",
       "// Listen for the clearing of the current output cell\n",
       "var outputEl = gd.closest('.output');\n",
       "if (outputEl) {{\n",
       "    x.observe(outputEl, {childList: true});\n",
       "}}\n",
       "\n",
       "                        })                };                });            </script>        </div>"
      ]
     },
     "metadata": {},
     "output_type": "display_data"
    }
   ],
   "source": [
    "df.iplot()"
   ]
  },
  {
   "cell_type": "markdown",
   "id": "ad6a14ca-69ad-4c15-bacf-755fae48a9b4",
   "metadata": {},
   "source": [
    "Turn off Milk, Beef, Avocado to see more details. "
   ]
  },
  {
   "cell_type": "markdown",
   "id": "ca57b995-ff29-4062-8462-5d8d67c2f9ec",
   "metadata": {},
   "source": [
    "#### Indirect Utility"
   ]
  },
  {
   "cell_type": "code",
   "execution_count": 48,
   "id": "3ad8a34d-2a00-493b-bcd7-024ba19862cc",
   "metadata": {},
   "outputs": [
    {
     "data": {
      "text/plain": [
       "Text(0.5, 1.0, 'Indirect Utility Function')"
      ]
     },
     "execution_count": 48,
     "metadata": {},
     "output_type": "execute_result"
    },
    {
     "data": {
      "image/png": "[encoded data removed]",
      "text/plain": [
       "<Figure size 640x480 with 1 Axes>"
      ]
     },
     "metadata": {},
     "output_type": "display_data"
    }
   ],
   "source": [
    "fig,ax = plt.subplots()\n",
    "\n",
    "ax.plot(scale*xref,[result.indirect_utility(s*xref,pbar) for s in scale])\n",
    "ax.set_xlabel(f'Indirect Utility (Budget relative to base of {xref:.0f}')\n",
    "ax.set_ylabel(f'Utility')\n",
    "ax.set_title('Indirect Utility Function')"
   ]
  }
 ],
 "metadata": {
  "kernelspec": {
   "display_name": "Python 3 (ipykernel)",
   "language": "python",
   "name": "python3"
  },
  "language_info": {
   "codemirror_mode": {
    "name": "ipython",
    "version": 3
   },
   "file_extension": ".py",
   "mimetype": "text/x-python",
   "name": "python",
   "nbconvert_exporter": "python",
   "pygments_lexer": "ipython3",
   "version": "3.9.15"
  }
 },
 "nbformat": 4,
 "nbformat_minor": 5
}
